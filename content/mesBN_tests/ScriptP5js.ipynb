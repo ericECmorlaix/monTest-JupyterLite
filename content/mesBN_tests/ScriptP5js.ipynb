{
 "cells": [
  {
   "cell_type": "markdown",
   "metadata": {},
   "source": [
    "## Un Bloc Note pour tester des Script P5js en mode interractif dans un jupyter notebook"
   ]
  },
  {
   "cell_type": "markdown",
   "metadata": {},
   "source": [
    "La cellule suivante contient le code à exécuter pour qu'un script P5.js fonctionne dans une cellule de jupyter notebook avec un noyau Python3.\n",
    "\n",
    "Source :  [Jupyter at Bryn Mawr College - Testing a P5 Javascript magic in a Python kernel](https://jupyter.brynmawr.edu/services/public/dblank/jupyter.cs/Testing%20P5%20in%20Javascript.ipynb)"
   ]
  },
  {
   "cell_type": "code",
   "execution_count": null,
   "metadata": {
    "collapsed": true
   },
   "outputs": [],
   "source": [
    "from IPython.core.magic import register_cell_magic\n",
    "from IPython.display import IFrame\n",
    "\n",
    "TEMPLATE = \"\"\"\n",
    "<html>\n",
    "<head>\n",
    "<script src=\"https://cdnjs.cloudflare.com/ajax/libs/p5.js/0.4.6/p5.js\"></script>\n",
    "<script src=\"https://cdnjs.cloudflare.com/ajax/libs/p5.js/0.4.6/addons/p5.dom.js\"></script>\n",
    "<script src=\"https://cdnjs.cloudflare.com/ajax/libs/p5.js/0.4.6/addons/p5.sound.js\"></script>\n",
    "\n",
    "</head>\n",
    "<body>\n",
    "<h3>Script: %(name)s</h3>\n",
    "<script>\n",
    "%(script)s\n",
    "</script>\n",
    "</body>\n",
    "</html>\n",
    "\"\"\"\n",
    "\n",
    "COUNT = 0\n",
    "\n",
    "@register_cell_magic\n",
    "def p5(line, cell):\n",
    "    global COUNT\n",
    "    filename = \"p5-%s.html\" % COUNT\n",
    "    COUNT += 1\n",
    "    with open(filename, \"w\") as fp:\n",
    "        fp.write(TEMPLATE % {\"script\": cell, \"name\": filename})\n",
    "    return IFrame(filename, width=\"100%\", height=\"400\")\n",
    "\n",
    "del p5\n"
   ]
  },
  {
   "cell_type": "markdown",
   "metadata": {},
   "source": [
    "Le résultat s'affiche dans un Iframe qui apparait sous la cellule contenant le script à tester.\n",
    "Penser à adapter la hauteur de l'Iframe si besoin dans le script ci-dessus, et à mettre à jour les adresses de dépot des librairies P5."
   ]
  },
  {
   "cell_type": "markdown",
   "metadata": {},
   "source": [
    "## Exemple interactif de base :"
   ]
  },
  {
   "cell_type": "code",
   "execution_count": null,
   "metadata": {},
   "outputs": [],
   "source": [
    "%%p5\n",
    "\n",
    "function setup() {\n",
    "  createCanvas(900, 300);\n",
    "  fill(0,255,255);  \n",
    "}\n",
    "\n",
    "function draw() {\n",
    "  ellipse(mouseX, mouseY, 80, 80);\n",
    "}"
   ]
  },
  {
   "cell_type": "markdown",
   "metadata": {},
   "source": [
    "## Exemple de capture de video avec traitement"
   ]
  },
  {
   "cell_type": "code",
   "execution_count": null,
   "metadata": {},
   "outputs": [],
   "source": [
    "%%p5 \n",
    "\n",
    "var capture;\n",
    "\n",
    "function setup() {\n",
    "  createCanvas(440, 330);\n",
    "  capture = createCapture(VIDEO);\n",
    "  capture.size(440, 330);\n",
    "  //capture.hide();\n",
    "}\n",
    "\n",
    "function draw() {\n",
    "  background(0);\n",
    "  image(capture, 0, 0, 440, 330);\n",
    "  filter('INVERT');\n",
    "}"
   ]
  },
  {
   "cell_type": "markdown",
   "metadata": {
    "collapsed": true
   },
   "source": [
    "## Exemple d'un petit jeu un peu casse tête :"
   ]
  },
  {
   "cell_type": "markdown",
   "metadata": {},
   "source": [
    "L'objectif est de permutter les pions bleu avec les pions rouges en respectant les règles suivantes :\n",
    "\n",
    "- un pion peut se déplacer si la case devant lui est vide ;\n",
    "- ou s'il se trouve devant un pion de couleur opposé suivi d'une case vide ;\n",
    "- un pion ne peut pas sauter un pion de la même couleur que lui ;\n",
    "- les pions bleus peuvent se déplacer uniquement vers la droite et les pions rouges uniquement vers la gauche. \n",
    "\n",
    "Pour déplacer un pion, il suffit de cliquer dessus. La barre d'espace réinitialise le casse tête.\n",
    "\n",
    "Le jeu peut se résoudre en 15 coups.\n",
    "\n",
    "A vous de jouer..."
   ]
  },
  {
   "cell_type": "code",
   "execution_count": null,
   "metadata": {},
   "outputs": [],
   "source": [
    "%%p5\n",
    "var pions = [\"bleu\", \"bleu\", \"bleu\", \"vide\", \"rouge\", \"rouge\", \"rouge\"];\n",
    "var a;\n",
    "var compteur = 0;\n",
    "\n",
    "function setup(){\n",
    "    createCanvas(900,200);\n",
    "    noStroke();\n",
    "}\n",
    "\n",
    "\n",
    "//si la barre d espace est pressee, la page est rafraichie et le jeu redemarre javascript\n",
    "function keyPressed() {\n",
    "  if (keyCode == 32) {\n",
    "    location.reload(true);//fonction javascript pure\n",
    "  }\n",
    "}\n",
    "\n",
    "\n",
    "function mousePressed(){\n",
    "    //operateurs booleen; Definition des coordonees de la souris, en affectant une valeur a en fonction de l abcisse\n",
    "    if((mouseY>35) && (mouseY<165) && (mouseX>=30) && (mouseX<=870)) {\n",
    "        var positionX = mouseX-20;\n",
    "        a = floor(positionX/120);\n",
    "    }\n",
    "    //Definition des regles, changement de couleur des pions avec la liste var pions\n",
    "    if((pions[a] == \"bleu\") && (pions[a+1] == \"vide\")){\n",
    "        pions[a+1] = \"bleu\";\n",
    "        pions[a] = \"vide\";\n",
    "    }\n",
    "\n",
    "    if((pions[a] == \"rouge\") && (pions[a-1] == \"vide\")){\n",
    "        pions[a-1] = \"rouge\";\n",
    "        pions[a] =\"vide\";\n",
    "    }\n",
    "\n",
    "    if((pions[a] == \"bleu\") && (pions[a+1] == \"rouge\") && (pions[a+2] == \"vide\")){\n",
    "        pions[a+2] = \"bleu\";\n",
    "        pions[a] = \"vide\";\n",
    "    }\n",
    "    if((pions[a] == \"rouge\") && (pions[a-1] == \"bleu\") && (pions[a-2] == \"vide\")){\n",
    "        pions[a-2] = \"rouge\";\n",
    "        pions[a] =\"vide\";\n",
    "    }\n",
    "\n",
    "    if( (pions[6] == \"bleu\") && (pions[5] == \"bleu\") && (pions[4] == \"bleu\") && (pions[2] == \"rouge\") && (pions[1] == \"rouge\") && (pions[0] == \"rouge\")){\n",
    "        alert(\"Bien joue !\");\n",
    "    }\n",
    "    compteur = compteur + 1;\n",
    "}\n",
    "\n",
    "\n",
    "function mouseMoved() {\n",
    "\n",
    "    if((mouseX>752) && (mouseX<868) && (mouseY>35) && (mouseY<165)){\n",
    "        cursor(HAND);\n",
    "    }\n",
    "    else if((mouseX>632) && (mouseX<748) && (mouseY>35) && (mouseY<165)){\n",
    "        cursor(HAND);\n",
    "    }\n",
    "    else if((mouseX>512) && (mouseX<628) && (mouseY>35) && (mouseY<165)){\n",
    "        cursor(HAND);\n",
    "    }\n",
    "    else if((mouseX>392) && (mouseX<58) && (mouseY>35) && (mouseY<165)){\n",
    "        cursor(HAND);\n",
    "    }\n",
    "    else if((mouseX>272) && (mouseX<388) && (mouseY>35) && (mouseY<165)){\n",
    "        cursor(HAND);\n",
    "    }\n",
    "    else if((mouseX>152) && (mouseX<268) && (mouseY>35) && (mouseY<165)){\n",
    "        cursor(HAND);\n",
    "    }\n",
    "    else if((mouseX>32) && (mouseX<148) && (mouseY>35) && (mouseY<165)){\n",
    "        cursor(HAND);\n",
    "    }\n",
    "    else{\n",
    "        cursor(ARROW);\n",
    "    }\n",
    "  }\n",
    "\n",
    "\n",
    "function draw(){\n",
    "    background(color(230));\n",
    "\n",
    "    //affiche les pions et leur couleur\n",
    "    for(var i=0; i<7; i=i+1){\n",
    "        if(pions[i] == \"bleu\"){\n",
    "            fill(0, 0, 255);\n",
    "        }\n",
    "        else if(pions[i] == \"rouge\"){\n",
    "            fill(255, 0, 0);\n",
    "        }\n",
    "        if(pions[i] != \"vide\"){\n",
    "            ellipse(90+i*120,100,118,118);\n",
    "        }\n",
    "\n",
    "    }\n",
    "\n",
    "    //affiche un compteur de cliques \n",
    "    fill(0);\n",
    "    textSize(24);\n",
    "    text(compteur, 10, 30);\n",
    "\n",
    "}\n"
   ]
  },
  {
   "cell_type": "markdown",
   "metadata": {
    "collapsed": true
   },
   "source": [
    "## A vous de jouer :\n",
    "Saisir votre script P5.js dans la cellule suivante après l'instruction `%%p5`, jupyter affichera le résultat automatiquement..."
   ]
  },
  {
   "cell_type": "code",
   "execution_count": null,
   "metadata": {},
   "outputs": [],
   "source": [
    "%%p5\n"
   ]
  },
  {
   "cell_type": "markdown",
   "metadata": {},
   "source": [
    "## Ressources :\n",
    "* [Référence P5js](https://p5js.org/reference/)\n",
    "* [Exemples P5js](https://p5js.org/examples/)\n",
    "* [Apprentissage JavaScript en ligne avec P5js](http://2icn.si.lycee.ecmorlaix.fr/APprentissageJavaScriptP5/)\n",
    "* [Activités de Design graphique du Lycée le Corbusier](http://www.lyceelecorbusier.eu/p5js/)\n",
    "* [Les activités de David ROCHE avec p5.js](http://www.ac-grenoble.fr/disciplines/informatiquelycee/p5index.html)\n",
    "* [Les vidéos de Daniel SHIFFMAN](http://shiffman.net/)\n",
    "* [Le tutoriel de la couverture d'un livre sur p5.js](https://css-tricks.com/creating-book-cover-using-javascript-p5-js/)\n",
    "* [Un tutoriel pour faire tomber la neige](http://icn.lec.ac-grenoble.fr/index.php?page=p5js_neige_un_flocon&activite=p5js_neige)\n",
    "\n"
   ]
  },
  {
   "cell_type": "code",
   "execution_count": null,
   "metadata": {
    "collapsed": true
   },
   "outputs": [],
   "source": []
  }
 ],
 "metadata": {
  "kernelspec": {
   "display_name": "Python 3",
   "language": "python",
   "name": "python3"
  },
  "language_info": {
   "codemirror_mode": {
    "name": "ipython",
    "version": 3
   },
   "file_extension": ".py",
   "mimetype": "text/x-python",
   "name": "python",
   "nbconvert_exporter": "python",
   "pygments_lexer": "ipython3",
   "version": "3.6.5"
  }
 },
 "nbformat": 4,
 "nbformat_minor": 2
}
