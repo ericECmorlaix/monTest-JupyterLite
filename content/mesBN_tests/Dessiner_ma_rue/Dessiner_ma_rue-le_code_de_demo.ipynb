{
 "cells": [
  {
   "cell_type": "code",
   "execution_count": 1,
   "metadata": {},
   "outputs": [
    {
     "data": {
      "application/vnd.jupyter.widget-view+json": {
       "model_id": "91464787015042f683798f6d225000cc",
       "version_major": 2,
       "version_minor": 0
      },
      "text/plain": [
       "Canvas(height=400, width=800)"
      ]
     },
     "metadata": {},
     "output_type": "display_data"
    }
   ],
   "source": [
    "# Un programme pour générer « aléatoirement » le dessin d’une rue de 4 immeubles dans un notebook jupyter.\n",
    "# Developpement correspondant à un niveau de première NSI environ au milieu de premier trimestre\n",
    "\n",
    "# Dépendances\n",
    "from math import pi\n",
    "from random import randint\n",
    "\n",
    "# ipycancas de Martin RENOU pour des canvas interractifs dans jupyter\n",
    "# Depot : https://github.com/martinRenou/ipycanvas\n",
    "# Documentation : https://ipycanvas.readthedocs.io/en/latest/ \n",
    "from ipycanvas import Canvas \n",
    "\n",
    "\n",
    "# Définitions \n",
    "\n",
    "# Création d'un canvas nommé rue de 800 pixels de large par 400 pixels de haut\n",
    "rue = Canvas(width = 800 , height = 400)\n",
    "\n",
    "def affiche(canvas) :\n",
    "    '''\n",
    "    Efface et affiche le canvas dans le notebook\n",
    "    '''\n",
    "    canvas.clear()\n",
    "    display(canvas) \n",
    "\n",
    "def trait(x1,y1,x2,y2):\n",
    "    '''\n",
    "    dessine un trait entre les 2 points transmis en paramètres\n",
    "    Paramètres\n",
    "        x1, y1 : coordonnées du début du trait\n",
    "        x2, y2 : coordonnées de la fin du trait\n",
    "    \n",
    "    '''\n",
    "    rue.begin_path()\n",
    "    rue.move_to(x1,y1)\n",
    "    rue.line_to(x2,y2)\n",
    "    rue.stroke()\n",
    "\n",
    "def rectangle(x,y,w,h,c):\n",
    "    '''\n",
    "    Dessine un rectangle avec un contour noir et rempli de la couleur passée en paramètre\n",
    "    Paramètres\n",
    "        x, y : coordonnées du centre de la base de rectangle\n",
    "        w : largeur du rectangle\n",
    "        h : hauteur du rectangle\n",
    "        c : couleur du remplissage\n",
    "    '''\n",
    "    rue.line_width = 1\n",
    "    rue.fill_style = c\n",
    "    rue.fill_rect(x-w/2, y-h, w, h)\n",
    "    rue.stroke_rect(x-w/2, y-h, w, h)\n",
    "\n",
    "def couleur_aleatoire():\n",
    "    '''\n",
    "    Renvoie une couleur HTML valide\n",
    "    au format 'rgb(rouge, vert, bleu)'\n",
    "    où rouge, vert et bleu sont des entiers\n",
    "    compris entre 0 et 255 choisis aléatoirement.\n",
    "    \n",
    "    '''\n",
    "    rouge = randint(0,255)\n",
    "    vert = randint(0,255)\n",
    "    bleu = randint(0,255)\n",
    "    return f'rgb({rouge},{vert},{bleu})'\n",
    "\n",
    "def sol():\n",
    "    '''\n",
    "    Trace une ligne horizontale au niveau du sol de la rue\n",
    "    d'épaisseur 3 pixels et de longueur 760 pixels\n",
    "    centrée dans le canvas\n",
    "            \n",
    "    '''\n",
    "    y_sol = rue.height-1 # ordonnée du sol de la rue\n",
    "    rue.line_width = 3\n",
    "    trait(20, y_sol , rue.width-40, y_sol)\n",
    "\n",
    "def portes(x,y):\n",
    "    '''\n",
    "    Dessine une porte de 50 pixels en largeur et 70 pixels en hauteur\n",
    "    La forme du haut de la porte est aléatoirement rectangulaire ou arrondi\n",
    "    La couleur pleine de remplissage est choisi aléatoirement parmi les couleurs HTML valides\n",
    "    Paramètres :\n",
    "        x est l'abcisse du milieu de la base de la porte\n",
    "        y est l'ordonnée du sol du niveau de la porte        \n",
    "    '''          \n",
    "    if randint(1, 2) == 1 :\n",
    "        rectangle(x, y, 30, 50, couleur_aleatoire())\n",
    "    else :\n",
    "        rue.begin_path()\n",
    "        rue.move_to(x+15, y)\n",
    "        rue.line_to(x-15, y)\n",
    "        rue.arc(x, y-35, 15, pi, 2*pi, False)\n",
    "        rue.close_path()\n",
    "        rue.fill_style = couleur_aleatoire()\n",
    "        rue.fill()\n",
    "        rue.stroke()   \n",
    "\n",
    "def facade(x, couleur, niveau):\n",
    "    '''\n",
    "    Dessine un rectangle de 60 pixels de haut et 140 pixels de large\n",
    "    Paramètres :\n",
    "        x : abcisse du centre de la façade\n",
    "        couleur : couleur de la façade choisie par l'immeuble\n",
    "        niveau : numéro du niveau (0 pour les rdc, ...)\n",
    "    '''\n",
    "    y = rue.height - niveau * 60 # ordonnée de la base de la facade\n",
    "    rectangle(x, y, 140, 60, couleur)    \n",
    "\n",
    "def fenetre(x,y):\n",
    "    '''\n",
    "    Dessine une fenêtre de taille 30 pixels sur 30 pixels\n",
    "    avec une vitre de couleur 'Azure' le jour\n",
    "    et un contour noir. \n",
    "    Paramètres :\n",
    "        x est l'abcisse du milieu de la base de la fenêtre\n",
    "        y est l'ordonnée du sol du niveau de la fenetre\n",
    "    '''    \n",
    "    rectangle(x,y-20,30,30, 'Azure')\n",
    "\n",
    "def balcon(x,y):\n",
    "    '''\n",
    "    Dessine une porte fenêtre de largeur 30 pixels et 50 pixels en hauteur\n",
    "    avec une vitre de couleur 'Azure' le jour au contour noir,\n",
    "    devancé d'un balcon constitué de traits noirs d'épaisseur 3 pixels.\n",
    "    Paramètres :\n",
    "        x est l'abcisse du milieu de la base de la porte-fenetre\n",
    "        y est l'ordonnée du sol du niveau de la porte-fenetre\n",
    "    '''\n",
    "    # porte-fenetre\n",
    "    rue.line_width = 1\n",
    "    rectangle(x,y,30,50,'Azure')\n",
    "    \n",
    "    # balcon\n",
    "    rue.line_width = 3\n",
    "    rue.line_cap = 'round'\n",
    "    for i in range(0,9):\n",
    "        trait(x-20+i*5,y,x-20+i*5,y-25)\n",
    "    trait(x-20,y,x+20,y)\n",
    "    trait(x-20,y-25,x+20,y-25)\n",
    "    rue.line_width = 1\n",
    "    \n",
    "def rdc(x, couleur):\n",
    "    '''\n",
    "    Dessine le rdc sur une facade au niveau do sol de la rue\n",
    "    avec une seule porte et 2 fenêtres placées aléatoirement.\n",
    "    Paramètres\n",
    "        x : abscisse du milieu de la base du RDC\n",
    "        couleur : couleur fixée par l'immeuble        \n",
    "    '''\n",
    "    # Dessine la facade\n",
    "    facade(x, couleur, 0)\n",
    "    \n",
    "    # Choix d'une distribution :\n",
    "    # => réinvestissement du CHIFOUMI, les parcours de str ont été vu mais pas les listes à ce stade ;\n",
    "    # proposer d'autres solutions de random sur les str en correction et évoquer les listes...\n",
    "    k = randint(1,3)\n",
    "    if k == 1 :\n",
    "        distribution = 'pff'\n",
    "    elif k == 2 :\n",
    "        distribution = 'fpf'\n",
    "    else :\n",
    "        distribution = 'ffp'\n",
    "\n",
    "    for i in range(-1,2) :\n",
    "        if distribution[i] == 'p' :  # dessiner une porte\n",
    "            portes(x+i*40, rue.height)\n",
    "        else:  # dessiner une fenetre\n",
    "            fenetre(x+i*40, rue.height)\n",
    "\n",
    "\n",
    "def etage(x, couleur, niveau):\n",
    "    '''\n",
    "    Dessine sur une facade un étage avec 3 éléments choisis aléatoirement\n",
    "    parmi une fenêtre ou une porte fenêtre avec balcon.  \n",
    "    \n",
    "    Paramètres\n",
    "        x : abscisse du milieu de la base de l'étage\n",
    "        couleur : couleur fixée par l'immeuble\n",
    "        niveau : numéro de l'étage en partant de 0 pour le rdc\n",
    "    '''\n",
    "    y = rue.height - niveau * 60 # ordonnée de la base de l'etage\n",
    "    \n",
    "    # Murs\n",
    "    rue.line_width = 1\n",
    "    facade(x, couleur, niveau)\n",
    "    # Eléments\n",
    "    for i in range(-1,2):\n",
    "        k = randint(0,1)\n",
    "        if k == 0 : # dessiner une fenetre\n",
    "            fenetre(x+i*40, y)\n",
    "        else : # dessiner une porte fenetre avec balcon\n",
    "            balcon(x+i*40, y)\n",
    "            rue.line_width = 1   \n",
    "\n",
    "            \n",
    "def toit1(x, niveau):\n",
    "    '''\n",
    "    Dessine un triangle plein de couleur noir de 40 pixels de haut\n",
    "    et avec une base de 160 pixels \n",
    "    Paramètres :\n",
    "        x : abcisse du centre du toit\n",
    "        niveau : numero du niveau (0 pour les rdc, ...)\n",
    "    '''\n",
    "    y = rue.height - niveau * 60 # ordonnée de la base du toit\n",
    "    rue.begin_path()\n",
    "    rue.move_to(x-80, y)\n",
    "    rue.line_to(x+80, y)\n",
    "    rue.line_to(x, y-40)\n",
    "    rue.close_path()\n",
    "    rue.fill_style = 'black'\n",
    "    rue.fill()    \n",
    "\n",
    "            \n",
    "def toit2(x, niveau):\n",
    "    '''\n",
    "    Paramètres :\n",
    "        x : abcisse du centre du toit\n",
    "        y_sol : ordonnée du sol du la rue\n",
    "        niveau : num du niveau (0 pour les rdc, ...)\n",
    "    '''\n",
    "    y = rue.height - niveau * 60 # ordonnée de la base du toit\n",
    "    # trait horizontal\n",
    "    rue.line_width = 10\n",
    "    rue.line_cap = 'round'\n",
    "    trait(x-70, y-5, x+70, y-5)\n",
    "    rue.line_width = 1\n",
    "    \n",
    "    \n",
    "def toits(x, niveau):\n",
    "    '''\n",
    "    Dessine aléatoirement un toit plat ou un toit en pointe\n",
    "    à l'ordonnée du niveau passé en paramètre\n",
    "    Paramètres\n",
    "        x : abscisse du centre de l'étage\n",
    "        y_sol: ordonnée du sol\n",
    "        niveau : numéro de l'étage en partant de 0 pour le rdc\n",
    "    '''        \n",
    "    if randint(1,2) == 1 :\n",
    "        toit1(x, niveau)\n",
    "    else:\n",
    "        toit2(x, niveau)\n",
    "        \n",
    "def immeuble(x):\n",
    "    '''\n",
    "    Dessine un immeuble selon les règles urbanistiques imposées\n",
    "    \n",
    "    Paramètres\n",
    "        x : abscisse du milieu de la base de l'immeuble\n",
    "        \n",
    "    '''\n",
    "    # Nombre d'étage (aléatoire)\n",
    "    nb_etages = randint(0,4)\n",
    "    #Couleur facade (aléatoire)\n",
    "    couleur_facade = couleur_aleatoire()\n",
    "    \n",
    "    # Dessin du RDC\n",
    "    rdc(x, couleur_facade)\n",
    "\n",
    "    # Dessin des étages\n",
    "    niveau = 1\n",
    "    while niveau <= nb_etages:\n",
    "        etage(x, couleur_facade,niveau)\n",
    "        niveau = niveau + 1\n",
    "\n",
    "    # Dessin du toit\n",
    "    toits(x, niveau)\n",
    "    \n",
    "def rue_finale(canvas):\n",
    "    \n",
    "    # Affichage de ma rue\n",
    "    affiche(canvas)\n",
    "        \n",
    "    # Dessin des immeubles\n",
    "    for i in range(4):\n",
    "        immeuble(120+i*180) \n",
    "        \n",
    "    # Dessin du sol de la rue\n",
    "    sol()    \n",
    "\n",
    "# Tests\n",
    "if __name__ == '__main__':\n",
    "    \n",
    "    rue_finale(rue)"
   ]
  },
  {
   "cell_type": "code",
   "execution_count": 2,
   "metadata": {},
   "outputs": [
    {
     "data": {
      "application/vnd.jupyter.widget-view+json": {
       "model_id": "91464787015042f683798f6d225000cc",
       "version_major": 2,
       "version_minor": 0
      },
      "text/plain": [
       "Canvas(height=400, width=800)"
      ]
     },
     "metadata": {},
     "output_type": "display_data"
    }
   ],
   "source": [
    "rue_finale(rue)"
   ]
  },
  {
   "cell_type": "code",
   "execution_count": 3,
   "metadata": {},
   "outputs": [
    {
     "data": {
      "application/vnd.jupyter.widget-view+json": {
       "model_id": "6646adbffed44d618b8a029ddcfed09d",
       "version_major": 2,
       "version_minor": 0
      },
      "text/plain": [
       "Canvas(height=400, width=800)"
      ]
     },
     "metadata": {},
     "output_type": "display_data"
    }
   ],
   "source": [
    "%run dessiner_ma_rue-demo.py"
   ]
  },
  {
   "cell_type": "markdown",
   "metadata": {},
   "source": [
    "## Autres exemples de scripts applicatifs :"
   ]
  },
  {
   "cell_type": "code",
   "execution_count": 12,
   "metadata": {},
   "outputs": [
    {
     "data": {
      "application/vnd.jupyter.widget-view+json": {
       "model_id": "ea6c831df77344288fb44fe9532a5359",
       "version_major": 2,
       "version_minor": 0
      },
      "text/plain": [
       "Canvas(height=400, width=800)"
      ]
     },
     "metadata": {},
     "output_type": "display_data"
    }
   ],
   "source": [
    "# Un tableau abstrait...\n",
    "affiche(rue)\n",
    "for i in range(5) :\n",
    "    for j in range(6) :\n",
    "        toits(0 + 200 * i, j)"
   ]
  },
  {
   "cell_type": "code",
   "execution_count": 13,
   "metadata": {},
   "outputs": [
    {
     "data": {
      "application/vnd.jupyter.widget-view+json": {
       "model_id": "ea6c831df77344288fb44fe9532a5359",
       "version_major": 2,
       "version_minor": 0
      },
      "text/plain": [
       "Canvas(height=400, width=800)"
      ]
     },
     "metadata": {},
     "output_type": "display_data"
    }
   ],
   "source": [
    "# Cadre de fils tendus\n",
    "\n",
    "# Affichage du canvas nommé rue\n",
    "affiche(rue)\n",
    "\n",
    "# Les pieds\n",
    "toit1(rue.width/4, 0)\n",
    "toit1(3*rue.width/4, 0)\n",
    "\n",
    "# Le cadre\n",
    "rectangle(rue.width/2, rue.height-40, rue.width/2, rue.height -80, couleur_aleatoire())\n",
    "\n",
    "# Un chapeau\n",
    "toit1(rue.width/2, 6)\n",
    "\n",
    "# Un carré de couleur 'snow' au centre du canvas\n",
    "c = rue.width/3 # longueur du coté\n",
    "# Coordonnées du milieu de la base du carré\n",
    "cx = rue.width/2\n",
    "cy = rue.height/2 + c/2\n",
    "rectangle(cx, cy , c, c, 'snow')\n",
    "\n",
    "# Figure de fils tendus dans le carré\n",
    "n = 30 #nombre de fils\n",
    "pas = c/n\n",
    "for k in range(1, n+1) :\n",
    "    trait(cx-c/2, cy-c + k*pas, cx-c/2 + k*pas, cy)\n",
    "for k in range(1, n+1) :\n",
    "    trait(cx-c/2 + k*pas, cy-c, cx+c/2, cy-c + k*pas)\n",
    "for k in range(1, n+1) :\n",
    "    trait(cx+c/2, cy-c + k*pas , cx+c/2 - k*pas, cy)\n",
    "for k in range(1, n+1) :\n",
    "    trait(cx-c/2, cy-c + k*pas , cx+c/2 - k*pas, cy-c) "
   ]
  },
  {
   "cell_type": "code",
   "execution_count": null,
   "metadata": {},
   "outputs": [],
   "source": []
  }
 ],
 "metadata": {
  "kernelspec": {
   "display_name": "Python 3",
   "language": "python",
   "name": "python3"
  },
  "language_info": {
   "codemirror_mode": {
    "name": "ipython",
    "version": 3
   },
   "file_extension": ".py",
   "mimetype": "text/x-python",
   "name": "python",
   "nbconvert_exporter": "python",
   "pygments_lexer": "ipython3",
   "version": "3.8.5"
  },
  "toc": {
   "base_numbering": 1,
   "nav_menu": {},
   "number_sections": true,
   "sideBar": true,
   "skip_h1_title": false,
   "title_cell": "Table of Contents",
   "title_sidebar": "Contents",
   "toc_cell": false,
   "toc_position": {},
   "toc_section_display": true,
   "toc_window_display": false
  },
  "varInspector": {
   "cols": {
    "lenName": 16,
    "lenType": 16,
    "lenVar": 40
   },
   "kernels_config": {
    "python": {
     "delete_cmd_postfix": "",
     "delete_cmd_prefix": "del ",
     "library": "var_list.py",
     "varRefreshCmd": "print(var_dic_list())"
    },
    "r": {
     "delete_cmd_postfix": ") ",
     "delete_cmd_prefix": "rm(",
     "library": "var_list.r",
     "varRefreshCmd": "cat(var_dic_list()) "
    }
   },
   "types_to_exclude": [
    "module",
    "function",
    "builtin_function_or_method",
    "instance",
    "_Feature"
   ],
   "window_display": false
  }
 },
 "nbformat": 4,
 "nbformat_minor": 4
}
