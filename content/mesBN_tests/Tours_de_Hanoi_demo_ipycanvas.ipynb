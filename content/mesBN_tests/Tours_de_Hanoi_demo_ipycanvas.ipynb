{
 "cells": [
  {
   "cell_type": "markdown",
   "metadata": {},
   "source": [
    "# Le TP des tours de Hanoi\n",
    "\n",
    "## pour un affichage dans un notebook avec ipycanvas\n",
    "\n",
    "Les tours seront modélisées par une liste de 3 piles.\n",
    "\n",
    "Dans la première des deux implémentations données : une pile est une liste Python.\n",
    "\n",
    "Vous devez manipuler une pile uniquement avec les fonctions ou méthodes fournies."
   ]
  },
  {
   "cell_type": "code",
   "execution_count": 1,
   "metadata": {},
   "outputs": [
    {
     "name": "stdout",
     "output_type": "stream",
     "text": [
      "Voici comment résoudre le problème des tours de Hanoi avec 2 disques en 3 déplacements :\n"
     ]
    },
    {
     "data": {
      "application/vnd.jupyter.widget-view+json": {
       "model_id": "3d0173767e2b48d092027c54f5559fd0",
       "version_major": 2,
       "version_minor": 0
      },
      "text/plain": [
       "Canvas(height=72, width=432)"
      ]
     },
     "metadata": {},
     "output_type": "display_data"
    }
   ],
   "source": [
    "# Pour animation avec un canvas par appel de hanoi_animation()\n",
    "from ipycanvas import Canvas, hold_canvas\n",
    "from time import sleep\n",
    "\n",
    "# Première implémentation pour les piles\n",
    "def creer_pile():\n",
    "    '''Renvoie une pile vide'''\n",
    "    return []\n",
    "\n",
    "def est_vide(pile):\n",
    "    '''Renvoie un booléen, True si la pile est vide et False sinon'''\n",
    "    return pile == []\n",
    "\n",
    "def empiler(pile, element):\n",
    "    '''Empile element au sommet de pile'''\n",
    "    pile.append(element)\n",
    "    \n",
    "def depiler(pile):\n",
    "    '''Renvoie et enlève la valeur du sommet de pile'''\n",
    "    assert not est_vide(pile), \"Pile vide\"\n",
    "    return pile.pop()\n",
    "\n",
    "# Exercice 1 : valeur du sommet d'une pile\n",
    "def sommet(pile):\n",
    "    ''' Renvoie la valeur au sommet de la pile mais sans la supprimer de la pile '''\n",
    "    if est_vide(pile):\n",
    "        raise IndexError('pile vide')\n",
    "    else:\n",
    "        valeur = depiler(pile)\n",
    "        empiler(pile, valeur)\n",
    "    return valeur\n",
    "\n",
    "# Exercice 2 : constitution d'une pile de n disques\n",
    "def mettre_disques(pile, n):\n",
    "    '''Met des disques de taille n à 1 sur la pile'''\n",
    "    for i in range(n, 0, -1):\n",
    "        empiler(pile, i)\n",
    "\n",
    "# Exercice 3 : création de trois tours, une avec n disques    \n",
    "def creation_tours(n):\n",
    "    ''' Renvoie une liste de 3 piles,\n",
    "    la première correspond à la pile des n disques,\n",
    "    les autres étant vides.'''\n",
    "    p0 = creer_pile()\n",
    "    p1 = creer_pile()\n",
    "    p2 = creer_pile()\n",
    "    mettre_disques(p0, n)\n",
    "    return [p0, p1, p2]\n",
    "\n",
    "\n",
    "# Exercice 4 : déplacement d'un disque selon les règles\n",
    "def deplacer(tours, origine, cible) :\n",
    "    '''\n",
    "    Déplace la valeur au sommet de la pile d’indice origine vers le sommet de la pile d’indice cible.\n",
    "    Si le déplacement n’est pas possible, parce qu’il ne respecte pas les règles du jeu, les piles ne sont pas modifiées.\n",
    "    '''\n",
    "    if not est_vide(tours[origine]) and (est_vide(tours[cible]) or sommet(tours[cible]) > sommet(tours[origine])) :\n",
    "        empiler(tours[cible], depiler(tours[origine]))\n",
    "        \n",
    "# Exercice 5 : résoudre de façon récursive\n",
    "def resoudre(tours, n, origine, cible, interm):\n",
    "    '''\n",
    "    déplace les n premiers disques au sommet de la pile d’indice origine vers la pile d’indice cible,\n",
    "    en utilisant éventuellement la pile d’indice interm comme pile intermédiaire pour les déplacements\n",
    "    '''\n",
    "    if n == 1:\n",
    "        deplacer(tours, origine, cible)\n",
    "    else:\n",
    "        resoudre(tours, n-1, origine, interm, cible)\n",
    "        deplacer(tours, origine, cible)\n",
    "        resoudre(tours, n-1, interm, cible, origine)\n",
    "\n",
    "# Exercice 6 : calcule le nombre de coups nécessaire pour résoubre\n",
    "def nb_etapes(n):\n",
    "    '''\n",
    "    renvoie le nombre d’étapes nécessaires pour déplacer une pile de n disques, avec n > 1.\n",
    "    '''\n",
    "    if n == 1:\n",
    "        return 1\n",
    "    else:\n",
    "        return 2*nb_etapes(n-1) + 1\n",
    "\n",
    "# Exercice 7 : transforme la pile en tableau de taille n     \n",
    "def pile_vers_tableau(pile, n):\n",
    "    '''renvoie le tableau de taille n correspondant à pile.'''\n",
    "    tab = [0] * n\n",
    "    p2 = creer_pile()\n",
    "    while not est_vide(pile):\n",
    "        empiler(p2, depiler(pile))\n",
    "    i = 0\n",
    "    while not est_vide(p2):\n",
    "        v = depiler(p2)\n",
    "        tab[i] = v\n",
    "        empiler(pile, v)\n",
    "        i += 1\n",
    "    return tab\n",
    "\n",
    "# Exercice 8 : transforme les tours en matrice nx3\n",
    "def tours_vers_matrice(tours, n):\n",
    "    ''' renvoie le tableau à deux dimensions correspondant aux tours'''\n",
    "    return [pile_vers_tableau(tours[i], n) for i in range(3)]\n",
    "\n",
    "\n",
    "\n",
    "# Définition des caratéristiques pour un canvas unique :\n",
    "pas = 24\n",
    "couleur = {0:'black', 1:'red', 2:'blue', 3:'green', 4:'orange', 5:'purple', 6:'cyan', 7:'magenta', 8:'yellow', 9:'pink'}\n",
    "\n",
    "\n",
    "\n",
    "# Affichage graphique dans un notebook jupyter avec ipycanvas\n",
    "def affichage_animation(hanoi, matrice, n) :\n",
    "    ''''''\n",
    "        \n",
    "    # Affichage d'un élément centrale d'une pile ou d'un disque selon les valeurs de la matrice et les couleurs du dictionnaire\n",
    "    with hold_canvas(hanoi):\n",
    "        hanoi.clear()\n",
    "        for j in range(n-1, -1, -1): # parcours de droite à gauche des sous-tableaux\n",
    "            for i in range(3): # parcours de haut en bas des tableaux\n",
    "                k = matrice[i][j]\n",
    "                hanoi.stroke_style = couleur[k]\n",
    "                if k == 0:\n",
    "                    hanoi.line_width = pas/2.5\n",
    "                    hanoi.stroke_line(pas*(n+1)*(i+1), hanoi.height - (j+2) * pas, pas*(n + 1)*(i+1), hanoi.height - (j + 1) * pas)\n",
    "                else:\n",
    "                    hanoi.line_width = pas\n",
    "                    hanoi.stroke_line(pas*((n+1)*(i+1)-k/2), hanoi.height-(j+1.5)*pas, pas*((n+1)*(i+1)+k/2), hanoi.height-(j+1.5)*pas)\n",
    "    \n",
    "        # Socle\n",
    "        hanoi.stroke_style = couleur[0]\n",
    "        hanoi.line_width = pas/2.5           \n",
    "        hanoi.stroke_line(pas*(n+1)/2, hanoi.height-2*hanoi.line_width, pas*(n+1)*3.5, hanoi.height-2*hanoi.line_width)\n",
    "    \n",
    "    \n",
    "def affichage_tours_animation(hanoi, tours, n) :\n",
    "    affichage_animation(hanoi, tours_vers_matrice(tours, n), n)\n",
    "\n",
    "    \n",
    "def resoudre_animation(hanoi, tours, n_disques, n, origine, cible, interm):\n",
    "    if n == 1:\n",
    "        deplacer(tours, origine, cible)\n",
    "        affichage_tours_animation(hanoi, tours, n_disques)\n",
    "        sleep(1)\n",
    "    else:\n",
    "        resoudre_animation(hanoi, tours, n_disques, n-1, origine, interm, cible)\n",
    "        deplacer(tours, origine, cible)\n",
    "        affichage_tours_animation(hanoi, tours, n_disques)\n",
    "        sleep(1)\n",
    "        resoudre_animation(hanoi, tours, n_disques, n-1, interm, cible, origine)\n",
    "        \n",
    "        \n",
    "def hanoi_animation(n) :\n",
    "    '''affiche les étapes à suivre pour résoudre le problème des tours de Hanoi avec n disques'''\n",
    "    print(f\"Voici comment résoudre le problème des tours de Hanoi avec {n} disques en {nb_etapes(n)} déplacements :\")\n",
    "    hanoi = Canvas(width = pas*(1+n)*6, height = pas*(1+n))\n",
    "    display(hanoi)\n",
    "    affichage_animation(hanoi, tours_vers_matrice(creation_tours(n), n), n)\n",
    "    sleep(3)    \n",
    "    resoudre_animation(hanoi, creation_tours(n), n, n, 0, 2, 1) \n",
    "    \n",
    "    \n",
    "# Test    \n",
    "hanoi_animation(2)"
   ]
  },
  {
   "cell_type": "code",
   "execution_count": 2,
   "metadata": {},
   "outputs": [
    {
     "name": "stdout",
     "output_type": "stream",
     "text": [
      "Voici comment résoudre le problème des tours de Hanoi avec 3 disques en 7 déplacements :\n"
     ]
    },
    {
     "data": {
      "application/vnd.jupyter.widget-view+json": {
       "model_id": "142d177febc84be8bffdb5a30fa84d83",
       "version_major": 2,
       "version_minor": 0
      },
      "text/plain": [
       "Canvas(height=96, width=576)"
      ]
     },
     "metadata": {},
     "output_type": "display_data"
    }
   ],
   "source": [
    "hanoi_animation(3)"
   ]
  },
  {
   "cell_type": "code",
   "execution_count": 3,
   "metadata": {},
   "outputs": [
    {
     "name": "stdout",
     "output_type": "stream",
     "text": [
      "Voici comment résoudre le problème des tours de Hanoi avec 5 disques en 31 déplacements :\n"
     ]
    },
    {
     "data": {
      "application/vnd.jupyter.widget-view+json": {
       "model_id": "9ffa097b97bd409692222e3f973a12f4",
       "version_major": 2,
       "version_minor": 0
      },
      "text/plain": [
       "Canvas(height=144, width=864)"
      ]
     },
     "metadata": {},
     "output_type": "display_data"
    }
   ],
   "source": [
    "hanoi_animation(5)"
   ]
  },
  {
   "cell_type": "code",
   "execution_count": 4,
   "metadata": {},
   "outputs": [
    {
     "name": "stdout",
     "output_type": "stream",
     "text": [
      "Pour résoudre le problème des tours de Hanoi avec 2 disques\n"
     ]
    },
    {
     "data": {
      "application/vnd.jupyter.widget-view+json": {
       "model_id": "2d484724f181476cae5cb5e8c414a8dc",
       "version_major": 2,
       "version_minor": 0
      },
      "text/plain": [
       "Canvas(height=30, width=180)"
      ]
     },
     "metadata": {},
     "output_type": "display_data"
    },
    {
     "name": "stdout",
     "output_type": "stream",
     "text": [
      "Il vaut faut suivre les 3 étapes suivantes :\n"
     ]
    },
    {
     "data": {
      "application/vnd.jupyter.widget-view+json": {
       "model_id": "9fbca08bcd6642a8a6fa9f33df42b1cb",
       "version_major": 2,
       "version_minor": 0
      },
      "text/plain": [
       "Canvas(height=30, width=180)"
      ]
     },
     "metadata": {},
     "output_type": "display_data"
    },
    {
     "data": {
      "application/vnd.jupyter.widget-view+json": {
       "model_id": "a5b3ef69758b4361b46a8e1270364746",
       "version_major": 2,
       "version_minor": 0
      },
      "text/plain": [
       "Canvas(height=30, width=180)"
      ]
     },
     "metadata": {},
     "output_type": "display_data"
    },
    {
     "data": {
      "application/vnd.jupyter.widget-view+json": {
       "model_id": "6e07973f5da84a8f964c3af7989831fd",
       "version_major": 2,
       "version_minor": 0
      },
      "text/plain": [
       "Canvas(height=30, width=180)"
      ]
     },
     "metadata": {},
     "output_type": "display_data"
    }
   ],
   "source": [
    "# Pour un affichage statique de chaque étape dans un nouveau canvas\n",
    "from ipycanvas import Canvas, hold_canvas\n",
    "\n",
    "\n",
    "# Première implémentation pour les piles\n",
    "def creer_pile():\n",
    "    '''Renvoie une pile vide'''\n",
    "    return []\n",
    "\n",
    "def est_vide(pile):\n",
    "    '''Renvoie un booléen, True si la pile est vide et False sinon'''\n",
    "    return pile == []\n",
    "\n",
    "def empiler(pile, element):\n",
    "    '''Empile element au sommet de pile'''\n",
    "    pile.append(element)\n",
    "    \n",
    "def depiler(pile):\n",
    "    '''Renvoie et enlève la valeur du sommet de pile'''\n",
    "    assert not est_vide(pile), \"Pile vide\"\n",
    "    return pile.pop()\n",
    "\n",
    "# Exercice 1 : valeur du sommet d'une pile\n",
    "def sommet(pile):\n",
    "    ''' Renvoie la valeur au sommet de la pile mais sans la supprimer de la pile '''\n",
    "    if est_vide(pile):\n",
    "        raise IndexError('pile vide')\n",
    "    else:\n",
    "        valeur = depiler(pile)\n",
    "        empiler(pile, valeur)\n",
    "    return valeur\n",
    "\n",
    "# Exercice 2 : constitution d'une pile de n disques\n",
    "def mettre_disques(pile, n):\n",
    "    '''Met des disques de taille n à 1 sur la pile'''\n",
    "    for i in range(n, 0, -1):\n",
    "        empiler(pile, i)\n",
    "\n",
    "# Exercice 3 : création de trois tours, une avec n disques    \n",
    "def creation_tours(n):\n",
    "    ''' Renvoie une liste de 3 piles,\n",
    "    la première correspond à la pile des n disques,\n",
    "    les autres étant vides.'''\n",
    "    p0 = creer_pile()\n",
    "    p1 = creer_pile()\n",
    "    p2 = creer_pile()\n",
    "    mettre_disques(p0, n)\n",
    "    return [p0, p1, p2]\n",
    "\n",
    "\n",
    "# Exercice 4 : déplacement d'un disque selon les règles\n",
    "def deplacer(tours, origine, cible) :\n",
    "    '''\n",
    "    Déplace la valeur au sommet de la pile d’indice origine vers le sommet de la pile d’indice cible.\n",
    "    Si le déplacement n’est pas possible, parce qu’il ne respecte pas les règles du jeu, les piles ne sont pas modifiées.\n",
    "    '''\n",
    "    if not est_vide(tours[origine]) and (est_vide(tours[cible]) or sommet(tours[cible]) > sommet(tours[origine])) :\n",
    "        empiler(tours[cible], depiler(tours[origine]))\n",
    "        \n",
    "# Exercice 5 : résoudre de façon récursive\n",
    "def resoudre(tours, n, origine, cible, interm):\n",
    "    '''\n",
    "    déplace les n premiers disques au sommet de la pile d’indice origine vers la pile d’indice cible,\n",
    "    en utilisant éventuellement la pile d’indice interm comme pile intermédiaire pour les déplacements\n",
    "    '''\n",
    "    if n == 1:\n",
    "        deplacer(tours, origine, cible)\n",
    "    else:\n",
    "        resoudre(tours, n-1, origine, interm, cible)\n",
    "        deplacer(tours, origine, cible)\n",
    "        resoudre(tours, n-1, interm, cible, origine)\n",
    "\n",
    "# Exercice 6 : calcule le nombre de coups nécessaire pour résoubre\n",
    "def nb_etapes(n):\n",
    "    '''\n",
    "    renvoie le nombre d’étapes nécessaires pour déplacer une pile de n disques, avec n > 1.\n",
    "    '''\n",
    "    if n == 1:\n",
    "        return 1\n",
    "    else:\n",
    "        return 2*nb_etapes(n-1) + 1\n",
    "\n",
    "# Exercice 7 : transforme la pile en tableau de taille n     \n",
    "def pile_vers_tableau(pile, n):\n",
    "    '''renvoie le tableau de taille n correspondant à pile.'''\n",
    "    tab = [0] * n\n",
    "    p2 = creer_pile()\n",
    "    while not est_vide(pile):\n",
    "        empiler(p2, depiler(pile))\n",
    "    i = 0\n",
    "    while not est_vide(p2):\n",
    "        v = depiler(p2)\n",
    "        tab[i] = v\n",
    "        empiler(pile, v)\n",
    "        i += 1\n",
    "    return tab\n",
    "\n",
    "# Exercice 8 : transforme les tours en matrice nx3\n",
    "def tours_vers_matrice(tours, n):\n",
    "    ''' renvoie le tableau à deux dimensions correspondant aux tours'''\n",
    "    return [pile_vers_tableau(tours[i], n) for i in range(3)]\n",
    "\n",
    "# Affichage graphique dans un notebook jupyter avec ipycanvas\n",
    "def affichage_canvas(matrice, n) :\n",
    "    ''''''\n",
    "    pas = 10\n",
    "    hanoi = Canvas(width = pas*(1+n)*6, height = pas*(n+1))\n",
    "    couleur = {0:'black', 1:'red', 2:'blue', 3:'green', 4:'orange', 5:'purple', 6:'cyan', 7:'magenta', 8:'yellow', 9:'pink'}\n",
    "    display(hanoi)\n",
    "    \n",
    "    # Affichage d'un élément centrale d'une pile ou d'un disque selon les valeurs de la matrice et les couleurs du dictionnaire\n",
    "    with hold_canvas(hanoi):\n",
    "        for j in range(n-1, -1, -1): # parcours de droite à gauche des sous-tableaux\n",
    "            for i in range(3): # parcours de haut en bas des tableaux\n",
    "                k = matrice[i][j]\n",
    "                hanoi.stroke_style = couleur[k]\n",
    "                if k == 0:\n",
    "                    hanoi.line_width = pas/2.5\n",
    "                    hanoi.stroke_line(pas*(n+1)*(i+1), hanoi.height - (j+2) * pas, pas*(n + 1)*(i+1), hanoi.height - (j + 1) * pas)\n",
    "                else:\n",
    "                    hanoi.line_width = pas\n",
    "                    hanoi.stroke_line(pas*((n+1)*(i+1)-k/2), hanoi.height-(j+1.5)*pas, pas*((n+1)*(i+1)+k/2), hanoi.height-(j+1.5)*pas)\n",
    "    \n",
    "        # Socle\n",
    "        hanoi.stroke_style = couleur[0]\n",
    "        hanoi.line_width = pas/2.5           \n",
    "        hanoi.stroke_line(pas*(n+1)/2, hanoi.height-2*hanoi.line_width, pas*(n+1)*3.5, hanoi.height-2*hanoi.line_width)\n",
    "    \n",
    "    \n",
    "def affichage_tours_canvas(tours, n) :\n",
    "    affichage_canvas(tours_vers_matrice(tours, n), n)\n",
    "\n",
    "    \n",
    "def resoudre_canvas(tours, n_disques, n, origine, cible, interm):\n",
    "    if n == 1:\n",
    "        deplacer(tours, origine, cible)\n",
    "        affichage_tours_canvas(tours, n_disques)\n",
    "    else:\n",
    "        resoudre_canvas(tours, n_disques, n-1, origine, interm, cible)\n",
    "        deplacer(tours, origine, cible)\n",
    "        affichage_tours_canvas(tours, n_disques)\n",
    "        resoudre_canvas(tours, n_disques, n-1, interm, cible, origine)\n",
    "        \n",
    "def hanoi_etapes(n) :\n",
    "    '''affiche les étapes à suivre pour résoudre le problème des tours de Hanoi avec n disques'''\n",
    "    print(f\"Pour résoudre le problème des tours de Hanoi avec {n} disques\")\n",
    "    affichage_canvas(tours_vers_matrice(creation_tours(n), n), n)\n",
    "    print(f\"Il vaut faut suivre les {nb_etapes(n)} étapes suivantes :\")\n",
    "    resoudre_canvas(creation_tours(n), n, n, 0, 2, 1)\n",
    "\n",
    "# Test    \n",
    "hanoi_etapes(2)"
   ]
  },
  {
   "cell_type": "code",
   "execution_count": 5,
   "metadata": {},
   "outputs": [
    {
     "name": "stdout",
     "output_type": "stream",
     "text": [
      "Pour résoudre le problème des tours de Hanoi avec 3 disques\n"
     ]
    },
    {
     "data": {
      "application/vnd.jupyter.widget-view+json": {
       "model_id": "97b1407ea0ca48db84e45ae0500d8cee",
       "version_major": 2,
       "version_minor": 0
      },
      "text/plain": [
       "Canvas(height=40, width=240)"
      ]
     },
     "metadata": {},
     "output_type": "display_data"
    },
    {
     "name": "stdout",
     "output_type": "stream",
     "text": [
      "Il vaut faut suivre les 7 étapes suivantes :\n"
     ]
    },
    {
     "data": {
      "application/vnd.jupyter.widget-view+json": {
       "model_id": "1526be5173354e65bb48c4db9f40ec84",
       "version_major": 2,
       "version_minor": 0
      },
      "text/plain": [
       "Canvas(height=40, width=240)"
      ]
     },
     "metadata": {},
     "output_type": "display_data"
    },
    {
     "data": {
      "application/vnd.jupyter.widget-view+json": {
       "model_id": "d59fc8942f7a441d9df6123cd32cbaab",
       "version_major": 2,
       "version_minor": 0
      },
      "text/plain": [
       "Canvas(height=40, width=240)"
      ]
     },
     "metadata": {},
     "output_type": "display_data"
    },
    {
     "data": {
      "application/vnd.jupyter.widget-view+json": {
       "model_id": "17c5c438f77d423a94c6aadf9b7c61de",
       "version_major": 2,
       "version_minor": 0
      },
      "text/plain": [
       "Canvas(height=40, width=240)"
      ]
     },
     "metadata": {},
     "output_type": "display_data"
    },
    {
     "data": {
      "application/vnd.jupyter.widget-view+json": {
       "model_id": "70910a4d0ec2465caab5663bef609288",
       "version_major": 2,
       "version_minor": 0
      },
      "text/plain": [
       "Canvas(height=40, width=240)"
      ]
     },
     "metadata": {},
     "output_type": "display_data"
    },
    {
     "data": {
      "application/vnd.jupyter.widget-view+json": {
       "model_id": "6af87ec79c874151bd7326722fe1b8ea",
       "version_major": 2,
       "version_minor": 0
      },
      "text/plain": [
       "Canvas(height=40, width=240)"
      ]
     },
     "metadata": {},
     "output_type": "display_data"
    },
    {
     "data": {
      "application/vnd.jupyter.widget-view+json": {
       "model_id": "b2c9dac44c5c4cccbe4349ac37606f95",
       "version_major": 2,
       "version_minor": 0
      },
      "text/plain": [
       "Canvas(height=40, width=240)"
      ]
     },
     "metadata": {},
     "output_type": "display_data"
    },
    {
     "data": {
      "application/vnd.jupyter.widget-view+json": {
       "model_id": "29e4ce6cbc9440b6825b994dccb6f4cc",
       "version_major": 2,
       "version_minor": 0
      },
      "text/plain": [
       "Canvas(height=40, width=240)"
      ]
     },
     "metadata": {},
     "output_type": "display_data"
    }
   ],
   "source": [
    "hanoi_etapes(3)"
   ]
  },
  {
   "cell_type": "code",
   "execution_count": 6,
   "metadata": {},
   "outputs": [
    {
     "name": "stdout",
     "output_type": "stream",
     "text": [
      "Pour résoudre le problème des tours de Hanoi avec 4 disques\n"
     ]
    },
    {
     "data": {
      "application/vnd.jupyter.widget-view+json": {
       "model_id": "f5b771441b9a4cd28f6265b9aeecbbec",
       "version_major": 2,
       "version_minor": 0
      },
      "text/plain": [
       "Canvas(height=50, width=300)"
      ]
     },
     "metadata": {},
     "output_type": "display_data"
    },
    {
     "name": "stdout",
     "output_type": "stream",
     "text": [
      "Il vaut faut suivre les 15 étapes suivantes :\n"
     ]
    },
    {
     "data": {
      "application/vnd.jupyter.widget-view+json": {
       "model_id": "492d50d874ea4e21b7c1e85178caeac9",
       "version_major": 2,
       "version_minor": 0
      },
      "text/plain": [
       "Canvas(height=50, width=300)"
      ]
     },
     "metadata": {},
     "output_type": "display_data"
    },
    {
     "data": {
      "application/vnd.jupyter.widget-view+json": {
       "model_id": "1764049305fe4ba1b3c4f4dbaebf9731",
       "version_major": 2,
       "version_minor": 0
      },
      "text/plain": [
       "Canvas(height=50, width=300)"
      ]
     },
     "metadata": {},
     "output_type": "display_data"
    },
    {
     "data": {
      "application/vnd.jupyter.widget-view+json": {
       "model_id": "be14a35238dd47e999bab545a427c931",
       "version_major": 2,
       "version_minor": 0
      },
      "text/plain": [
       "Canvas(height=50, width=300)"
      ]
     },
     "metadata": {},
     "output_type": "display_data"
    },
    {
     "data": {
      "application/vnd.jupyter.widget-view+json": {
       "model_id": "ce46f70eadfe42b6b65b15d5e9d93f02",
       "version_major": 2,
       "version_minor": 0
      },
      "text/plain": [
       "Canvas(height=50, width=300)"
      ]
     },
     "metadata": {},
     "output_type": "display_data"
    },
    {
     "data": {
      "application/vnd.jupyter.widget-view+json": {
       "model_id": "c4454cf540bc4b2ba9317c19d2407565",
       "version_major": 2,
       "version_minor": 0
      },
      "text/plain": [
       "Canvas(height=50, width=300)"
      ]
     },
     "metadata": {},
     "output_type": "display_data"
    },
    {
     "data": {
      "application/vnd.jupyter.widget-view+json": {
       "model_id": "ed0d7f6262c848f9811128555ab1ad97",
       "version_major": 2,
       "version_minor": 0
      },
      "text/plain": [
       "Canvas(height=50, width=300)"
      ]
     },
     "metadata": {},
     "output_type": "display_data"
    },
    {
     "data": {
      "application/vnd.jupyter.widget-view+json": {
       "model_id": "f8e5bf9ab3b34c158b8911fe7365c4e2",
       "version_major": 2,
       "version_minor": 0
      },
      "text/plain": [
       "Canvas(height=50, width=300)"
      ]
     },
     "metadata": {},
     "output_type": "display_data"
    },
    {
     "data": {
      "application/vnd.jupyter.widget-view+json": {
       "model_id": "a61256eaa949461c94e3e676ae66b65c",
       "version_major": 2,
       "version_minor": 0
      },
      "text/plain": [
       "Canvas(height=50, width=300)"
      ]
     },
     "metadata": {},
     "output_type": "display_data"
    },
    {
     "data": {
      "application/vnd.jupyter.widget-view+json": {
       "model_id": "8bd9632a23ca414b82ab0eaf963fb308",
       "version_major": 2,
       "version_minor": 0
      },
      "text/plain": [
       "Canvas(height=50, width=300)"
      ]
     },
     "metadata": {},
     "output_type": "display_data"
    },
    {
     "data": {
      "application/vnd.jupyter.widget-view+json": {
       "model_id": "2cdc8e05e98c4b63983ab31e2b479c3d",
       "version_major": 2,
       "version_minor": 0
      },
      "text/plain": [
       "Canvas(height=50, width=300)"
      ]
     },
     "metadata": {},
     "output_type": "display_data"
    },
    {
     "data": {
      "application/vnd.jupyter.widget-view+json": {
       "model_id": "2b9611cef8a24ebd8f86e5b4c1b28b80",
       "version_major": 2,
       "version_minor": 0
      },
      "text/plain": [
       "Canvas(height=50, width=300)"
      ]
     },
     "metadata": {},
     "output_type": "display_data"
    },
    {
     "data": {
      "application/vnd.jupyter.widget-view+json": {
       "model_id": "028f56a9c5fa4e558160e903f80d773e",
       "version_major": 2,
       "version_minor": 0
      },
      "text/plain": [
       "Canvas(height=50, width=300)"
      ]
     },
     "metadata": {},
     "output_type": "display_data"
    },
    {
     "data": {
      "application/vnd.jupyter.widget-view+json": {
       "model_id": "2326b62500cd47308a86d218a06376e5",
       "version_major": 2,
       "version_minor": 0
      },
      "text/plain": [
       "Canvas(height=50, width=300)"
      ]
     },
     "metadata": {},
     "output_type": "display_data"
    },
    {
     "data": {
      "application/vnd.jupyter.widget-view+json": {
       "model_id": "024a67c1cc5c4e63801bae4195427eae",
       "version_major": 2,
       "version_minor": 0
      },
      "text/plain": [
       "Canvas(height=50, width=300)"
      ]
     },
     "metadata": {},
     "output_type": "display_data"
    },
    {
     "data": {
      "application/vnd.jupyter.widget-view+json": {
       "model_id": "0001ab4698a947e38bf73e68b52ae00e",
       "version_major": 2,
       "version_minor": 0
      },
      "text/plain": [
       "Canvas(height=50, width=300)"
      ]
     },
     "metadata": {},
     "output_type": "display_data"
    }
   ],
   "source": [
    "hanoi_etapes(4)"
   ]
  },
  {
   "cell_type": "code",
   "execution_count": 7,
   "metadata": {},
   "outputs": [
    {
     "data": {
      "application/vnd.jupyter.widget-view+json": {
       "model_id": "13dd2d4daf2e4c32921b353a00759e11",
       "version_major": 2,
       "version_minor": 0
      },
      "text/plain": [
       "Canvas(height=194, width=900)"
      ]
     },
     "metadata": {},
     "output_type": "display_data"
    }
   ],
   "source": [
    "# Pour animation avec un canvas unique\n",
    "from ipycanvas import Canvas, hold_canvas\n",
    "from time import sleep\n",
    "\n",
    "# Première implémentation pour les piles\n",
    "def creer_pile():\n",
    "    '''Renvoie une pile vide'''\n",
    "    return []\n",
    "\n",
    "def est_vide(pile):\n",
    "    '''Renvoie un booléen, True si la pile est vide et False sinon'''\n",
    "    return pile == []\n",
    "\n",
    "def empiler(pile, element):\n",
    "    '''Empile element au sommet de pile'''\n",
    "    pile.append(element)\n",
    "    \n",
    "def depiler(pile):\n",
    "    '''Renvoie et enlève la valeur du sommet de pile'''\n",
    "    assert not est_vide(pile), \"Pile vide\"\n",
    "    return pile.pop()\n",
    "\n",
    "# Exercice 1 : valeur du sommet d'une pile\n",
    "def sommet(pile):\n",
    "    ''' Renvoie la valeur au sommet de la pile mais sans la supprimer de la pile '''\n",
    "    if est_vide(pile):\n",
    "        raise IndexError('pile vide')\n",
    "    else:\n",
    "        valeur = depiler(pile)\n",
    "        empiler(pile, valeur)\n",
    "    return valeur\n",
    "\n",
    "# Exercice 2 : constitution d'une pile de n disques\n",
    "def mettre_disques(pile, n):\n",
    "    '''Met des disques de taille n à 1 sur la pile'''\n",
    "    for i in range(n, 0, -1):\n",
    "        empiler(pile, i)\n",
    "\n",
    "# Exercice 3 : création de trois tours, une avec n disques    \n",
    "def creation_tours(n):\n",
    "    ''' Renvoie une liste de 3 piles,\n",
    "    la première correspond à la pile des n disques,\n",
    "    les autres étant vides.'''\n",
    "    p0 = creer_pile()\n",
    "    p1 = creer_pile()\n",
    "    p2 = creer_pile()\n",
    "    mettre_disques(p0, n)\n",
    "    return [p0, p1, p2]\n",
    "\n",
    "\n",
    "# Exercice 4 : déplacement d'un disque selon les règles\n",
    "def deplacer(tours, origine, cible) :\n",
    "    '''\n",
    "    Déplace la valeur au sommet de la pile d’indice origine vers le sommet de la pile d’indice cible.\n",
    "    Si le déplacement n’est pas possible, parce qu’il ne respecte pas les règles du jeu, les piles ne sont pas modifiées.\n",
    "    '''\n",
    "    if not est_vide(tours[origine]) and (est_vide(tours[cible]) or sommet(tours[cible]) > sommet(tours[origine])) :\n",
    "        empiler(tours[cible], depiler(tours[origine]))\n",
    "        \n",
    "# Exercice 5 : résoudre de façon récursive\n",
    "def resoudre(tours, n, origine, cible, interm):\n",
    "    '''\n",
    "    déplace les n premiers disques au sommet de la pile d’indice origine vers la pile d’indice cible,\n",
    "    en utilisant éventuellement la pile d’indice interm comme pile intermédiaire pour les déplacements\n",
    "    '''\n",
    "    if n == 1:\n",
    "        deplacer(tours, origine, cible)\n",
    "    else:\n",
    "        resoudre(tours, n-1, origine, interm, cible)\n",
    "        deplacer(tours, origine, cible)\n",
    "        resoudre(tours, n-1, interm, cible, origine)\n",
    "\n",
    "# Exercice 6 : calcule le nombre de coups nécessaire pour résoubre\n",
    "def nb_etapes(n):\n",
    "    '''\n",
    "    renvoie le nombre d’étapes nécessaires pour déplacer une pile de n disques, avec n > 1.\n",
    "    '''\n",
    "    if n == 1:\n",
    "        return 1\n",
    "    else:\n",
    "        return 2*nb_etapes(n-1) + 1\n",
    "\n",
    "# Exercice 7 : transforme la pile en tableau de taille n     \n",
    "def pile_vers_tableau(pile, n):\n",
    "    '''renvoie le tableau de taille n correspondant à pile.'''\n",
    "    tab = [0] * n\n",
    "    p2 = creer_pile()\n",
    "    while not est_vide(pile):\n",
    "        empiler(p2, depiler(pile))\n",
    "    i = 0\n",
    "    while not est_vide(p2):\n",
    "        v = depiler(p2)\n",
    "        tab[i] = v\n",
    "        empiler(pile, v)\n",
    "        i += 1\n",
    "    return tab\n",
    "\n",
    "# Exercice 8 : transforme les tours en matrice nx3\n",
    "def tours_vers_matrice(tours, n):\n",
    "    ''' renvoie le tableau à deux dimensions correspondant aux tours'''\n",
    "    return [pile_vers_tableau(tours[i], n) for i in range(3)]\n",
    "\n",
    "\n",
    "\n",
    "# Définition des caratéristiques pour un canvas unique :\n",
    "pas = 24\n",
    "hanoi = Canvas(width = 900, height = 50+pas)\n",
    "couleur = {0:'black', 1:'red', 2:'blue', 3:'green', 4:'orange', 5:'purple', 6:'cyan', 7:'magenta', 8:'yellow', 9:'pink'}\n",
    "\n",
    "\n",
    "\n",
    "# Affichage graphique dans un notebook jupyter avec ipycanvas\n",
    "def affichage_animation(matrice, n) :\n",
    "    ''''''\n",
    "        \n",
    "    # Affichage d'un élément centrale d'une pile ou d'un disque selon les valeurs de la matrice et les couleurs du dictionnaire\n",
    "    with hold_canvas(hanoi):\n",
    "        hanoi.clear()\n",
    "        for j in range(n-1, -1, -1): # parcours de droite à gauche des sous-tableaux\n",
    "            for i in range(3): # parcours de haut en bas des tableaux\n",
    "                k = matrice[i][j]\n",
    "                hanoi.stroke_style = couleur[k]\n",
    "                if k == 0:\n",
    "                    hanoi.line_width = pas/2.5\n",
    "                    hanoi.stroke_line(pas*(n+1)*(i+1), hanoi.height - (j+2) * pas, pas*(n + 1)*(i+1), hanoi.height - (j + 1) * pas)\n",
    "                else:\n",
    "                    hanoi.line_width = pas\n",
    "                    hanoi.stroke_line(pas*((n+1)*(i+1)-k/2), hanoi.height-(j+1.5)*pas, pas*((n+1)*(i+1)+k/2), hanoi.height-(j+1.5)*pas)\n",
    "        # Titre\n",
    "        hanoi.font = '32px courrier'\n",
    "        hanoi.fill_text(f\"Les tours de Hanoi avec {n} disques en {nb_etapes(n)} déplacements :\", 10, 32)\n",
    "        \n",
    "        # Socle\n",
    "        hanoi.stroke_style = couleur[0]\n",
    "        hanoi.line_width = pas/2.5           \n",
    "        hanoi.stroke_line(pas*(n+1)/2, hanoi.height-2*hanoi.line_width, pas*(n+1)*3.5, hanoi.height-2*hanoi.line_width)\n",
    "    \n",
    "    \n",
    "def affichage_tours_animation(tours, n) :\n",
    "    affichage_animation(tours_vers_matrice(tours, n), n)\n",
    "\n",
    "    \n",
    "def resoudre_animation(tours, n_disques, n, origine, cible, interm):\n",
    "    if n == 1:\n",
    "        deplacer(tours, origine, cible)\n",
    "        affichage_tours_animation(tours, n_disques)\n",
    "        sleep(0.5) \n",
    "    else:\n",
    "        resoudre_animation(tours, n_disques, n-1, origine, interm, cible)\n",
    "        deplacer(tours, origine, cible)\n",
    "        affichage_tours_animation(tours, n_disques)\n",
    "        sleep(0.5) \n",
    "        resoudre_animation(tours, n_disques, n-1, interm, cible, origine)\n",
    "        \n",
    "        \n",
    "def hanoi_animation(n) :\n",
    "    '''affiche les étapes à suivre pour résoudre le problème des tours de Hanoi avec n disques'''\n",
    "    hanoi.height = 50 + pas*(1+n)\n",
    "    display(hanoi)\n",
    "    \n",
    "    \n",
    "    \n",
    "    affichage_animation(tours_vers_matrice(creation_tours(n), n), n)\n",
    "    sleep(1)    \n",
    "    resoudre_animation(creation_tours(n), n, n, 0, 2, 1) \n",
    "    \n",
    "    \n",
    "# Test    \n",
    "hanoi_animation(5)"
   ]
  },
  {
   "cell_type": "code",
   "execution_count": null,
   "metadata": {},
   "outputs": [],
   "source": []
  }
 ],
 "metadata": {
  "kernelspec": {
   "display_name": "Python 3",
   "language": "python",
   "name": "python3"
  },
  "language_info": {
   "codemirror_mode": {
    "name": "ipython",
    "version": 3
   },
   "file_extension": ".py",
   "mimetype": "text/x-python",
   "name": "python",
   "nbconvert_exporter": "python",
   "pygments_lexer": "ipython3",
   "version": "3.8.5"
  },
  "toc": {
   "base_numbering": 1,
   "nav_menu": {},
   "number_sections": true,
   "sideBar": true,
   "skip_h1_title": false,
   "title_cell": "Table of Contents",
   "title_sidebar": "Contents",
   "toc_cell": false,
   "toc_position": {},
   "toc_section_display": true,
   "toc_window_display": false
  },
  "varInspector": {
   "cols": {
    "lenName": 16,
    "lenType": 16,
    "lenVar": 40
   },
   "kernels_config": {
    "python": {
     "delete_cmd_postfix": "",
     "delete_cmd_prefix": "del ",
     "library": "var_list.py",
     "varRefreshCmd": "print(var_dic_list())"
    },
    "r": {
     "delete_cmd_postfix": ") ",
     "delete_cmd_prefix": "rm(",
     "library": "var_list.r",
     "varRefreshCmd": "cat(var_dic_list()) "
    }
   },
   "types_to_exclude": [
    "module",
    "function",
    "builtin_function_or_method",
    "instance",
    "_Feature"
   ],
   "window_display": false
  }
 },
 "nbformat": 4,
 "nbformat_minor": 4
}
