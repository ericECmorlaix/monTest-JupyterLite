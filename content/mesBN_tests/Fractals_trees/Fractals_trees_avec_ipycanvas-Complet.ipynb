{
 "cells": [
  {
   "cell_type": "markdown",
   "metadata": {},
   "source": [
    "# Mini-projet : \"Fractals_trees\"\n",
    "\n",
    "\n",
    "## But :\n",
    "\n",
    "On souhaite écrire un programme qui permet de générer un dessin paramétré éventuellement interactif et/ou animé d'un arbre fractal dans un notebook jupyter.\n",
    "\n",
    "\n",
    "\n",
    "    \n",
    "    \n",
    "<img src=\"https://ericecmorlaix.github.io/img/fractals_trees-arbre_asymetrique.png\" alt=\"arbre fractal assymetrique.png\" width = 70% >\n",
    "\n",
    "On utilisera pour cela le module **`ipycanvas`** de [Martin RENOU](https://github.com/martinRenou) :\n",
    "\n",
    "<img src=\"https://ericecmorlaix.github.io/img/ipycanvas-logo.svg\" alt=\"ipycanvas-logo.svg\" width = 25%>\n",
    "\n",
    "\n",
    "Si vous ne connaissez pas ce module, il vous faut donc préalablement le prendre en main en faisant, par exemple, les activités de [ipycanvas-Le_BN_pour_dessiner.ipynb\n",
    "](ipycanvas-Le_BN_pour_dessiner.ipynb)...\n",
    "\n",
    "## Qu'est-ce qu'une figure fractale?\n",
    "\n",
    "\"Une courbe ou une figure géométrique, dont chaque partie a le même caractère statistique que l'ensemble.\"\n",
    "\n",
    "> voir aussi : https://fr.wikipedia.org/wiki/Fractale\n",
    "\n",
    "On devine donc ici l'application d'une fonction récursive...\n",
    "\n",
    "- Regarder les quatre premières minutes de la vidéo suivante :"
   ]
  },
  {
   "cell_type": "code",
   "execution_count": null,
   "metadata": {},
   "outputs": [],
   "source": [
    "%%HTML\n",
    "<center>\n",
    "<iframe width=\"560\" height=\"315\" src=\"https://www.youtube-nocookie.com/embed/0jjeOYMjmDU\" frameborder=\"0\" allow=\"accelerometer; autoplay; clipboard-write; encrypted-media; gyroscope; picture-in-picture\" allowfullscreen></iframe>\n",
    "</center>"
   ]
  },
  {
   "cell_type": "markdown",
   "metadata": {},
   "source": [
    "## Le canvas avec un fond :\n",
    "\n",
    "- Importer les fonctionnalités de la classe `Canvas` de la bibliotèque `ipycanvas` dans ce notebook :  "
   ]
  },
  {
   "cell_type": "code",
   "execution_count": null,
   "metadata": {},
   "outputs": [],
   "source": [
    "# Dépendances\n",
    "from"
   ]
  },
  {
   "cell_type": "markdown",
   "metadata": {},
   "source": [
    "- Créer une instance de la class Canvas nommée `c` de dimensions 800 x 600 pixels avec un fond noir et l'afficher :\n",
    "\n",
    "> définir une fonction `background()` qui rafraichit la scène avec un fond de la couleur passée en paramètre...\n"
   ]
  },
  {
   "cell_type": "code",
   "execution_count": null,
   "metadata": {},
   "outputs": [],
   "source": [
    "# Définitions\n",
    "\n",
    "# Création du canvas c\n",
    "c =\n",
    "\n",
    "# Une fonction pour effacer la scène et redessiner un background\n",
    "def background(couleur : str = 'black') :\n",
    "    '''\n",
    "    Rafraichit la scène avec un fond de la couleur\n",
    "    'couleur' passée en paramètre et fixée sur `black` par défaut\n",
    "    Préconditions :\n",
    "    - couleur (str) : une chaine de caractères définissant une couleur HTML valide\n",
    "    '''\n",
    "    \n",
    "    \n",
    "    \n"
   ]
  },
  {
   "cell_type": "code",
   "execution_count": null,
   "metadata": {},
   "outputs": [],
   "source": [
    "# Tests d'affichage\n",
    "display(c)\n",
    "background()"
   ]
  },
  {
   "cell_type": "markdown",
   "metadata": {},
   "source": [
    "Au fur et à mesure de vos essais, rassembler dans une même cellule de ce notebook les codes que vous avez validés et qui seront utilisés pour la suite. Il suffira alors de faire descendre cette cellule vers le bas du notebook (ou de la dupliquer) pour réaliser de nouveaux tests et de l'augmenter progresssivement...\n",
    "\n",
    "> Une autre solution consiste à enregistrer progressivement le code du développement validé dans un fichier `fractal_tree.py` et à importer toutes les fonctionnalités de ce module `from fractal_tree import *` dans le notebook pour pouvoir y effectuer de nouveaux essais s'appuyant sur cette base de la définition du projet à ce stade.\n",
    "\n",
    "- Compléter la cellule ci-dessous en application de cette méthode de développement"
   ]
  },
  {
   "cell_type": "code",
   "execution_count": null,
   "metadata": {},
   "outputs": [],
   "source": [
    "# Dépendances\n",
    "from ...\n",
    "\n",
    "# Définitions\n",
    "\n",
    "# Création du canvas c\n",
    "c = ...\n",
    "\n",
    "# Une fonction pour effacer la scène et redessiner un background\n",
    "def background(couleur : str = 'black') :\n",
    "    '''\n",
    "    Rafraichit la scène avec un fond de la couleur\n",
    "    'couleur' passée en paramètre et fixée sur `black` par défaut\n",
    "    Préconditions :\n",
    "    - couleur (str) : une chaine de caractères définissant une couleur HTML valide\n",
    "    '''    \n",
    "    # A compléter...\n",
    "\n",
    "\n",
    "# Tests\n",
    "if __name__ == '__main__':\n",
    "    display(c)\n",
    "    background()"
   ]
  },
  {
   "cell_type": "code",
   "execution_count": 1,
   "metadata": {},
   "outputs": [
    {
     "data": {
      "application/vnd.jupyter.widget-view+json": {
       "model_id": "d1095b4e780c421dbc711aab57e710f9",
       "version_major": 2,
       "version_minor": 0
      },
      "text/plain": [
       "Canvas(height=600, width=800)"
      ]
     },
     "metadata": {},
     "output_type": "display_data"
    }
   ],
   "source": [
    "# Dépendances\n",
    "from ipycanvas import Canvas\n",
    "\n",
    "# Définitions\n",
    "\n",
    "# Création du canvas c\n",
    "c = Canvas(width=800, height=600)\n",
    "\n",
    "# Une fonction pour effacer le canvas et redessiner un background\n",
    "def background(couleur : str = 'black') :\n",
    "    '''\n",
    "    Rafraichit le canvas avec un fond de la couleur\n",
    "    'couleur' passée en paramètre et fixée sur `black` par défaut\n",
    "    Préconditions :\n",
    "    - couleur (str) : une chaine de caractères définissant une couleur HTML valide\n",
    "    '''    \n",
    "    c.clear()\n",
    "    c.fill_style = couleur\n",
    "    c.fill_rect(0, 0, c.width, c.height)\n",
    "    \n",
    "# Tests\n",
    "if __name__ == '__main__':\n",
    "    display(c)\n",
    "    background()"
   ]
  },
  {
   "cell_type": "markdown",
   "metadata": {},
   "source": [
    "## Un tronc bien centré :\n",
    "\n",
    "Par défaut, l'origine du canvas est définit dans le coin suppérieur gauche ;\n",
    "\n",
    "Nous souhaitons que notre arbre pousse à partir du bas au milieu du canvas.\n",
    "\n",
    "Pour faire un changement d'origine nous pouvons utiliser la méthode `tranlate()`.\n",
    "\n",
    "> Saisir l'instruction `help(c.translate)` pour obtenir de l'aide et voir aussi la [documentation d'ipycanvas](https://ipycanvas.readthedocs.io/en/latest/transformations.html)..."
   ]
  },
  {
   "cell_type": "code",
   "execution_count": null,
   "metadata": {},
   "outputs": [],
   "source": [
    "help(...)"
   ]
  },
  {
   "cell_type": "markdown",
   "metadata": {},
   "source": [
    "- effectuer un changement d'origine au milieu de la base du canvas ;\n",
    "- à partir de cette origine, dessiner un tronc vertical, rouge, d'épaisseur 3 pixels et de hauteur 150 pixels."
   ]
  },
  {
   "cell_type": "code",
   "execution_count": null,
   "metadata": {},
   "outputs": [],
   "source": [
    "# Changement d'origine au milieu de la base du canvas\n",
    "c.translate(c.width/2, c.height)"
   ]
  },
  {
   "cell_type": "code",
   "execution_count": null,
   "metadata": {},
   "outputs": [],
   "source": [
    "\n",
    "# réglage de l'épaisseur et de la couleur du trait\n",
    "c.line_width = 3\n",
    "c.stroke_style = 'red'\n",
    "\n",
    "# trait du tronc\n",
    "c.stroke_line(0, 0, 0, -150)"
   ]
  },
  {
   "cell_type": "markdown",
   "metadata": {},
   "source": [
    "- définir une fonction `branche(longueur)` qui dessine un trait de la longueur passée en paramètre et qui translate l'origine du dessin au bout de cette branche"
   ]
  },
  {
   "cell_type": "code",
   "execution_count": null,
   "metadata": {},
   "outputs": [],
   "source": [
    "def branche(longueur : float) :\n",
    "    '''\n",
    "    dessine un trait de la longueur passée en paramètre\n",
    "    et translate l'origine du dessin au bout de cette branche\n",
    "    Préconditions :\n",
    "    - longueur (float) : un flottant représentant la longueur de la branche    \n",
    "    '''\n",
    "    c.stroke_line(0, 0, 0, -longueur)\n",
    "    c.translate(0, -longueur)"
   ]
  },
  {
   "cell_type": "markdown",
   "metadata": {},
   "source": [
    "- tester votre fonction branche pour dessiner le tronc de 150 pixels"
   ]
  },
  {
   "cell_type": "code",
   "execution_count": null,
   "metadata": {},
   "outputs": [],
   "source": [
    "# Test de la fonction branche\n",
    "display(c)\n",
    "background()\n",
    "branche(150)"
   ]
  },
  {
   "cell_type": "markdown",
   "metadata": {},
   "source": [
    "## Les branches :\n",
    "\n",
    "Au bout de ce tronc nous pouvons donc maintenant ajouter une branche plus petite"
   ]
  },
  {
   "cell_type": "code",
   "execution_count": null,
   "metadata": {},
   "outputs": [],
   "source": [
    "branche(150 * 0.75)"
   ]
  },
  {
   "cell_type": "markdown",
   "metadata": {},
   "source": [
    "L'ennui est qu'elle se dessine verticalement dans le prolongement du tronc\n",
    "\n",
    "Pour faire un changement de direction nous pouvons utiliser la méthode `rotate()`.\n",
    "\n",
    "> Saisir l'instruction `help(c.rotate)` pour obtenir de l'aide et voir aussi la [documentation d'ipycanvas](https://ipycanvas.readthedocs.io/en/latest/transformations.html)..."
   ]
  },
  {
   "cell_type": "code",
   "execution_count": null,
   "metadata": {},
   "outputs": [],
   "source": [
    "help(...)"
   ]
  },
  {
   "cell_type": "markdown",
   "metadata": {},
   "source": [
    "- Tester l'effet des instructions de la cellule suivante"
   ]
  },
  {
   "cell_type": "code",
   "execution_count": null,
   "metadata": {},
   "outputs": [],
   "source": [
    "from math import pi\n",
    "c.rotate(pi/4)\n",
    "branche(150 * 0.75**2)"
   ]
  },
  {
   "cell_type": "markdown",
   "metadata": {},
   "source": [
    "- Essayer d'ajouter une seconde branche à gauche symétriquement par rapport au tronc"
   ]
  },
  {
   "cell_type": "code",
   "execution_count": null,
   "metadata": {},
   "outputs": [],
   "source": [
    "c.rotate(-pi/4)\n",
    "branche(150 * 0.75**2)"
   ]
  },
  {
   "cell_type": "markdown",
   "metadata": {},
   "source": [
    "Le problème est qu'elle se dessine à partir du bout de la branche de droite et verticalement...\n",
    "\n",
    "Il faudrait que l'on puisse revenir à l'état précédent le dessin de la branche de droite en position et en direction pour que les instructions précédentes dessine la branche de gauche.\n",
    "\n",
    "> Les méthodes `save()` et `restore()` vont nous permettre de faire ça, voir la [documentation d'ipycanvas](https://ipycanvas.readthedocs.io/en/latest/canvas_state.html)...\n",
    "\n",
    "\n",
    "- Compléter le script suivant pour tester les fonctionnalités de sauvegarde et de restauration d'un état du canvas afin de dessiner un tronc et deux branches "
   ]
  },
  {
   "cell_type": "code",
   "execution_count": 4,
   "metadata": {},
   "outputs": [
    {
     "data": {
      "application/vnd.jupyter.widget-view+json": {
       "model_id": "107f5dce28c14861944354ecb7d687d6",
       "version_major": 2,
       "version_minor": 0
      },
      "text/plain": [
       "Canvas(height=600, width=800)"
      ]
     },
     "metadata": {},
     "output_type": "display_data"
    }
   ],
   "source": [
    "# Dépendances\n",
    "from ipycanvas import Canvas\n",
    "from math import pi\n",
    "\n",
    "# Définitions\n",
    "\n",
    "# Création du canvas c\n",
    "c = Canvas(width=800, height=600)\n",
    "\n",
    "# Une fonction pour effacer le canvas et redessiner un background\n",
    "def background(couleur : str = 'black') :\n",
    "    '''\n",
    "    Rafraichit le canvas avec un fond de la couleur\n",
    "    'couleur' passée en paramètre et fixée sur `black` par défaut\n",
    "    Préconditions :\n",
    "    - couleur (str) : une chaine de caractères définissant une couleur HTML valide\n",
    "    '''    \n",
    "    c.clear()\n",
    "    c.fill_style = couleur\n",
    "    c.fill_rect(0, 0, c.width, c.height)\n",
    "    \n",
    "# Une fonction pour dessiner une branche\n",
    "def branche(longueur : float) :\n",
    "    '''\n",
    "    dessine un trait de la longueur passée en paramètre\n",
    "    et translate l'origine du dessin au bout de cette branche\n",
    "    Préconditions :\n",
    "    - longueur (float) : un flottant représentant la longueur de la branche    \n",
    "    '''\n",
    "    c.stroke_line(0, 0, 0, -longueur)\n",
    "    c.translate(0, -longueur)\n",
    "    \n",
    "# Tests\n",
    "if __name__ == '__main__':\n",
    "    display(c)\n",
    "    background()\n",
    "    \n",
    "    # Changement d'origine au milieu de la base du canvas\n",
    "    c.translate(c.width/2, c.height)\n",
    "    \n",
    "    # réglage de l'épaisseur et de la couleur du trait\n",
    "    c.line_width = 3\n",
    "    c.stroke_style = 'red'\n",
    "    \n",
    "    branche(150) # Tronc\n",
    "\n",
    "    c.save()\n",
    "    c.rotate(pi/4)\n",
    "    branche(150*0.75) # Branche de droite\n",
    "    c.restore()\n",
    "\n",
    "    c.save()\n",
    "    c.rotate(-pi/4)\n",
    "    branche(150*0.75) # Branche de gauche\n",
    "    c.restore()\n",
    "    "
   ]
  },
  {
   "cell_type": "markdown",
   "metadata": {},
   "source": [
    "## L'arbre :\n",
    "\n",
    "- Modifier la fonction `branche()` pour qu'elle dessine un arbre de façon récursive avec deux branches de plus en plus petites au bout de chaque nouvelle branche tant que la longueur n'est pas inférieur à 10 pixels.\n"
   ]
  },
  {
   "cell_type": "code",
   "execution_count": 3,
   "metadata": {},
   "outputs": [
    {
     "data": {
      "application/vnd.jupyter.widget-view+json": {
       "model_id": "ea9e5767f4c1461aba1a365e64a8f469",
       "version_major": 2,
       "version_minor": 0
      },
      "text/plain": [
       "Canvas(height=600, width=800)"
      ]
     },
     "metadata": {},
     "output_type": "display_data"
    }
   ],
   "source": [
    "from ipycanvas import Canvas, hold_canvas\n",
    "from math import pi\n",
    "\n",
    "c = Canvas(width=800, height=600)\n",
    "\n",
    "display(c)\n",
    "\n",
    "\n",
    "# Une fonction pour effacer le canvas et redessiner un background\n",
    "def background(couleur : str = 'black') :\n",
    "    '''\n",
    "    Rafraichit le canvas avec un fond de la couleur\n",
    "    'couleur' passée en paramètre et fixée sur `black` par défaut\n",
    "    Préconditions :\n",
    "    - couleur (str) : une chaine de caractères définissant une couleur HTML valide\n",
    "    '''    \n",
    "    c.clear()\n",
    "    c.fill_style = couleur\n",
    "    c.fill_rect(0, 0, c.width, c.height)\n",
    "    \n",
    "def branche(longueur : float) :\n",
    "    '''\n",
    "    Dessine un arbre de façon récursive avec deux branches asymétriques\n",
    "    de longueur de plus en plus petites au bout de chaque nouvelle branche.\n",
    "    Préconditions :\n",
    "    - longueur (float) : un flottant représentant la longueur de la branche\n",
    "    '''\n",
    "    c.stroke_line(0, 0, 0, -longueur)\n",
    "    c.translate(0, -longueur)\n",
    "    if longueur > 5 :\n",
    "        c.save()\n",
    "        c.rotate(pi/10)\n",
    "        branche(longueur*0.75)\n",
    "        c.restore()\n",
    "        c.save()\n",
    "        c.rotate(-pi/5)\n",
    "        branche(longueur*0.75)\n",
    "        c.restore()\n",
    "        \n",
    "    \n",
    "background()\n",
    "\n",
    "c.translate(c.width/2, c.height)\n",
    "\n",
    "c.line_width = 3\n",
    "c.stroke_style = 'red'\n",
    "\n",
    "with hold_canvas(c) :\n",
    "    branche(150)\n",
    "    c.translate(0, -150)\n"
   ]
  },
  {
   "cell_type": "markdown",
   "metadata": {},
   "source": [
    "## Ressources :\n",
    "\n",
    "- https://blog.jupyter.org/ipycanvas-a-python-canvas-for-jupyter-bbb51e4777f7\n",
    "- https://github.com/martinRenou/ipycanvas/\n",
    "- https://ipycanvas.readthedocs.io/en/latest/?badge=latest\n",
    "\n",
    "\n",
    "- https://medium.com/better-programming/learning-p5-js-by-making-fractals-cbdcac5c651e\n",
    "- https://github.com/BenMiriello/fun-with-fractals\n",
    "- https://www.youtube.com/watch?v=0jjeOYMjmDU"
   ]
  },
  {
   "cell_type": "code",
   "execution_count": null,
   "metadata": {},
   "outputs": [],
   "source": []
  }
 ],
 "metadata": {
  "kernelspec": {
   "display_name": "Python 3",
   "language": "python",
   "name": "python3"
  },
  "language_info": {
   "codemirror_mode": {
    "name": "ipython",
    "version": 3
   },
   "file_extension": ".py",
   "mimetype": "text/x-python",
   "name": "python",
   "nbconvert_exporter": "python",
   "pygments_lexer": "ipython3",
   "version": "3.8.5"
  },
  "toc": {
   "base_numbering": 1,
   "nav_menu": {},
   "number_sections": true,
   "sideBar": true,
   "skip_h1_title": false,
   "title_cell": "Table of Contents",
   "title_sidebar": "Contents",
   "toc_cell": false,
   "toc_position": {},
   "toc_section_display": true,
   "toc_window_display": false
  },
  "varInspector": {
   "cols": {
    "lenName": 16,
    "lenType": 16,
    "lenVar": 40
   },
   "kernels_config": {
    "python": {
     "delete_cmd_postfix": "",
     "delete_cmd_prefix": "del ",
     "library": "var_list.py",
     "varRefreshCmd": "print(var_dic_list())"
    },
    "r": {
     "delete_cmd_postfix": ") ",
     "delete_cmd_prefix": "rm(",
     "library": "var_list.r",
     "varRefreshCmd": "cat(var_dic_list()) "
    }
   },
   "types_to_exclude": [
    "module",
    "function",
    "builtin_function_or_method",
    "instance",
    "_Feature"
   ],
   "window_display": false
  }
 },
 "nbformat": 4,
 "nbformat_minor": 4
}
