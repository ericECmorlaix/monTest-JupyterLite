{
 "cells": [
  {
   "cell_type": "markdown",
   "metadata": {},
   "source": [
    "# Le Bloc Note pour apprendre à coder des nombres en binaire"
   ]
  },
  {
   "cell_type": "markdown",
   "metadata": {},
   "source": [
    "## 1- Saurez-vous compter comme un ordinateur  ?\n",
    "\n",
    "Pour apprendre à compter comme le font les ordinateurs, vous allez commencer par jouer en binôme avec des cartes...\n",
    "\n",
    "### Préparation :\n",
    "Disposez les cinq cartes que vous avez reçues sur la table en face de vous en respectant l’ordre ci-dessous  :\n",
    "\n",
    "<img src=\"https://ericecmorlaix.github.io/img/5_Cartes.svg\" alt=\"5 cartes\" width=60%>\n",
    "\n",
    "### Phase 1 :\n",
    "Demandez à votre binôme de choisir un entier au hasard (ex :  $6$ , $21$, $15$ …) ;\n",
    "\n",
    "Retournez ou ne retournez pas certaines cartes de façon à compter autant de points visibles que le nombre entier choisi ;\n",
    "\n",
    "Maintenant inversez les rôles, et demandez à votre binôme d’afficher un autre entier que vous avez choisi au hasard..."
   ]
  },
  {
   "cell_type": "markdown",
   "metadata": {},
   "source": [
    "Existe-t-il un nombre qui peut être représenté de deux façons différentes avec les cartes ?"
   ]
  },
  {
   "cell_type": "markdown",
   "metadata": {},
   "source": [
    "_**Non**_"
   ]
  },
  {
   "cell_type": "markdown",
   "metadata": {},
   "source": [
    "Peut-on afficher n'importe quel entier ? "
   ]
  },
  {
   "cell_type": "markdown",
   "metadata": {},
   "source": [
    "_**Non**, par exemple 32 ce n'est pas possible._"
   ]
  },
  {
   "cell_type": "markdown",
   "metadata": {},
   "source": [
    "Quel est le maximum ?  "
   ]
  },
  {
   "cell_type": "markdown",
   "metadata": {},
   "source": [
    "_**Oui** c'est 31_"
   ]
  },
  {
   "cell_type": "markdown",
   "metadata": {},
   "source": [
    "> *Comptez à partir de $0$ et essayez de repérer le mécanisme de progression...*\n",
    "\n",
    "### Phase 2 :\n",
    "Pour chaque carte :\n",
    "- on note **``1``** si elle est tournée du côté visible (recto) ;\n",
    "- et on note **``0``** si la face est invisible (côté verso)."
   ]
  },
  {
   "cell_type": "markdown",
   "metadata": {},
   "source": [
    "Quel nombre est représenté par le mot **``01001``** ? "
   ]
  },
  {
   "cell_type": "markdown",
   "metadata": {},
   "source": [
    "$9$"
   ]
  },
  {
   "cell_type": "markdown",
   "metadata": {},
   "source": [
    "Quel nombre est représenté par le mot  **``00000``** ? "
   ]
  },
  {
   "cell_type": "markdown",
   "metadata": {},
   "source": [
    "$0$"
   ]
  },
  {
   "cell_type": "markdown",
   "metadata": {},
   "source": [
    "Quel nombre est représenté par le mot  **``11111``** ?"
   ]
  },
  {
   "cell_type": "markdown",
   "metadata": {},
   "source": [
    "$31$"
   ]
  },
  {
   "cell_type": "markdown",
   "metadata": {},
   "source": [
    "***\n",
    "\n",
    ">**Le système binaire** est un système de numération de position **de base deux** : les deux seuls chiffres qui le composent sont le **``0``** et le **``1``**.\n",
    ">\n",
    ">**Le système binaire est le \"langage\" des ordinateurs**. Toutes les machines numériques utilisent le système binaire pour coder des informations que ce soient des textes, des sons, des images ou des vidéos….\n",
    "\n",
    "***\n",
    "\n",
    "Comment écrit-on **$17$** en binaire ?  "
   ]
  },
  {
   "cell_type": "markdown",
   "metadata": {},
   "source": [
    "**``10001``**"
   ]
  },
  {
   "cell_type": "markdown",
   "metadata": {},
   "source": [
    "> *Etc… entraînez vous avec votre binôme à convertir des nombres entiers dans le sens décimal => binaire  et  binaire => décimal...*"
   ]
  },
  {
   "cell_type": "markdown",
   "metadata": {},
   "source": [
    "### Phase 3 :\n",
    "Recherchez des informations pour compléter les phrases suivantes :\n",
    "- Chaque carte du jeu représente un \"bit\" c'est la contraction de _**binary digit**_\n",
    "- Un ensemble de _**bits**_ est appelé un \"mot\".\n",
    "- Combien existe-t-il de mots différents de 8 bits ? $2^8 = 256$\n",
    "- Ces mots codent les entiers allant de $0$ à $255$\n",
    "- Un mot de 8 bits s’appelle un _**octet**_\n",
    "- Qu'est-ce qu'un \"byte\" ? _**De nos jours c'est équivalent à un octet**_\n",
    "- Que signifie l'acronyme M.S.B. : _**Most Significant Bit**_ (bit de poids fort)\n",
    "- Que signifie l'acronyme L.S.B. : _**Less Significant Bit**_ (bit de poids faible)\n",
    "- Combien vaut 1 Kio : $2^{10} = 1024$ octets "
   ]
  },
  {
   "cell_type": "markdown",
   "metadata": {},
   "source": [
    "> *De nos jours les ordinateurs comme pratiquement tous les systèmes numériques communiquent en faisant circuler des informations sous la forme de mots binaires à 8 bits que l'on nomme bytes. Ainsi aujourd'hui un byte est pratiquement devenu synonyme d'un octet, mais cela n'a pas toujours été le cas : https://fr.wikipedia.org/wiki/Byte*"
   ]
  },
  {
   "cell_type": "markdown",
   "metadata": {},
   "source": [
    "## 2 - Passer d'un système à l'autre :\n",
    "### Phase 4 :\n",
    "Pour bien communiquer avec des machines il est donc nécessaire de savoir convertir un nombre décimal en un nombre binaire.\n",
    "\n",
    "Une méthode de conversion consiste à décomposer le nombre décimal en une somme de puissances de deux.\n",
    "\n",
    "Par exemple, pour la conversion : $(91)$décimal = $(01011011)$binaire\n",
    "\n",
    "On peut écrire :\n",
    "$$91 \t= 0 \\times 2^7 + 1 \\times 2^6 + 0 \\times 2^5 + 1 \\times 2^4 + 1 \\times 2^3 + 0 \\times 2^2 + 1 \\times 2^1 + 1 \\times 2^0$$\n",
    "$$91 = 64 + 16 + 8 + 2 + 1$$\n",
    "\n",
    "En rangeant les puissances de deux dans un tableau, on obtient :\n",
    "\n",
    "|Rang             | $7$ | $6$ | $5$ | $4$ | $3$ | $2$ | $1$ | $0$ |\n",
    "|-----------------|:-----:|:-----:|:-----:|:-----:|:-----:|:-----:|:-----:|:-----:|\n",
    "| Puissance de $2$  | $2^7$ | $2^6$ | $2^5$ | $2^4$ | $2^3$ | $2^2$ | $2^1$ | $2^0$ |\n",
    "| Décimal         |  $128$  |  $64$   |  $32$   |  $16$   |   $8$   |   $4$   |   $2$   |   $1$   |\n",
    "| Binaire         |   $0$   |   $1$   |   $0$   |   $1$   |   $1$   |   $0$   |   $1$   |   $1$   |\n"
   ]
  },
  {
   "cell_type": "markdown",
   "metadata": {},
   "source": [
    "A l'aide du tableau ci-dessous convertir les entiers décimaux de la colonne de gauche en binaire :\n",
    "\n",
    "| dec\\bin | $128$ | $64$  | $32$  | $16$  |  $8$  |  $4$  |  $2$  |  $1$  |\n",
    "|---------|:-----:|:-----:|:-----:|:-----:|:-----:|:-----:|:-----:|:-----:|\n",
    "| $1$     |  $0$  |  $0$  |  $0$  |  $0$  |  $0$  |  $0$  |  $0$  |  $1$  |\n",
    "| $2$     |  $0$  |  $0$  |  $0$  |  $0$  |  $0$  |  $0$  |  $1$  |  $0$  |\n",
    "| $3$     |  $0$  |  $0$  |  $0$  |  $0$  |  $0$  |  $0$  |  $1$  |  $1$  |\n",
    "| $4$     |  $0$  |  $0$  |  $0$  |  $0$  |  $0$  |  $1$  |  $0$  |  $0$  |\n",
    "| $5$     |  $0$  |  $0$  |  $0$  |  $0$  |  $0$  |  $1$  |  $0$  |  $1$  |\n",
    "| $6$     |  $0$  |  $0$  |  $0$  |  $0$  |  $0$  |  $1$  |  $1$  |  $0$  |\n",
    "| $7$     |  $0$  |  $0$  |  $0$  |  $0$  |  $0$  |  $1$  |  $1$  |  $1$  |\n",
    "| $8$     |  $0$  |  $0$  |  $0$  |  $0$  |  $1$  |  $0$  |  $0$  |  $0$  |\n",
    "| $9$     |  $0$  |  $0$  |  $0$  |  $0$  |  $1$  |  $0$  |  $0$  |  $1$  |\n",
    "| $10$    |  $0$  |  $0$  |  $0$  |  $0$  |  $1$  |  $0$  |  $1$  |  $0$  |\n",
    "| $11$    |  $0$  |  $0$  |  $0$  |  $0$  |  $1$  |  $0$  |  $1$  |  $1$  |\n",
    "| $12$    |  $0$  |  $0$  |  $0$  |  $0$  |  $1$  |  $1$  |  $0$  |  $0$  |\n",
    "| $13$    |  $0$  |  $0$  |  $0$  |  $0$  |  $1$  |  $1$  |  $0$  |  $1$  |\n",
    "| $14$    |  $0$  |  $0$  |  $0$  |  $0$  |  $1$  |  $1$  |  $1$  |  $0$  |\n",
    "| $15$    |  $0$  |  $0$  |  $0$  |  $0$  |  $1$  |  $1$  |  $1$  |  $1$  |\n",
    "| $16$    |  $0$  |  $0$  |  $0$  |  $1$  |  $0$  |  $0$  |  $0$  |  $0$  |\n",
    "| $20$    |  $0$  |  $0$  |  $0$  |  $1$  |  $0$  |  $1$  |  $0$  |  $0$  |\n",
    "| $50$    |  $0$  |  $0$  |  $1$  |  $1$  |  $0$  |  $0$  |  $1$  |  $0$  |\n",
    "| $100$   |  $0$  |  $1$  |  $1$  |  $0$  |  $0$  |  $1$  |  $0$  |  $0$  |\n",
    "| $200$   |  $1$  |  $1$  |  $0$  |  $0$  |  $1$  |  $0$  |  $0$  |  $0$  |\n",
    "| $255$   |  $1$  |  $1$  |  $1$  |  $1$  |  $1$  |  $1$  |  $1$  |  $1$  |\n",
    "\n",
    "> *Afin de vérifier votre travail, dans les cellules suivantes, réalisez progressivement un script qui renvoie la représentation binaire des nombres entiers positifs allant de $0$ à $255$.*\n",
    "\n",
    "> *Commencez par chercher de l'aide quant à la fonction **`bin()`**...*\n",
    "\n",
    "> *Finalisez votre programme pour qu'il génère un tableau comme ci-dessus au format Markdown...*"
   ]
  },
  {
   "cell_type": "code",
   "execution_count": 10,
   "metadata": {},
   "outputs": [
    {
     "name": "stdout",
     "output_type": "stream",
     "text": [
      "Help on built-in function bin in module builtins:\n",
      "\n",
      "bin(number, /)\n",
      "    Return the binary representation of an integer.\n",
      "    \n",
      "    >>> bin(2796202)\n",
      "    '0b1010101010101010101010'\n",
      "\n"
     ]
    }
   ],
   "source": [
    "help('bin')"
   ]
  },
  {
   "cell_type": "markdown",
   "metadata": {},
   "source": [
    "La boucle suivante produit un résultat qui permet de vérifier notre travail. Mais celà ne génère pas un tableau comme le tableau initial :"
   ]
  },
  {
   "cell_type": "code",
   "execution_count": 11,
   "metadata": {},
   "outputs": [
    {
     "name": "stdout",
     "output_type": "stream",
     "text": [
      "La représentation binaire de l'entier positif décimal 0 est 0b0\n",
      "La représentation binaire de l'entier positif décimal 1 est 0b1\n",
      "La représentation binaire de l'entier positif décimal 2 est 0b10\n",
      "La représentation binaire de l'entier positif décimal 3 est 0b11\n",
      "La représentation binaire de l'entier positif décimal 4 est 0b100\n",
      "La représentation binaire de l'entier positif décimal 5 est 0b101\n",
      "La représentation binaire de l'entier positif décimal 6 est 0b110\n",
      "La représentation binaire de l'entier positif décimal 7 est 0b111\n",
      "La représentation binaire de l'entier positif décimal 8 est 0b1000\n",
      "La représentation binaire de l'entier positif décimal 9 est 0b1001\n",
      "La représentation binaire de l'entier positif décimal 10 est 0b1010\n",
      "La représentation binaire de l'entier positif décimal 11 est 0b1011\n",
      "La représentation binaire de l'entier positif décimal 12 est 0b1100\n",
      "La représentation binaire de l'entier positif décimal 13 est 0b1101\n",
      "La représentation binaire de l'entier positif décimal 14 est 0b1110\n",
      "La représentation binaire de l'entier positif décimal 15 est 0b1111\n",
      "La représentation binaire de l'entier positif décimal 16 est 0b10000\n",
      "La représentation binaire de l'entier positif décimal 17 est 0b10001\n",
      "La représentation binaire de l'entier positif décimal 18 est 0b10010\n",
      "La représentation binaire de l'entier positif décimal 19 est 0b10011\n",
      "La représentation binaire de l'entier positif décimal 20 est 0b10100\n",
      "La représentation binaire de l'entier positif décimal 21 est 0b10101\n",
      "La représentation binaire de l'entier positif décimal 22 est 0b10110\n",
      "La représentation binaire de l'entier positif décimal 23 est 0b10111\n",
      "La représentation binaire de l'entier positif décimal 24 est 0b11000\n",
      "La représentation binaire de l'entier positif décimal 25 est 0b11001\n",
      "La représentation binaire de l'entier positif décimal 26 est 0b11010\n",
      "La représentation binaire de l'entier positif décimal 27 est 0b11011\n",
      "La représentation binaire de l'entier positif décimal 28 est 0b11100\n",
      "La représentation binaire de l'entier positif décimal 29 est 0b11101\n",
      "La représentation binaire de l'entier positif décimal 30 est 0b11110\n",
      "La représentation binaire de l'entier positif décimal 31 est 0b11111\n",
      "La représentation binaire de l'entier positif décimal 32 est 0b100000\n",
      "La représentation binaire de l'entier positif décimal 33 est 0b100001\n",
      "La représentation binaire de l'entier positif décimal 34 est 0b100010\n",
      "La représentation binaire de l'entier positif décimal 35 est 0b100011\n",
      "La représentation binaire de l'entier positif décimal 36 est 0b100100\n",
      "La représentation binaire de l'entier positif décimal 37 est 0b100101\n",
      "La représentation binaire de l'entier positif décimal 38 est 0b100110\n",
      "La représentation binaire de l'entier positif décimal 39 est 0b100111\n",
      "La représentation binaire de l'entier positif décimal 40 est 0b101000\n",
      "La représentation binaire de l'entier positif décimal 41 est 0b101001\n",
      "La représentation binaire de l'entier positif décimal 42 est 0b101010\n",
      "La représentation binaire de l'entier positif décimal 43 est 0b101011\n",
      "La représentation binaire de l'entier positif décimal 44 est 0b101100\n",
      "La représentation binaire de l'entier positif décimal 45 est 0b101101\n",
      "La représentation binaire de l'entier positif décimal 46 est 0b101110\n",
      "La représentation binaire de l'entier positif décimal 47 est 0b101111\n",
      "La représentation binaire de l'entier positif décimal 48 est 0b110000\n",
      "La représentation binaire de l'entier positif décimal 49 est 0b110001\n",
      "La représentation binaire de l'entier positif décimal 50 est 0b110010\n",
      "La représentation binaire de l'entier positif décimal 51 est 0b110011\n",
      "La représentation binaire de l'entier positif décimal 52 est 0b110100\n",
      "La représentation binaire de l'entier positif décimal 53 est 0b110101\n",
      "La représentation binaire de l'entier positif décimal 54 est 0b110110\n",
      "La représentation binaire de l'entier positif décimal 55 est 0b110111\n",
      "La représentation binaire de l'entier positif décimal 56 est 0b111000\n",
      "La représentation binaire de l'entier positif décimal 57 est 0b111001\n",
      "La représentation binaire de l'entier positif décimal 58 est 0b111010\n",
      "La représentation binaire de l'entier positif décimal 59 est 0b111011\n",
      "La représentation binaire de l'entier positif décimal 60 est 0b111100\n",
      "La représentation binaire de l'entier positif décimal 61 est 0b111101\n",
      "La représentation binaire de l'entier positif décimal 62 est 0b111110\n",
      "La représentation binaire de l'entier positif décimal 63 est 0b111111\n",
      "La représentation binaire de l'entier positif décimal 64 est 0b1000000\n",
      "La représentation binaire de l'entier positif décimal 65 est 0b1000001\n",
      "La représentation binaire de l'entier positif décimal 66 est 0b1000010\n",
      "La représentation binaire de l'entier positif décimal 67 est 0b1000011\n",
      "La représentation binaire de l'entier positif décimal 68 est 0b1000100\n",
      "La représentation binaire de l'entier positif décimal 69 est 0b1000101\n",
      "La représentation binaire de l'entier positif décimal 70 est 0b1000110\n",
      "La représentation binaire de l'entier positif décimal 71 est 0b1000111\n",
      "La représentation binaire de l'entier positif décimal 72 est 0b1001000\n",
      "La représentation binaire de l'entier positif décimal 73 est 0b1001001\n",
      "La représentation binaire de l'entier positif décimal 74 est 0b1001010\n",
      "La représentation binaire de l'entier positif décimal 75 est 0b1001011\n",
      "La représentation binaire de l'entier positif décimal 76 est 0b1001100\n",
      "La représentation binaire de l'entier positif décimal 77 est 0b1001101\n",
      "La représentation binaire de l'entier positif décimal 78 est 0b1001110\n",
      "La représentation binaire de l'entier positif décimal 79 est 0b1001111\n",
      "La représentation binaire de l'entier positif décimal 80 est 0b1010000\n",
      "La représentation binaire de l'entier positif décimal 81 est 0b1010001\n",
      "La représentation binaire de l'entier positif décimal 82 est 0b1010010\n",
      "La représentation binaire de l'entier positif décimal 83 est 0b1010011\n",
      "La représentation binaire de l'entier positif décimal 84 est 0b1010100\n",
      "La représentation binaire de l'entier positif décimal 85 est 0b1010101\n",
      "La représentation binaire de l'entier positif décimal 86 est 0b1010110\n",
      "La représentation binaire de l'entier positif décimal 87 est 0b1010111\n",
      "La représentation binaire de l'entier positif décimal 88 est 0b1011000\n",
      "La représentation binaire de l'entier positif décimal 89 est 0b1011001\n",
      "La représentation binaire de l'entier positif décimal 90 est 0b1011010\n",
      "La représentation binaire de l'entier positif décimal 91 est 0b1011011\n",
      "La représentation binaire de l'entier positif décimal 92 est 0b1011100\n",
      "La représentation binaire de l'entier positif décimal 93 est 0b1011101\n",
      "La représentation binaire de l'entier positif décimal 94 est 0b1011110\n",
      "La représentation binaire de l'entier positif décimal 95 est 0b1011111\n",
      "La représentation binaire de l'entier positif décimal 96 est 0b1100000\n",
      "La représentation binaire de l'entier positif décimal 97 est 0b1100001\n",
      "La représentation binaire de l'entier positif décimal 98 est 0b1100010\n",
      "La représentation binaire de l'entier positif décimal 99 est 0b1100011\n",
      "La représentation binaire de l'entier positif décimal 100 est 0b1100100\n",
      "La représentation binaire de l'entier positif décimal 101 est 0b1100101\n",
      "La représentation binaire de l'entier positif décimal 102 est 0b1100110\n",
      "La représentation binaire de l'entier positif décimal 103 est 0b1100111\n",
      "La représentation binaire de l'entier positif décimal 104 est 0b1101000\n",
      "La représentation binaire de l'entier positif décimal 105 est 0b1101001\n",
      "La représentation binaire de l'entier positif décimal 106 est 0b1101010\n",
      "La représentation binaire de l'entier positif décimal 107 est 0b1101011\n",
      "La représentation binaire de l'entier positif décimal 108 est 0b1101100\n",
      "La représentation binaire de l'entier positif décimal 109 est 0b1101101\n",
      "La représentation binaire de l'entier positif décimal 110 est 0b1101110\n",
      "La représentation binaire de l'entier positif décimal 111 est 0b1101111\n",
      "La représentation binaire de l'entier positif décimal 112 est 0b1110000\n",
      "La représentation binaire de l'entier positif décimal 113 est 0b1110001\n",
      "La représentation binaire de l'entier positif décimal 114 est 0b1110010\n",
      "La représentation binaire de l'entier positif décimal 115 est 0b1110011\n",
      "La représentation binaire de l'entier positif décimal 116 est 0b1110100\n",
      "La représentation binaire de l'entier positif décimal 117 est 0b1110101\n",
      "La représentation binaire de l'entier positif décimal 118 est 0b1110110\n",
      "La représentation binaire de l'entier positif décimal 119 est 0b1110111\n",
      "La représentation binaire de l'entier positif décimal 120 est 0b1111000\n",
      "La représentation binaire de l'entier positif décimal 121 est 0b1111001\n",
      "La représentation binaire de l'entier positif décimal 122 est 0b1111010\n",
      "La représentation binaire de l'entier positif décimal 123 est 0b1111011\n",
      "La représentation binaire de l'entier positif décimal 124 est 0b1111100\n",
      "La représentation binaire de l'entier positif décimal 125 est 0b1111101\n",
      "La représentation binaire de l'entier positif décimal 126 est 0b1111110\n",
      "La représentation binaire de l'entier positif décimal 127 est 0b1111111\n",
      "La représentation binaire de l'entier positif décimal 128 est 0b10000000\n",
      "La représentation binaire de l'entier positif décimal 129 est 0b10000001\n",
      "La représentation binaire de l'entier positif décimal 130 est 0b10000010\n",
      "La représentation binaire de l'entier positif décimal 131 est 0b10000011\n",
      "La représentation binaire de l'entier positif décimal 132 est 0b10000100\n",
      "La représentation binaire de l'entier positif décimal 133 est 0b10000101\n",
      "La représentation binaire de l'entier positif décimal 134 est 0b10000110\n",
      "La représentation binaire de l'entier positif décimal 135 est 0b10000111\n",
      "La représentation binaire de l'entier positif décimal 136 est 0b10001000\n",
      "La représentation binaire de l'entier positif décimal 137 est 0b10001001\n",
      "La représentation binaire de l'entier positif décimal 138 est 0b10001010\n",
      "La représentation binaire de l'entier positif décimal 139 est 0b10001011\n",
      "La représentation binaire de l'entier positif décimal 140 est 0b10001100\n",
      "La représentation binaire de l'entier positif décimal 141 est 0b10001101\n",
      "La représentation binaire de l'entier positif décimal 142 est 0b10001110\n",
      "La représentation binaire de l'entier positif décimal 143 est 0b10001111\n",
      "La représentation binaire de l'entier positif décimal 144 est 0b10010000\n",
      "La représentation binaire de l'entier positif décimal 145 est 0b10010001\n",
      "La représentation binaire de l'entier positif décimal 146 est 0b10010010\n",
      "La représentation binaire de l'entier positif décimal 147 est 0b10010011\n",
      "La représentation binaire de l'entier positif décimal 148 est 0b10010100\n",
      "La représentation binaire de l'entier positif décimal 149 est 0b10010101\n",
      "La représentation binaire de l'entier positif décimal 150 est 0b10010110\n",
      "La représentation binaire de l'entier positif décimal 151 est 0b10010111\n",
      "La représentation binaire de l'entier positif décimal 152 est 0b10011000\n",
      "La représentation binaire de l'entier positif décimal 153 est 0b10011001\n",
      "La représentation binaire de l'entier positif décimal 154 est 0b10011010\n",
      "La représentation binaire de l'entier positif décimal 155 est 0b10011011\n",
      "La représentation binaire de l'entier positif décimal 156 est 0b10011100\n",
      "La représentation binaire de l'entier positif décimal 157 est 0b10011101\n",
      "La représentation binaire de l'entier positif décimal 158 est 0b10011110\n",
      "La représentation binaire de l'entier positif décimal 159 est 0b10011111\n",
      "La représentation binaire de l'entier positif décimal 160 est 0b10100000\n",
      "La représentation binaire de l'entier positif décimal 161 est 0b10100001\n",
      "La représentation binaire de l'entier positif décimal 162 est 0b10100010\n",
      "La représentation binaire de l'entier positif décimal 163 est 0b10100011\n",
      "La représentation binaire de l'entier positif décimal 164 est 0b10100100\n",
      "La représentation binaire de l'entier positif décimal 165 est 0b10100101\n",
      "La représentation binaire de l'entier positif décimal 166 est 0b10100110\n",
      "La représentation binaire de l'entier positif décimal 167 est 0b10100111\n",
      "La représentation binaire de l'entier positif décimal 168 est 0b10101000\n",
      "La représentation binaire de l'entier positif décimal 169 est 0b10101001\n",
      "La représentation binaire de l'entier positif décimal 170 est 0b10101010\n",
      "La représentation binaire de l'entier positif décimal 171 est 0b10101011\n",
      "La représentation binaire de l'entier positif décimal 172 est 0b10101100\n",
      "La représentation binaire de l'entier positif décimal 173 est 0b10101101\n",
      "La représentation binaire de l'entier positif décimal 174 est 0b10101110\n",
      "La représentation binaire de l'entier positif décimal 175 est 0b10101111\n",
      "La représentation binaire de l'entier positif décimal 176 est 0b10110000\n",
      "La représentation binaire de l'entier positif décimal 177 est 0b10110001\n",
      "La représentation binaire de l'entier positif décimal 178 est 0b10110010\n",
      "La représentation binaire de l'entier positif décimal 179 est 0b10110011\n",
      "La représentation binaire de l'entier positif décimal 180 est 0b10110100\n",
      "La représentation binaire de l'entier positif décimal 181 est 0b10110101\n",
      "La représentation binaire de l'entier positif décimal 182 est 0b10110110\n",
      "La représentation binaire de l'entier positif décimal 183 est 0b10110111\n",
      "La représentation binaire de l'entier positif décimal 184 est 0b10111000\n",
      "La représentation binaire de l'entier positif décimal 185 est 0b10111001\n",
      "La représentation binaire de l'entier positif décimal 186 est 0b10111010\n",
      "La représentation binaire de l'entier positif décimal 187 est 0b10111011\n",
      "La représentation binaire de l'entier positif décimal 188 est 0b10111100\n",
      "La représentation binaire de l'entier positif décimal 189 est 0b10111101\n",
      "La représentation binaire de l'entier positif décimal 190 est 0b10111110\n",
      "La représentation binaire de l'entier positif décimal 191 est 0b10111111\n",
      "La représentation binaire de l'entier positif décimal 192 est 0b11000000\n",
      "La représentation binaire de l'entier positif décimal 193 est 0b11000001\n",
      "La représentation binaire de l'entier positif décimal 194 est 0b11000010\n",
      "La représentation binaire de l'entier positif décimal 195 est 0b11000011\n",
      "La représentation binaire de l'entier positif décimal 196 est 0b11000100\n",
      "La représentation binaire de l'entier positif décimal 197 est 0b11000101\n",
      "La représentation binaire de l'entier positif décimal 198 est 0b11000110\n",
      "La représentation binaire de l'entier positif décimal 199 est 0b11000111\n",
      "La représentation binaire de l'entier positif décimal 200 est 0b11001000\n",
      "La représentation binaire de l'entier positif décimal 201 est 0b11001001\n",
      "La représentation binaire de l'entier positif décimal 202 est 0b11001010\n",
      "La représentation binaire de l'entier positif décimal 203 est 0b11001011\n",
      "La représentation binaire de l'entier positif décimal 204 est 0b11001100\n",
      "La représentation binaire de l'entier positif décimal 205 est 0b11001101\n",
      "La représentation binaire de l'entier positif décimal 206 est 0b11001110\n",
      "La représentation binaire de l'entier positif décimal 207 est 0b11001111\n",
      "La représentation binaire de l'entier positif décimal 208 est 0b11010000\n",
      "La représentation binaire de l'entier positif décimal 209 est 0b11010001\n",
      "La représentation binaire de l'entier positif décimal 210 est 0b11010010\n",
      "La représentation binaire de l'entier positif décimal 211 est 0b11010011\n",
      "La représentation binaire de l'entier positif décimal 212 est 0b11010100\n",
      "La représentation binaire de l'entier positif décimal 213 est 0b11010101\n",
      "La représentation binaire de l'entier positif décimal 214 est 0b11010110\n",
      "La représentation binaire de l'entier positif décimal 215 est 0b11010111\n",
      "La représentation binaire de l'entier positif décimal 216 est 0b11011000\n",
      "La représentation binaire de l'entier positif décimal 217 est 0b11011001\n",
      "La représentation binaire de l'entier positif décimal 218 est 0b11011010\n",
      "La représentation binaire de l'entier positif décimal 219 est 0b11011011\n",
      "La représentation binaire de l'entier positif décimal 220 est 0b11011100\n",
      "La représentation binaire de l'entier positif décimal 221 est 0b11011101\n",
      "La représentation binaire de l'entier positif décimal 222 est 0b11011110\n",
      "La représentation binaire de l'entier positif décimal 223 est 0b11011111\n",
      "La représentation binaire de l'entier positif décimal 224 est 0b11100000\n",
      "La représentation binaire de l'entier positif décimal 225 est 0b11100001\n",
      "La représentation binaire de l'entier positif décimal 226 est 0b11100010\n",
      "La représentation binaire de l'entier positif décimal 227 est 0b11100011\n",
      "La représentation binaire de l'entier positif décimal 228 est 0b11100100\n",
      "La représentation binaire de l'entier positif décimal 229 est 0b11100101\n",
      "La représentation binaire de l'entier positif décimal 230 est 0b11100110\n",
      "La représentation binaire de l'entier positif décimal 231 est 0b11100111\n",
      "La représentation binaire de l'entier positif décimal 232 est 0b11101000\n",
      "La représentation binaire de l'entier positif décimal 233 est 0b11101001\n",
      "La représentation binaire de l'entier positif décimal 234 est 0b11101010\n",
      "La représentation binaire de l'entier positif décimal 235 est 0b11101011\n",
      "La représentation binaire de l'entier positif décimal 236 est 0b11101100\n",
      "La représentation binaire de l'entier positif décimal 237 est 0b11101101\n",
      "La représentation binaire de l'entier positif décimal 238 est 0b11101110\n",
      "La représentation binaire de l'entier positif décimal 239 est 0b11101111\n",
      "La représentation binaire de l'entier positif décimal 240 est 0b11110000\n",
      "La représentation binaire de l'entier positif décimal 241 est 0b11110001\n",
      "La représentation binaire de l'entier positif décimal 242 est 0b11110010\n",
      "La représentation binaire de l'entier positif décimal 243 est 0b11110011\n",
      "La représentation binaire de l'entier positif décimal 244 est 0b11110100\n",
      "La représentation binaire de l'entier positif décimal 245 est 0b11110101\n",
      "La représentation binaire de l'entier positif décimal 246 est 0b11110110\n",
      "La représentation binaire de l'entier positif décimal 247 est 0b11110111\n",
      "La représentation binaire de l'entier positif décimal 248 est 0b11111000\n",
      "La représentation binaire de l'entier positif décimal 249 est 0b11111001\n",
      "La représentation binaire de l'entier positif décimal 250 est 0b11111010\n",
      "La représentation binaire de l'entier positif décimal 251 est 0b11111011\n",
      "La représentation binaire de l'entier positif décimal 252 est 0b11111100\n",
      "La représentation binaire de l'entier positif décimal 253 est 0b11111101\n",
      "La représentation binaire de l'entier positif décimal 254 est 0b11111110\n",
      "La représentation binaire de l'entier positif décimal 255 est 0b11111111\n"
     ]
    }
   ],
   "source": [
    "for nombre in range (0,256) :\n",
    "    print(f\"La représentation binaire de l'entier positif décimal {nombre} est \" + bin(nombre))"
   ]
  },
  {
   "cell_type": "markdown",
   "metadata": {},
   "source": [
    "Le script suivant produit un résultat qui permet de vérifier notre travail et génère un code que l'on peut coller dans la cellule suivante en Markdown :"
   ]
  },
  {
   "cell_type": "code",
   "execution_count": 12,
   "metadata": {},
   "outputs": [
    {
     "name": "stdout",
     "output_type": "stream",
     "text": [
      "| décimal | binaire |\n",
      "|:--------|--------:|\n",
      "| $0$ | 0b0 |\n",
      "| $1$ | 0b1 |\n",
      "| $2$ | 0b10 |\n",
      "| $3$ | 0b11 |\n",
      "| $4$ | 0b100 |\n",
      "| $5$ | 0b101 |\n",
      "| $6$ | 0b110 |\n",
      "| $7$ | 0b111 |\n",
      "| $8$ | 0b1000 |\n",
      "| $9$ | 0b1001 |\n",
      "| $10$ | 0b1010 |\n",
      "| $11$ | 0b1011 |\n",
      "| $12$ | 0b1100 |\n",
      "| $13$ | 0b1101 |\n",
      "| $14$ | 0b1110 |\n",
      "| $15$ | 0b1111 |\n",
      "| $16$ | 0b10000 |\n",
      "| $17$ | 0b10001 |\n",
      "| $18$ | 0b10010 |\n",
      "| $19$ | 0b10011 |\n",
      "| $20$ | 0b10100 |\n",
      "| $21$ | 0b10101 |\n",
      "| $22$ | 0b10110 |\n",
      "| $23$ | 0b10111 |\n",
      "| $24$ | 0b11000 |\n",
      "| $25$ | 0b11001 |\n",
      "| $26$ | 0b11010 |\n",
      "| $27$ | 0b11011 |\n",
      "| $28$ | 0b11100 |\n",
      "| $29$ | 0b11101 |\n",
      "| $30$ | 0b11110 |\n",
      "| $31$ | 0b11111 |\n",
      "| $32$ | 0b100000 |\n",
      "| $33$ | 0b100001 |\n",
      "| $34$ | 0b100010 |\n",
      "| $35$ | 0b100011 |\n",
      "| $36$ | 0b100100 |\n",
      "| $37$ | 0b100101 |\n",
      "| $38$ | 0b100110 |\n",
      "| $39$ | 0b100111 |\n",
      "| $40$ | 0b101000 |\n",
      "| $41$ | 0b101001 |\n",
      "| $42$ | 0b101010 |\n",
      "| $43$ | 0b101011 |\n",
      "| $44$ | 0b101100 |\n",
      "| $45$ | 0b101101 |\n",
      "| $46$ | 0b101110 |\n",
      "| $47$ | 0b101111 |\n",
      "| $48$ | 0b110000 |\n",
      "| $49$ | 0b110001 |\n",
      "| $50$ | 0b110010 |\n",
      "| $51$ | 0b110011 |\n",
      "| $52$ | 0b110100 |\n",
      "| $53$ | 0b110101 |\n",
      "| $54$ | 0b110110 |\n",
      "| $55$ | 0b110111 |\n",
      "| $56$ | 0b111000 |\n",
      "| $57$ | 0b111001 |\n",
      "| $58$ | 0b111010 |\n",
      "| $59$ | 0b111011 |\n",
      "| $60$ | 0b111100 |\n",
      "| $61$ | 0b111101 |\n",
      "| $62$ | 0b111110 |\n",
      "| $63$ | 0b111111 |\n",
      "| $64$ | 0b1000000 |\n",
      "| $65$ | 0b1000001 |\n",
      "| $66$ | 0b1000010 |\n",
      "| $67$ | 0b1000011 |\n",
      "| $68$ | 0b1000100 |\n",
      "| $69$ | 0b1000101 |\n",
      "| $70$ | 0b1000110 |\n",
      "| $71$ | 0b1000111 |\n",
      "| $72$ | 0b1001000 |\n",
      "| $73$ | 0b1001001 |\n",
      "| $74$ | 0b1001010 |\n",
      "| $75$ | 0b1001011 |\n",
      "| $76$ | 0b1001100 |\n",
      "| $77$ | 0b1001101 |\n",
      "| $78$ | 0b1001110 |\n",
      "| $79$ | 0b1001111 |\n",
      "| $80$ | 0b1010000 |\n",
      "| $81$ | 0b1010001 |\n",
      "| $82$ | 0b1010010 |\n",
      "| $83$ | 0b1010011 |\n",
      "| $84$ | 0b1010100 |\n",
      "| $85$ | 0b1010101 |\n",
      "| $86$ | 0b1010110 |\n",
      "| $87$ | 0b1010111 |\n",
      "| $88$ | 0b1011000 |\n",
      "| $89$ | 0b1011001 |\n",
      "| $90$ | 0b1011010 |\n",
      "| $91$ | 0b1011011 |\n",
      "| $92$ | 0b1011100 |\n",
      "| $93$ | 0b1011101 |\n",
      "| $94$ | 0b1011110 |\n",
      "| $95$ | 0b1011111 |\n",
      "| $96$ | 0b1100000 |\n",
      "| $97$ | 0b1100001 |\n",
      "| $98$ | 0b1100010 |\n",
      "| $99$ | 0b1100011 |\n",
      "| $100$ | 0b1100100 |\n",
      "| $101$ | 0b1100101 |\n",
      "| $102$ | 0b1100110 |\n",
      "| $103$ | 0b1100111 |\n",
      "| $104$ | 0b1101000 |\n",
      "| $105$ | 0b1101001 |\n",
      "| $106$ | 0b1101010 |\n",
      "| $107$ | 0b1101011 |\n",
      "| $108$ | 0b1101100 |\n",
      "| $109$ | 0b1101101 |\n",
      "| $110$ | 0b1101110 |\n",
      "| $111$ | 0b1101111 |\n",
      "| $112$ | 0b1110000 |\n",
      "| $113$ | 0b1110001 |\n",
      "| $114$ | 0b1110010 |\n",
      "| $115$ | 0b1110011 |\n",
      "| $116$ | 0b1110100 |\n",
      "| $117$ | 0b1110101 |\n",
      "| $118$ | 0b1110110 |\n",
      "| $119$ | 0b1110111 |\n",
      "| $120$ | 0b1111000 |\n",
      "| $121$ | 0b1111001 |\n",
      "| $122$ | 0b1111010 |\n",
      "| $123$ | 0b1111011 |\n",
      "| $124$ | 0b1111100 |\n",
      "| $125$ | 0b1111101 |\n",
      "| $126$ | 0b1111110 |\n",
      "| $127$ | 0b1111111 |\n",
      "| $128$ | 0b10000000 |\n",
      "| $129$ | 0b10000001 |\n",
      "| $130$ | 0b10000010 |\n",
      "| $131$ | 0b10000011 |\n",
      "| $132$ | 0b10000100 |\n",
      "| $133$ | 0b10000101 |\n",
      "| $134$ | 0b10000110 |\n",
      "| $135$ | 0b10000111 |\n",
      "| $136$ | 0b10001000 |\n",
      "| $137$ | 0b10001001 |\n",
      "| $138$ | 0b10001010 |\n",
      "| $139$ | 0b10001011 |\n",
      "| $140$ | 0b10001100 |\n",
      "| $141$ | 0b10001101 |\n",
      "| $142$ | 0b10001110 |\n",
      "| $143$ | 0b10001111 |\n",
      "| $144$ | 0b10010000 |\n",
      "| $145$ | 0b10010001 |\n",
      "| $146$ | 0b10010010 |\n",
      "| $147$ | 0b10010011 |\n",
      "| $148$ | 0b10010100 |\n",
      "| $149$ | 0b10010101 |\n",
      "| $150$ | 0b10010110 |\n",
      "| $151$ | 0b10010111 |\n",
      "| $152$ | 0b10011000 |\n",
      "| $153$ | 0b10011001 |\n",
      "| $154$ | 0b10011010 |\n",
      "| $155$ | 0b10011011 |\n",
      "| $156$ | 0b10011100 |\n",
      "| $157$ | 0b10011101 |\n",
      "| $158$ | 0b10011110 |\n",
      "| $159$ | 0b10011111 |\n",
      "| $160$ | 0b10100000 |\n",
      "| $161$ | 0b10100001 |\n",
      "| $162$ | 0b10100010 |\n",
      "| $163$ | 0b10100011 |\n",
      "| $164$ | 0b10100100 |\n",
      "| $165$ | 0b10100101 |\n",
      "| $166$ | 0b10100110 |\n",
      "| $167$ | 0b10100111 |\n",
      "| $168$ | 0b10101000 |\n",
      "| $169$ | 0b10101001 |\n",
      "| $170$ | 0b10101010 |\n",
      "| $171$ | 0b10101011 |\n",
      "| $172$ | 0b10101100 |\n",
      "| $173$ | 0b10101101 |\n",
      "| $174$ | 0b10101110 |\n",
      "| $175$ | 0b10101111 |\n",
      "| $176$ | 0b10110000 |\n",
      "| $177$ | 0b10110001 |\n",
      "| $178$ | 0b10110010 |\n",
      "| $179$ | 0b10110011 |\n",
      "| $180$ | 0b10110100 |\n",
      "| $181$ | 0b10110101 |\n",
      "| $182$ | 0b10110110 |\n",
      "| $183$ | 0b10110111 |\n",
      "| $184$ | 0b10111000 |\n",
      "| $185$ | 0b10111001 |\n",
      "| $186$ | 0b10111010 |\n",
      "| $187$ | 0b10111011 |\n",
      "| $188$ | 0b10111100 |\n",
      "| $189$ | 0b10111101 |\n",
      "| $190$ | 0b10111110 |\n",
      "| $191$ | 0b10111111 |\n",
      "| $192$ | 0b11000000 |\n",
      "| $193$ | 0b11000001 |\n",
      "| $194$ | 0b11000010 |\n",
      "| $195$ | 0b11000011 |\n",
      "| $196$ | 0b11000100 |\n",
      "| $197$ | 0b11000101 |\n",
      "| $198$ | 0b11000110 |\n",
      "| $199$ | 0b11000111 |\n",
      "| $200$ | 0b11001000 |\n",
      "| $201$ | 0b11001001 |\n",
      "| $202$ | 0b11001010 |\n",
      "| $203$ | 0b11001011 |\n",
      "| $204$ | 0b11001100 |\n",
      "| $205$ | 0b11001101 |\n",
      "| $206$ | 0b11001110 |\n",
      "| $207$ | 0b11001111 |\n",
      "| $208$ | 0b11010000 |\n",
      "| $209$ | 0b11010001 |\n",
      "| $210$ | 0b11010010 |\n",
      "| $211$ | 0b11010011 |\n",
      "| $212$ | 0b11010100 |\n",
      "| $213$ | 0b11010101 |\n",
      "| $214$ | 0b11010110 |\n",
      "| $215$ | 0b11010111 |\n",
      "| $216$ | 0b11011000 |\n",
      "| $217$ | 0b11011001 |\n",
      "| $218$ | 0b11011010 |\n",
      "| $219$ | 0b11011011 |\n",
      "| $220$ | 0b11011100 |\n",
      "| $221$ | 0b11011101 |\n",
      "| $222$ | 0b11011110 |\n",
      "| $223$ | 0b11011111 |\n",
      "| $224$ | 0b11100000 |\n",
      "| $225$ | 0b11100001 |\n",
      "| $226$ | 0b11100010 |\n",
      "| $227$ | 0b11100011 |\n",
      "| $228$ | 0b11100100 |\n",
      "| $229$ | 0b11100101 |\n",
      "| $230$ | 0b11100110 |\n",
      "| $231$ | 0b11100111 |\n",
      "| $232$ | 0b11101000 |\n",
      "| $233$ | 0b11101001 |\n",
      "| $234$ | 0b11101010 |\n",
      "| $235$ | 0b11101011 |\n",
      "| $236$ | 0b11101100 |\n",
      "| $237$ | 0b11101101 |\n",
      "| $238$ | 0b11101110 |\n",
      "| $239$ | 0b11101111 |\n",
      "| $240$ | 0b11110000 |\n",
      "| $241$ | 0b11110001 |\n",
      "| $242$ | 0b11110010 |\n",
      "| $243$ | 0b11110011 |\n",
      "| $244$ | 0b11110100 |\n",
      "| $245$ | 0b11110101 |\n",
      "| $246$ | 0b11110110 |\n",
      "| $247$ | 0b11110111 |\n",
      "| $248$ | 0b11111000 |\n",
      "| $249$ | 0b11111001 |\n",
      "| $250$ | 0b11111010 |\n",
      "| $251$ | 0b11111011 |\n",
      "| $252$ | 0b11111100 |\n",
      "| $253$ | 0b11111101 |\n",
      "| $254$ | 0b11111110 |\n",
      "| $255$ | 0b11111111 |\n"
     ]
    }
   ],
   "source": [
    "print(\"| décimal | binaire |\")\n",
    "print(\"|:--------|--------:|\")\n",
    "for nombre in range (0,256) :\n",
    "    print(f\"| ${nombre}$ | \" + bin(nombre) + \" |\")"
   ]
  },
  {
   "cell_type": "markdown",
   "metadata": {},
   "source": [
    "On obtient un trop grand tableau car cela génère aussi la représentation binaire de nombres qui ne sont pas dans le tableau initial :"
   ]
  },
  {
   "cell_type": "markdown",
   "metadata": {},
   "source": [
    "| décimal | binaire |\n",
    "|:--------|--------:|\n",
    "| $0$ | 0b0 |\n",
    "| $1$ | 0b1 |\n",
    "| $2$ | 0b10 |\n",
    "| $3$ | 0b11 |\n",
    "| $4$ | 0b100 |\n",
    "| $5$ | 0b101 |\n",
    "| $6$ | 0b110 |\n",
    "| $7$ | 0b111 |\n",
    "| $8$ | 0b1000 |\n",
    "| $9$ | 0b1001 |\n",
    "| $10$ | 0b1010 |\n",
    "| $11$ | 0b1011 |\n",
    "| $12$ | 0b1100 |\n",
    "| $13$ | 0b1101 |\n",
    "| $14$ | 0b1110 |\n",
    "| $15$ | 0b1111 |\n",
    "| $16$ | 0b10000 |\n",
    "| $17$ | 0b10001 |\n",
    "| $18$ | 0b10010 |\n",
    "| $19$ | 0b10011 |\n",
    "| $20$ | 0b10100 |\n",
    "| $21$ | 0b10101 |\n",
    "| $22$ | 0b10110 |\n",
    "| $23$ | 0b10111 |\n",
    "| $24$ | 0b11000 |\n",
    "| $25$ | 0b11001 |\n",
    "| $26$ | 0b11010 |\n",
    "| $27$ | 0b11011 |\n",
    "| $28$ | 0b11100 |\n",
    "| $29$ | 0b11101 |\n",
    "| $30$ | 0b11110 |\n",
    "| $31$ | 0b11111 |\n",
    "| $32$ | 0b100000 |\n",
    "| $33$ | 0b100001 |\n",
    "| $34$ | 0b100010 |\n",
    "| $35$ | 0b100011 |\n",
    "| $36$ | 0b100100 |\n",
    "| $37$ | 0b100101 |\n",
    "| $38$ | 0b100110 |\n",
    "| $39$ | 0b100111 |\n",
    "| $40$ | 0b101000 |\n",
    "| $41$ | 0b101001 |\n",
    "| $42$ | 0b101010 |\n",
    "| $43$ | 0b101011 |\n",
    "| $44$ | 0b101100 |\n",
    "| $45$ | 0b101101 |\n",
    "| $46$ | 0b101110 |\n",
    "| $47$ | 0b101111 |\n",
    "| $48$ | 0b110000 |\n",
    "| $49$ | 0b110001 |\n",
    "| $50$ | 0b110010 |\n",
    "| $51$ | 0b110011 |\n",
    "| $52$ | 0b110100 |\n",
    "| $53$ | 0b110101 |\n",
    "| $54$ | 0b110110 |\n",
    "| $55$ | 0b110111 |\n",
    "| $56$ | 0b111000 |\n",
    "| $57$ | 0b111001 |\n",
    "| $58$ | 0b111010 |\n",
    "| $59$ | 0b111011 |\n",
    "| $60$ | 0b111100 |\n",
    "| $61$ | 0b111101 |\n",
    "| $62$ | 0b111110 |\n",
    "| $63$ | 0b111111 |\n",
    "| $64$ | 0b1000000 |\n",
    "| $65$ | 0b1000001 |\n",
    "| $66$ | 0b1000010 |\n",
    "| $67$ | 0b1000011 |\n",
    "| $68$ | 0b1000100 |\n",
    "| $69$ | 0b1000101 |\n",
    "| $70$ | 0b1000110 |\n",
    "| $71$ | 0b1000111 |\n",
    "| $72$ | 0b1001000 |\n",
    "| $73$ | 0b1001001 |\n",
    "| $74$ | 0b1001010 |\n",
    "| $75$ | 0b1001011 |\n",
    "| $76$ | 0b1001100 |\n",
    "| $77$ | 0b1001101 |\n",
    "| $78$ | 0b1001110 |\n",
    "| $79$ | 0b1001111 |\n",
    "| $80$ | 0b1010000 |\n",
    "| $81$ | 0b1010001 |\n",
    "| $82$ | 0b1010010 |\n",
    "| $83$ | 0b1010011 |\n",
    "| $84$ | 0b1010100 |\n",
    "| $85$ | 0b1010101 |\n",
    "| $86$ | 0b1010110 |\n",
    "| $87$ | 0b1010111 |\n",
    "| $88$ | 0b1011000 |\n",
    "| $89$ | 0b1011001 |\n",
    "| $90$ | 0b1011010 |\n",
    "| $91$ | 0b1011011 |\n",
    "| $92$ | 0b1011100 |\n",
    "| $93$ | 0b1011101 |\n",
    "| $94$ | 0b1011110 |\n",
    "| $95$ | 0b1011111 |\n",
    "| $96$ | 0b1100000 |\n",
    "| $97$ | 0b1100001 |\n",
    "| $98$ | 0b1100010 |\n",
    "| $99$ | 0b1100011 |\n",
    "| $100$ | 0b1100100 |\n",
    "| $101$ | 0b1100101 |\n",
    "| $102$ | 0b1100110 |\n",
    "| $103$ | 0b1100111 |\n",
    "| $104$ | 0b1101000 |\n",
    "| $105$ | 0b1101001 |\n",
    "| $106$ | 0b1101010 |\n",
    "| $107$ | 0b1101011 |\n",
    "| $108$ | 0b1101100 |\n",
    "| $109$ | 0b1101101 |\n",
    "| $110$ | 0b1101110 |\n",
    "| $111$ | 0b1101111 |\n",
    "| $112$ | 0b1110000 |\n",
    "| $113$ | 0b1110001 |\n",
    "| $114$ | 0b1110010 |\n",
    "| $115$ | 0b1110011 |\n",
    "| $116$ | 0b1110100 |\n",
    "| $117$ | 0b1110101 |\n",
    "| $118$ | 0b1110110 |\n",
    "| $119$ | 0b1110111 |\n",
    "| $120$ | 0b1111000 |\n",
    "| $121$ | 0b1111001 |\n",
    "| $122$ | 0b1111010 |\n",
    "| $123$ | 0b1111011 |\n",
    "| $124$ | 0b1111100 |\n",
    "| $125$ | 0b1111101 |\n",
    "| $126$ | 0b1111110 |\n",
    "| $127$ | 0b1111111 |\n",
    "| $128$ | 0b10000000 |\n",
    "| $129$ | 0b10000001 |\n",
    "| $130$ | 0b10000010 |\n",
    "| $131$ | 0b10000011 |\n",
    "| $132$ | 0b10000100 |\n",
    "| $133$ | 0b10000101 |\n",
    "| $134$ | 0b10000110 |\n",
    "| $135$ | 0b10000111 |\n",
    "| $136$ | 0b10001000 |\n",
    "| $137$ | 0b10001001 |\n",
    "| $138$ | 0b10001010 |\n",
    "| $139$ | 0b10001011 |\n",
    "| $140$ | 0b10001100 |\n",
    "| $141$ | 0b10001101 |\n",
    "| $142$ | 0b10001110 |\n",
    "| $143$ | 0b10001111 |\n",
    "| $144$ | 0b10010000 |\n",
    "| $145$ | 0b10010001 |\n",
    "| $146$ | 0b10010010 |\n",
    "| $147$ | 0b10010011 |\n",
    "| $148$ | 0b10010100 |\n",
    "| $149$ | 0b10010101 |\n",
    "| $150$ | 0b10010110 |\n",
    "| $151$ | 0b10010111 |\n",
    "| $152$ | 0b10011000 |\n",
    "| $153$ | 0b10011001 |\n",
    "| $154$ | 0b10011010 |\n",
    "| $155$ | 0b10011011 |\n",
    "| $156$ | 0b10011100 |\n",
    "| $157$ | 0b10011101 |\n",
    "| $158$ | 0b10011110 |\n",
    "| $159$ | 0b10011111 |\n",
    "| $160$ | 0b10100000 |\n",
    "| $161$ | 0b10100001 |\n",
    "| $162$ | 0b10100010 |\n",
    "| $163$ | 0b10100011 |\n",
    "| $164$ | 0b10100100 |\n",
    "| $165$ | 0b10100101 |\n",
    "| $166$ | 0b10100110 |\n",
    "| $167$ | 0b10100111 |\n",
    "| $168$ | 0b10101000 |\n",
    "| $169$ | 0b10101001 |\n",
    "| $170$ | 0b10101010 |\n",
    "| $171$ | 0b10101011 |\n",
    "| $172$ | 0b10101100 |\n",
    "| $173$ | 0b10101101 |\n",
    "| $174$ | 0b10101110 |\n",
    "| $175$ | 0b10101111 |\n",
    "| $176$ | 0b10110000 |\n",
    "| $177$ | 0b10110001 |\n",
    "| $178$ | 0b10110010 |\n",
    "| $179$ | 0b10110011 |\n",
    "| $180$ | 0b10110100 |\n",
    "| $181$ | 0b10110101 |\n",
    "| $182$ | 0b10110110 |\n",
    "| $183$ | 0b10110111 |\n",
    "| $184$ | 0b10111000 |\n",
    "| $185$ | 0b10111001 |\n",
    "| $186$ | 0b10111010 |\n",
    "| $187$ | 0b10111011 |\n",
    "| $188$ | 0b10111100 |\n",
    "| $189$ | 0b10111101 |\n",
    "| $190$ | 0b10111110 |\n",
    "| $191$ | 0b10111111 |\n",
    "| $192$ | 0b11000000 |\n",
    "| $193$ | 0b11000001 |\n",
    "| $194$ | 0b11000010 |\n",
    "| $195$ | 0b11000011 |\n",
    "| $196$ | 0b11000100 |\n",
    "| $197$ | 0b11000101 |\n",
    "| $198$ | 0b11000110 |\n",
    "| $199$ | 0b11000111 |\n",
    "| $200$ | 0b11001000 |\n",
    "| $201$ | 0b11001001 |\n",
    "| $202$ | 0b11001010 |\n",
    "| $203$ | 0b11001011 |\n",
    "| $204$ | 0b11001100 |\n",
    "| $205$ | 0b11001101 |\n",
    "| $206$ | 0b11001110 |\n",
    "| $207$ | 0b11001111 |\n",
    "| $208$ | 0b11010000 |\n",
    "| $209$ | 0b11010001 |\n",
    "| $210$ | 0b11010010 |\n",
    "| $211$ | 0b11010011 |\n",
    "| $212$ | 0b11010100 |\n",
    "| $213$ | 0b11010101 |\n",
    "| $214$ | 0b11010110 |\n",
    "| $215$ | 0b11010111 |\n",
    "| $216$ | 0b11011000 |\n",
    "| $217$ | 0b11011001 |\n",
    "| $218$ | 0b11011010 |\n",
    "| $219$ | 0b11011011 |\n",
    "| $220$ | 0b11011100 |\n",
    "| $221$ | 0b11011101 |\n",
    "| $222$ | 0b11011110 |\n",
    "| $223$ | 0b11011111 |\n",
    "| $224$ | 0b11100000 |\n",
    "| $225$ | 0b11100001 |\n",
    "| $226$ | 0b11100010 |\n",
    "| $227$ | 0b11100011 |\n",
    "| $228$ | 0b11100100 |\n",
    "| $229$ | 0b11100101 |\n",
    "| $230$ | 0b11100110 |\n",
    "| $231$ | 0b11100111 |\n",
    "| $232$ | 0b11101000 |\n",
    "| $233$ | 0b11101001 |\n",
    "| $234$ | 0b11101010 |\n",
    "| $235$ | 0b11101011 |\n",
    "| $236$ | 0b11101100 |\n",
    "| $237$ | 0b11101101 |\n",
    "| $238$ | 0b11101110 |\n",
    "| $239$ | 0b11101111 |\n",
    "| $240$ | 0b11110000 |\n",
    "| $241$ | 0b11110001 |\n",
    "| $242$ | 0b11110010 |\n",
    "| $243$ | 0b11110011 |\n",
    "| $244$ | 0b11110100 |\n",
    "| $245$ | 0b11110101 |\n",
    "| $246$ | 0b11110110 |\n",
    "| $247$ | 0b11110111 |\n",
    "| $248$ | 0b11111000 |\n",
    "| $249$ | 0b11111001 |\n",
    "| $250$ | 0b11111010 |\n",
    "| $251$ | 0b11111011 |\n",
    "| $252$ | 0b11111100 |\n",
    "| $253$ | 0b11111101 |\n",
    "| $254$ | 0b11111110 |\n",
    "| $255$ | 0b11111111 |"
   ]
  },
  {
   "cell_type": "markdown",
   "metadata": {},
   "source": [
    "On peut limiter la première boucle pour aller de 1 jusquà 16 inclus et parcourir ensuite dans une deuxième boucle la collection des nombres restants à convertir que l'on aura préalablement défini dans une variable de type `tuple` (p-uplet en Français) :"
   ]
  },
  {
   "cell_type": "code",
   "execution_count": 13,
   "metadata": {},
   "outputs": [
    {
     "name": "stdout",
     "output_type": "stream",
     "text": [
      "| décimal | binaire |\n",
      "|:--------|--------:|\n",
      "| $1$ | 0b1 |\n",
      "| $2$ | 0b10 |\n",
      "| $3$ | 0b11 |\n",
      "| $4$ | 0b100 |\n",
      "| $5$ | 0b101 |\n",
      "| $6$ | 0b110 |\n",
      "| $7$ | 0b111 |\n",
      "| $8$ | 0b1000 |\n",
      "| $9$ | 0b1001 |\n",
      "| $10$ | 0b1010 |\n",
      "| $11$ | 0b1011 |\n",
      "| $12$ | 0b1100 |\n",
      "| $13$ | 0b1101 |\n",
      "| $14$ | 0b1110 |\n",
      "| $15$ | 0b1111 |\n",
      "| $16$ | 0b10000 |\n",
      "| $20$ | 0b10100 |\n",
      "| $50$ | 0b110010 |\n",
      "| $100$ | 0b1100100 |\n",
      "| $200$ | 0b11001000 |\n",
      "| $255$ | 0b11111111 |\n"
     ]
    }
   ],
   "source": [
    "print(\"| décimal | binaire |\")\n",
    "print(\"|:--------|--------:|\")\n",
    "for nombre in range (1,17) :\n",
    "    print(f\"| ${nombre}$ | \" + bin(nombre) + \" |\")\n",
    "monTuple = (20, 50, 100, 200, 255)\n",
    "for nombre in monTuple :\n",
    "    print(f\"| ${nombre}$ | \" + bin(nombre) + \" |\")"
   ]
  },
  {
   "cell_type": "markdown",
   "metadata": {},
   "source": [
    "| décimal | binaire |\n",
    "|:--------|--------:|\n",
    "| $1$ | 0b1 |\n",
    "| $2$ | 0b10 |\n",
    "| $3$ | 0b11 |\n",
    "| $4$ | 0b100 |\n",
    "| $5$ | 0b101 |\n",
    "| $6$ | 0b110 |\n",
    "| $7$ | 0b111 |\n",
    "| $8$ | 0b1000 |\n",
    "| $9$ | 0b1001 |\n",
    "| $10$ | 0b1010 |\n",
    "| $11$ | 0b1011 |\n",
    "| $12$ | 0b1100 |\n",
    "| $13$ | 0b1101 |\n",
    "| $14$ | 0b1110 |\n",
    "| $15$ | 0b1111 |\n",
    "| $16$ | 0b10000 |\n",
    "| $20$ | 0b10100 |\n",
    "| $50$ | 0b110010 |\n",
    "| $100$ | 0b1100100 |\n",
    "| $200$ | 0b11001000 |\n",
    "| $255$ | 0b11111111 |"
   ]
  },
  {
   "cell_type": "markdown",
   "metadata": {},
   "source": [
    "Voilà, nous optenons un tableau qui permet de vérifier notre travail de conversion des entiers décimaux de la colonne de gauche en binaire. Cependant il ne respecte pas tout à fait le format du tableau initial car la fonction `bin()` nous renvoie la représentation binaire d'un entier d'un bloc, dans une seule et même chaine de caractères, et qui commence systématiquement par les caractères ``'0b'``. Pour produire un résultat décomposé caractère par caractère il nous faut donc créer notre propre convertisseur binaire..."
   ]
  },
  {
   "cell_type": "markdown",
   "metadata": {},
   "source": [
    "### Phase 5 :\n",
    "Proposez un algorithme de convertion d'un nombre entier du système décimal dans le système binaire en vous inspirant de la méthode précédante :"
   ]
  },
  {
   "cell_type": "markdown",
   "metadata": {},
   "source": [
    "<img src=\"http://culturemath.ens.fr/sites/default/files/Magie%20im%203.jpg\" alt=\"Par_Soustractions_Successives\" title=\"Par_Soustractions_Successives\" width=60%>"
   ]
  },
  {
   "cell_type": "markdown",
   "metadata": {},
   "source": [
    "### Phase 6 :\n",
    "Recherchez une autre méthode de convertion d'un nombre entier du système décimal dans le système binaire :"
   ]
  },
  {
   "cell_type": "markdown",
   "metadata": {},
   "source": [
    "Par divisions successives."
   ]
  },
  {
   "cell_type": "markdown",
   "metadata": {},
   "source": [
    "### Phase 7 :\n",
    "Proposez un autre algorithme de convertion d'un nombre entier du système décimal dans le système binaire en vous inspirant de cette seconde méthode :"
   ]
  },
  {
   "cell_type": "markdown",
   "metadata": {},
   "source": [
    "<img src=\"http://culturemath.ens.fr/sites/default/files/Magie%20im%204.jpg\" alt=\"Par_Division_Successives\" title=\"Par_Division_Successives\" width=60%>"
   ]
  },
  {
   "cell_type": "markdown",
   "metadata": {},
   "source": [
    "## 3- Implémenter votre convertisseur décimale => binaire personnel :\n",
    "### Phase 8 :\n",
    "A partir des algorithmes de conversion établis précédemment, implémenter en Python un convertisseur décimal -> binaire en binôme chacun selon une des deux méthodes étudiées, vérifier que chacun de vos scripts produit le même résultat que la méthode python **``bin()``** produit.\n",
    "\n",
    "#### a) Version par division successives :"
   ]
  },
  {
   "cell_type": "code",
   "execution_count": 18,
   "metadata": {},
   "outputs": [
    {
     "name": "stdout",
     "output_type": "stream",
     "text": [
      "Saisir un nombre entier positif en base 10 : 20\n",
      "La représentation binaire de l'entier positif décimal 20 est 0b10100\n",
      "La fonction bin(20) renvoie 0b10100\n"
     ]
    }
   ],
   "source": [
    "nombre = int(input('Saisir un nombre entier positif en base 10 : '))\n",
    "reponse =\"\"\n",
    "quotient = nombre\n",
    "while quotient != 0 :\n",
    "    reste = quotient % 2\n",
    "    reponse = str(reste) + reponse\n",
    "    quotient = quotient // 2\n",
    "print(f\"La représentation binaire de l'entier positif décimal {nombre} est 0b{reponse}\")\n",
    "print(f\"La fonction bin({nombre}) renvoie {bin(nombre)}\")"
   ]
  },
  {
   "cell_type": "markdown",
   "metadata": {},
   "source": [
    "#### b) Version par soustractions successives :"
   ]
  },
  {
   "cell_type": "code",
   "execution_count": 19,
   "metadata": {},
   "outputs": [
    {
     "name": "stdout",
     "output_type": "stream",
     "text": [
      "Saisir un nombre entier positif en base 10 : 20\n",
      "La représentation binaire de l'entier positif décimal 20 est 0b10100\n",
      "La fonction bin(20) renvoie 0b10100\n"
     ]
    }
   ],
   "source": [
    "nombre_saisie = int(input('Saisir un nombre entier positif en base 10 : '))\n",
    "rang = 0\n",
    "nombre = nombre_saisie\n",
    "# recherche du rang maximum du nombre\n",
    "while nombre >= 2 ** (rang+1) :\n",
    "    rang = rang +1\n",
    "#print(rang)\n",
    "\n",
    "reponse=\"\"\n",
    "if nombre == 0 :\n",
    "    reponse = \"0\"\n",
    "    \n",
    "while nombre != 0 :\n",
    "    if nombre == 2 ** rang :\n",
    "        reponse = reponse + \"1\" + \"0\" * rang\n",
    "        break\n",
    "    elif nombre > 2 ** rang :\n",
    "        reponse = reponse + \"1\"\n",
    "        nombre = nombre - 2 ** rang\n",
    "    else :\n",
    "        reponse = reponse + \"0\"\n",
    "    rang = rang -1\n",
    "#print(reponse)\n",
    "print(f\"La représentation binaire de l'entier positif décimal {nombre_saisie} est 0b{reponse}\")\n",
    "print(f\"La fonction bin({nombre_saisie}) renvoie {bin(nombre_saisie)}\")"
   ]
  },
  {
   "cell_type": "markdown",
   "metadata": {},
   "source": [
    "#### Utiliser l'outil Python tutor pour voir le fonctionnement de ces scripts pas à pas tel que :\n",
    "\n",
    "[Python tutor](http://pythontutor.com/) permet de visualiser pas à pas ce que fait votre script.\n",
    "\n",
    "Il est possible de l'utiliser dans un notebook jupyter pour celà il faut :\n",
    "1. l'installer dans Carnets (si ce n'est pas déjà fait) : ``%pip install metakernel``\n",
    "1. puis exécuter les instructions de la cellule suivante :"
   ]
  },
  {
   "cell_type": "code",
   "execution_count": 20,
   "metadata": {},
   "outputs": [],
   "source": [
    "from metakernel import register_ipython_magics\n",
    "register_ipython_magics()"
   ]
  },
  {
   "cell_type": "code",
   "execution_count": 21,
   "metadata": {},
   "outputs": [
    {
     "data": {
      "text/html": [
       "\n",
       "        <iframe\n",
       "            width=\"100%\"\n",
       "            height=\"500\"\n",
       "            src=\"https://pythontutor.com/iframe-embed.html#code=%0Anombre%20%3D%20int%28input%28%27Saisir%20un%20nombre%20entier%20positif%20en%20base%2010%20%3A%20%27%29%29%0Areponse%20%3D%22%22%0Aquotient%20%3D%20nombre%0Awhile%20quotient%20%21%3D%200%20%3A%0A%20%20%20%20reste%20%3D%20quotient%20%25%202%0A%20%20%20%20reponse%20%3D%20str%28reste%29%20%2B%20reponse%0A%20%20%20%20quotient%20%3D%20quotient%20//%202%0Aprint%28f%22La%20repr%C3%A9sentation%20binaire%20de%20l%27entier%20positif%20d%C3%A9cimal%20%7Bnombre%7D%20est%200b%7Breponse%7D%22%29%0Aprint%28f%22La%20fonction%20bin%28%7Bnombre%7D%29%20renvoie%20%7Bbin%28nombre%29%7D%22%29&origin=opt-frontend.js&cumulative=false&heapPrimitives=false&textReferences=false&py=3&rawInputLstJSON=%5B%5D&curInstr=0&codeDivWidth=350&codeDivHeight=400\"\n",
       "            frameborder=\"0\"\n",
       "            allowfullscreen\n",
       "        ></iframe>\n",
       "        "
      ],
      "text/plain": [
       "<IPython.lib.display.IFrame at 0x27ead53b358>"
      ]
     },
     "metadata": {},
     "output_type": "display_data"
    }
   ],
   "source": [
    "%%tutor\n",
    "\n",
    "nombre = int(input('Saisir un nombre entier positif en base 10 : '))\n",
    "reponse =\"\"\n",
    "quotient = nombre\n",
    "while quotient != 0 :\n",
    "    reste = quotient % 2\n",
    "    reponse = str(reste) + reponse\n",
    "    quotient = quotient // 2\n",
    "print(f\"La représentation binaire de l'entier positif décimal {nombre} est 0b{reponse}\")\n",
    "print(f\"La fonction bin({nombre}) renvoie {bin(nombre)}\")"
   ]
  },
  {
   "cell_type": "code",
   "execution_count": 22,
   "metadata": {},
   "outputs": [
    {
     "data": {
      "text/html": [
       "\n",
       "        <iframe\n",
       "            width=\"100%\"\n",
       "            height=\"500\"\n",
       "            src=\"https://pythontutor.com/iframe-embed.html#code=%0Anombre_saisie%20%3D%20int%28input%28%27Saisir%20un%20nombre%20entier%20positif%20en%20base%2010%20%3A%20%27%29%29%0Arang%20%3D%200%0Anombre%20%3D%20nombre_saisie%0A%23%20recherche%20du%20rang%20maximum%20du%20nombre%0Awhile%20nombre%20%3E%3D%202%20%2A%2A%20%28rang%2B1%29%20%3A%0A%20%20%20%20rang%20%3D%20rang%20%2B1%0A%23print%28rang%29%0A%0Areponse%3D%22%22%0Aif%20nombre%20%3D%3D%200%20%3A%0A%20%20%20%20reponse%20%3D%20%220%22%0A%20%20%20%20%0Awhile%20nombre%20%21%3D%200%20%3A%0A%20%20%20%20if%20nombre%20%3D%3D%202%20%2A%2A%20rang%20%3A%0A%20%20%20%20%20%20%20%20reponse%20%3D%20reponse%20%2B%20%221%22%20%2B%20%220%22%20%2A%20rang%0A%20%20%20%20%20%20%20%20break%0A%20%20%20%20elif%20nombre%20%3E%202%20%2A%2A%20rang%20%3A%0A%20%20%20%20%20%20%20%20reponse%20%3D%20reponse%20%2B%20%221%22%0A%20%20%20%20%20%20%20%20nombre%20%3D%20nombre%20-%202%20%2A%2A%20rang%0A%20%20%20%20else%20%3A%0A%20%20%20%20%20%20%20%20reponse%20%3D%20reponse%20%2B%20%220%22%0A%20%20%20%20rang%20%3D%20rang%20-1%0A%23print%28reponse%29%0Aprint%28f%22La%20repr%C3%A9sentation%20binaire%20de%20l%27entier%20positif%20d%C3%A9cimal%20%7Bnombre_saisie%7D%20est%200b%7Breponse%7D%22%29%0Aprint%28f%22La%20fonction%20bin%28%7Bnombre_saisie%7D%29%20renvoie%20%7Bbin%28nombre_saisie%29%7D%22%29&origin=opt-frontend.js&cumulative=false&heapPrimitives=false&textReferences=false&py=3&rawInputLstJSON=%5B%5D&curInstr=0&codeDivWidth=350&codeDivHeight=400\"\n",
       "            frameborder=\"0\"\n",
       "            allowfullscreen\n",
       "        ></iframe>\n",
       "        "
      ],
      "text/plain": [
       "<IPython.lib.display.IFrame at 0x27ead50f7b8>"
      ]
     },
     "metadata": {},
     "output_type": "display_data"
    }
   ],
   "source": [
    "%%tutor\n",
    "\n",
    "nombre_saisie = int(input('Saisir un nombre entier positif en base 10 : '))\n",
    "rang = 0\n",
    "nombre = nombre_saisie\n",
    "# recherche du rang maximum du nombre\n",
    "while nombre >= 2 ** (rang+1) :\n",
    "    rang = rang +1\n",
    "#print(rang)\n",
    "\n",
    "reponse=\"\"\n",
    "if nombre == 0 :\n",
    "    reponse = \"0\"\n",
    "    \n",
    "while nombre != 0 :\n",
    "    if nombre == 2 ** rang :\n",
    "        reponse = reponse + \"1\" + \"0\" * rang\n",
    "        break\n",
    "    elif nombre > 2 ** rang :\n",
    "        reponse = reponse + \"1\"\n",
    "        nombre = nombre - 2 ** rang\n",
    "    else :\n",
    "        reponse = reponse + \"0\"\n",
    "    rang = rang -1\n",
    "#print(reponse)\n",
    "print(f\"La représentation binaire de l'entier positif décimal {nombre_saisie} est 0b{reponse}\")\n",
    "print(f\"La fonction bin({nombre_saisie}) renvoie {bin(nombre_saisie)}\")"
   ]
  },
  {
   "cell_type": "markdown",
   "metadata": {},
   "source": [
    "#### Fonction de conversion\n",
    "Nous pouvons mieux organiser et structurer notre code en définissant nos propres fonctions de conversion d'un entier de base 10 en base 2 équivalente à la fonction ``bin()`` native de Python 3 et ainsi pouvoir les réutiliser :"
   ]
  },
  {
   "cell_type": "code",
   "execution_count": 23,
   "metadata": {},
   "outputs": [],
   "source": [
    "def maFonctionBin(nombre) :\n",
    "    reponse =\"\"\n",
    "    quotient = nombre\n",
    "    while quotient != 0 :\n",
    "        reste = quotient % 2\n",
    "        reponse = str(reste) + reponse\n",
    "        quotient = quotient // 2\n",
    "    return (f\"0b{reponse}\")"
   ]
  },
  {
   "cell_type": "code",
   "execution_count": 24,
   "metadata": {},
   "outputs": [],
   "source": [
    "def monAutreFonctionBin(nombre) :\n",
    "    # appel de la fonction de recherche du rang maximum du nombre à convertir\n",
    "    rang = rechercheRang(nombre)\n",
    "        \n",
    "    reponse =\"\"\n",
    "    \n",
    "    if nombre == 0 :\n",
    "        reponse = \"0\"\n",
    "        \n",
    "    while nombre != 0 :\n",
    "        if nombre == 2 ** rang :\n",
    "            reponse = reponse + \"1\" + \"0\" * rang\n",
    "            break\n",
    "        elif nombre > 2 ** rang :\n",
    "            reponse = reponse + \"1\"\n",
    "            nombre = nombre - 2 ** rang\n",
    "        else :\n",
    "            reponse = reponse + \"0\"\n",
    "        rang = rang -1\n",
    "    return (f\"0b{reponse}\")\n",
    "\n",
    "# definition de la fonction de recherche du rang maximum du nombre à convertir\n",
    "def rechercheRang(nombre) :\n",
    "    rang = 0\n",
    "    while nombre >= 2 ** (rang+1) :\n",
    "        rang = rang +1\n",
    "    return (rang) \n"
   ]
  },
  {
   "cell_type": "code",
   "execution_count": 25,
   "metadata": {},
   "outputs": [
    {
     "data": {
      "text/plain": [
       "'0b11001000'"
      ]
     },
     "execution_count": 25,
     "metadata": {},
     "output_type": "execute_result"
    }
   ],
   "source": [
    "bin(200)"
   ]
  },
  {
   "cell_type": "code",
   "execution_count": 26,
   "metadata": {},
   "outputs": [
    {
     "data": {
      "text/plain": [
       "'0b11001000'"
      ]
     },
     "execution_count": 26,
     "metadata": {},
     "output_type": "execute_result"
    }
   ],
   "source": [
    "maFonctionBin(200)"
   ]
  },
  {
   "cell_type": "code",
   "execution_count": 27,
   "metadata": {},
   "outputs": [
    {
     "data": {
      "text/plain": [
       "'0b11001000'"
      ]
     },
     "execution_count": 27,
     "metadata": {},
     "output_type": "execute_result"
    }
   ],
   "source": [
    "monAutreFonctionBin(200)"
   ]
  },
  {
   "cell_type": "markdown",
   "metadata": {},
   "source": [
    "Maintenant que nous maitrisons notre propre convertisseur, nous pouvons facilement l'adapter pour produire un résultat conforme au format du tableau initial tel que par exemple :"
   ]
  },
  {
   "cell_type": "code",
   "execution_count": 28,
   "metadata": {},
   "outputs": [
    {
     "name": "stdout",
     "output_type": "stream",
     "text": [
      "| dec\\bin | $128$ | $64$  | $32$  | $16$  |  $8$  |  $4$  |  $2$  |  $1$  |\n",
      "|---------|:-----:|:-----:|:-----:|:-----:|:-----:|:-----:|:-----:|:-----:|\n",
      "| $1$ | $0$ | $0$ | $0$ | $0$ | $0$ | $0$ | $0$ | $1$  |\n",
      "| $2$ | $0$ | $0$ | $0$ | $0$ | $0$ | $0$ | $1$ | $0$  |\n",
      "| $3$ | $0$ | $0$ | $0$ | $0$ | $0$ | $0$ | $1$ | $1$  |\n",
      "| $4$ | $0$ | $0$ | $0$ | $0$ | $0$ | $1$ | $0$ | $0$  |\n",
      "| $5$ | $0$ | $0$ | $0$ | $0$ | $0$ | $1$ | $0$ | $1$  |\n",
      "| $6$ | $0$ | $0$ | $0$ | $0$ | $0$ | $1$ | $1$ | $0$  |\n",
      "| $7$ | $0$ | $0$ | $0$ | $0$ | $0$ | $1$ | $1$ | $1$  |\n",
      "| $8$ | $0$ | $0$ | $0$ | $0$ | $1$ | $0$ | $0$ | $0$  |\n",
      "| $9$ | $0$ | $0$ | $0$ | $0$ | $1$ | $0$ | $0$ | $1$  |\n",
      "| $10$ | $0$ | $0$ | $0$ | $0$ | $1$ | $0$ | $1$ | $0$  |\n",
      "| $11$ | $0$ | $0$ | $0$ | $0$ | $1$ | $0$ | $1$ | $1$  |\n",
      "| $12$ | $0$ | $0$ | $0$ | $0$ | $1$ | $1$ | $0$ | $0$  |\n",
      "| $13$ | $0$ | $0$ | $0$ | $0$ | $1$ | $1$ | $0$ | $1$  |\n",
      "| $14$ | $0$ | $0$ | $0$ | $0$ | $1$ | $1$ | $1$ | $0$  |\n",
      "| $15$ | $0$ | $0$ | $0$ | $0$ | $1$ | $1$ | $1$ | $1$  |\n",
      "| $16$ | $0$ | $0$ | $0$ | $1$ | $0$ | $0$ | $0$ | $0$  |\n",
      "| $20$ | $0$ | $0$ | $0$ | $1$ | $0$ | $1$ | $0$ | $0$  |\n",
      "| $50$ | $0$ | $0$ | $1$ | $1$ | $0$ | $0$ | $1$ | $0$  |\n",
      "| $100$ | $0$ | $1$ | $1$ | $0$ | $0$ | $1$ | $0$ | $0$  |\n",
      "| $200$ | $1$ | $1$ | $0$ | $0$ | $1$ | $0$ | $0$ | $0$  |\n",
      "| $255$ | $1$ | $1$ | $1$ | $1$ | $1$ | $1$ | $1$ | $1$  |\n"
     ]
    }
   ],
   "source": [
    "def maFonctionBinSpeciale(nombre) :\n",
    "    reponse =\" |\"\n",
    "    quotient = nombre\n",
    "    for i in range(8) :\n",
    "        reste = quotient % 2\n",
    "        reponse = f\"| ${reste}$ \" + reponse\n",
    "        quotient = quotient // 2\n",
    "    return (f\"{reponse}\")\n",
    "    \n",
    "\n",
    "print(\"| dec\\\\bin | $128$ | $64$  | $32$  | $16$  |  $8$  |  $4$  |  $2$  |  $1$  |\")\n",
    "print(\"|---------|:-----:|:-----:|:-----:|:-----:|:-----:|:-----:|:-----:|:-----:|\")\n",
    "for nombre in range (1,17) :\n",
    "    print(f\"| ${nombre}$ \" + maFonctionBinSpeciale(nombre))\n",
    "monTuple = (20, 50, 100, 200, 255)\n",
    "for nombre in monTuple :\n",
    "    print(f\"| ${nombre}$ \" + maFonctionBinSpeciale(nombre))"
   ]
  },
  {
   "cell_type": "markdown",
   "metadata": {},
   "source": [
    "Il suffit de coller ce code dans la cellule markdown suivante pour obtenir le tableau :"
   ]
  },
  {
   "cell_type": "markdown",
   "metadata": {},
   "source": [
    "| dec\\bin | $128$ | $64$  | $32$  | $16$  |  $8$  |  $4$  |  $2$  |  $1$  |\n",
    "|---------|:-----:|:-----:|:-----:|:-----:|:-----:|:-----:|:-----:|:-----:|\n",
    "| $1$ | $0$ | $0$ | $0$ | $0$ | $0$ | $0$ | $0$ | $1$  |\n",
    "| $2$ | $0$ | $0$ | $0$ | $0$ | $0$ | $0$ | $1$ | $0$  |\n",
    "| $3$ | $0$ | $0$ | $0$ | $0$ | $0$ | $0$ | $1$ | $1$  |\n",
    "| $4$ | $0$ | $0$ | $0$ | $0$ | $0$ | $1$ | $0$ | $0$  |\n",
    "| $5$ | $0$ | $0$ | $0$ | $0$ | $0$ | $1$ | $0$ | $1$  |\n",
    "| $6$ | $0$ | $0$ | $0$ | $0$ | $0$ | $1$ | $1$ | $0$  |\n",
    "| $7$ | $0$ | $0$ | $0$ | $0$ | $0$ | $1$ | $1$ | $1$  |\n",
    "| $8$ | $0$ | $0$ | $0$ | $0$ | $1$ | $0$ | $0$ | $0$  |\n",
    "| $9$ | $0$ | $0$ | $0$ | $0$ | $1$ | $0$ | $0$ | $1$  |\n",
    "| $10$ | $0$ | $0$ | $0$ | $0$ | $1$ | $0$ | $1$ | $0$  |\n",
    "| $11$ | $0$ | $0$ | $0$ | $0$ | $1$ | $0$ | $1$ | $1$  |\n",
    "| $12$ | $0$ | $0$ | $0$ | $0$ | $1$ | $1$ | $0$ | $0$  |\n",
    "| $13$ | $0$ | $0$ | $0$ | $0$ | $1$ | $1$ | $0$ | $1$  |\n",
    "| $14$ | $0$ | $0$ | $0$ | $0$ | $1$ | $1$ | $1$ | $0$  |\n",
    "| $15$ | $0$ | $0$ | $0$ | $0$ | $1$ | $1$ | $1$ | $1$  |\n",
    "| $16$ | $0$ | $0$ | $0$ | $1$ | $0$ | $0$ | $0$ | $0$  |\n",
    "| $20$ | $0$ | $0$ | $0$ | $1$ | $0$ | $1$ | $0$ | $0$  |\n",
    "| $50$ | $0$ | $0$ | $1$ | $1$ | $0$ | $0$ | $1$ | $0$  |\n",
    "| $100$ | $0$ | $1$ | $1$ | $0$ | $0$ | $1$ | $0$ | $0$  |\n",
    "| $200$ | $1$ | $1$ | $0$ | $0$ | $1$ | $0$ | $0$ | $0$  |\n",
    "| $255$ | $1$ | $1$ | $1$ | $1$ | $1$ | $1$ | $1$ | $1$  |"
   ]
  },
  {
   "cell_type": "markdown",
   "metadata": {},
   "source": [
    "Et en HTML :"
   ]
  },
  {
   "cell_type": "code",
   "execution_count": 29,
   "metadata": {},
   "outputs": [
    {
     "data": {
      "text/html": [
       "\n",
       "<table>\n",
       "    <thead>\n",
       "        <th>dec\\bin</th><th>$128$</th><th>$64$</th><th>$32$</th><th>$16$</th><th>$8$</th><th>$4$</th><th>$2$</th><th>$1$</th>\n",
       "    </thead>\n",
       "    <tbody>\n",
       "<tr><td>$1$</td><td>$0$</td><td>$0$</td><td>$0$</td><td>$0$</td><td>$0$</td><td>$0$</td><td>$0$</td><td>$1$</td></tr><tr><td>$2$</td><td>$0$</td><td>$0$</td><td>$0$</td><td>$0$</td><td>$0$</td><td>$0$</td><td>$1$</td><td>$0$</td></tr><tr><td>$3$</td><td>$0$</td><td>$0$</td><td>$0$</td><td>$0$</td><td>$0$</td><td>$0$</td><td>$1$</td><td>$1$</td></tr><tr><td>$4$</td><td>$0$</td><td>$0$</td><td>$0$</td><td>$0$</td><td>$0$</td><td>$1$</td><td>$0$</td><td>$0$</td></tr><tr><td>$5$</td><td>$0$</td><td>$0$</td><td>$0$</td><td>$0$</td><td>$0$</td><td>$1$</td><td>$0$</td><td>$1$</td></tr><tr><td>$6$</td><td>$0$</td><td>$0$</td><td>$0$</td><td>$0$</td><td>$0$</td><td>$1$</td><td>$1$</td><td>$0$</td></tr><tr><td>$7$</td><td>$0$</td><td>$0$</td><td>$0$</td><td>$0$</td><td>$0$</td><td>$1$</td><td>$1$</td><td>$1$</td></tr><tr><td>$8$</td><td>$0$</td><td>$0$</td><td>$0$</td><td>$0$</td><td>$1$</td><td>$0$</td><td>$0$</td><td>$0$</td></tr><tr><td>$9$</td><td>$0$</td><td>$0$</td><td>$0$</td><td>$0$</td><td>$1$</td><td>$0$</td><td>$0$</td><td>$1$</td></tr><tr><td>$10$</td><td>$0$</td><td>$0$</td><td>$0$</td><td>$0$</td><td>$1$</td><td>$0$</td><td>$1$</td><td>$0$</td></tr><tr><td>$11$</td><td>$0$</td><td>$0$</td><td>$0$</td><td>$0$</td><td>$1$</td><td>$0$</td><td>$1$</td><td>$1$</td></tr><tr><td>$12$</td><td>$0$</td><td>$0$</td><td>$0$</td><td>$0$</td><td>$1$</td><td>$1$</td><td>$0$</td><td>$0$</td></tr><tr><td>$13$</td><td>$0$</td><td>$0$</td><td>$0$</td><td>$0$</td><td>$1$</td><td>$1$</td><td>$0$</td><td>$1$</td></tr><tr><td>$14$</td><td>$0$</td><td>$0$</td><td>$0$</td><td>$0$</td><td>$1$</td><td>$1$</td><td>$1$</td><td>$0$</td></tr><tr><td>$15$</td><td>$0$</td><td>$0$</td><td>$0$</td><td>$0$</td><td>$1$</td><td>$1$</td><td>$1$</td><td>$1$</td></tr><tr><td>$16$</td><td>$0$</td><td>$0$</td><td>$0$</td><td>$1$</td><td>$0$</td><td>$0$</td><td>$0$</td><td>$0$</td></tr><tr><td>$20$</td><td>$0$</td><td>$0$</td><td>$0$</td><td>$1$</td><td>$0$</td><td>$1$</td><td>$0$</td><td>$0$</td></tr><tr><td>$50$</td><td>$0$</td><td>$0$</td><td>$1$</td><td>$1$</td><td>$0$</td><td>$0$</td><td>$1$</td><td>$0$</td></tr><tr><td>$100$</td><td>$0$</td><td>$1$</td><td>$1$</td><td>$0$</td><td>$0$</td><td>$1$</td><td>$0$</td><td>$0$</td></tr><tr><td>$200$</td><td>$1$</td><td>$1$</td><td>$0$</td><td>$0$</td><td>$1$</td><td>$0$</td><td>$0$</td><td>$0$</td></tr><tr><td>$255$</td><td>$1$</td><td>$1$</td><td>$1$</td><td>$1$</td><td>$1$</td><td>$1$</td><td>$1$</td><td>$1$</td></tr></tbody></table>"
      ],
      "text/plain": [
       "<IPython.core.display.HTML object>"
      ]
     },
     "execution_count": 29,
     "metadata": {},
     "output_type": "execute_result"
    }
   ],
   "source": [
    "from IPython.display import HTML\n",
    "\n",
    "chaine = '''\n",
    "<table>\n",
    "    <thead>\n",
    "        <th>dec\\\\bin</th><th>$128$</th><th>$64$</th><th>$32$</th><th>$16$</th><th>$8$</th><th>$4$</th><th>$2$</th><th>$1$</th>\n",
    "    </thead>\n",
    "    <tbody>\n",
    "'''\n",
    "\n",
    "def maFonctionBinTresSpeciale(nombre) :\n",
    "    reponse =\"</tr>\"\n",
    "    quotient = nombre\n",
    "    for i in range(8) :\n",
    "        reste = quotient % 2\n",
    "        reponse = f\"<td>${reste}$</td>\" + reponse\n",
    "        quotient = quotient // 2\n",
    "    return (f\"{reponse}\")\n",
    "    \n",
    "\n",
    "\n",
    "for nombre in range (1,17) :\n",
    "    chaine= chaine + f\"<tr><td>${nombre}$</td>\" + maFonctionBinTresSpeciale(nombre)\n",
    "\n",
    "monTuple = (20, 50, 100, 200, 255)\n",
    "for nombre in monTuple :\n",
    "    chaine= chaine + f\"<tr><td>${nombre}$</td>\" + maFonctionBinTresSpeciale(nombre)\n",
    "\n",
    "\n",
    "HTML(chaine +\"</tbody></table>\" )"
   ]
  },
  {
   "cell_type": "markdown",
   "metadata": {},
   "source": [
    "## 4- Découvrir l'addition binaire :\n",
    "### Phase 9 :\n",
    "- Dans le tableau ci-dessous, convertir les entiers $23$ et $56$ de la base $10$ à la base $2$ ;\n",
    "- Calculer la somme $23 + 56$ en représentation décimale ;\n",
    "- Convertir le résultat en binaire ;\n",
    "\n",
    "| Décimal\\Binaire |  $128$  |  $64$   |  $32$   |  $16$   |   $8$   |   $4$   |   $2$   |   $1$   |\n",
    "|:---------------:|:-------:|:-------:|:-------:|:-------:|:-------:|:-------:|:-------:|:-------:|\n",
    "|    $23$         |   $_$   |   $_$   |   $_$   |   $_$   |   $_$   |   $_$   |   $_$   |   $_$   |\n",
    "|    $56$         |   $_$   |   $_$   |   $_$   |   $_$   |   $_$   |   $_$   |   $_$   |   $_$   |\n",
    "|$23 + 56 =$ $__$ |   $_$   |   $_$   |   $_$   |   $_$   |   $_$   |   $_$   |   $_$   |   $_$   |\n",
    "\n",
    "- Deviner le principe d’une addition binaire ;\n",
    "- Appliquer à la somme d'autres nombres..."
   ]
  },
  {
   "cell_type": "markdown",
   "metadata": {},
   "source": [
    "****\n",
    "## Références aux programmes :\n",
    "\n",
    "<style type=\"text/css\">\n",
    ".tg  {border-collapse:collapse;border-spacing:0;}\n",
    ".tg td{font-family:Arial, sans-serif;font-size:14px;padding:10px 5px;border-style:solid;border-width:1px;overflow:hidden;word-break:normal;border-color:black;}\n",
    ".tg th{font-family:Arial, sans-serif;font-size:14px;font-weight:normal;padding:10px 5px;border-style:solid;border-width:1px;overflow:hidden;word-break:normal;border-color:black;}\n",
    ".tg .tg-cv16{font-weight:bold;background-color:#dae8fc;border-color:inherit;text-align:center}\n",
    ".tg .tg-xldj{border-color:inherit;text-align:left}\n",
    "</style>\n",
    "<table class=\"tg\">\n",
    "  <tr>\n",
    "    <th class=\"tg-cv16\">Compétences développées</th>\n",
    "    <th class=\"tg-cv16\">Capacités attendues</th>\n",
    "    <th class=\"tg-cv16\">Commentaires</th>\n",
    "  </tr>\n",
    "  <tr>\n",
    "    <td class=\"tg-xldj\">Écriture d’un entier positif dans une base b ⩾ 2</td>\n",
    "    <td class=\"tg-xldj\">Passer de la représentation d’une base dans une autre.</td>\n",
    "    <td class=\"tg-xldj\">Les bases 2, 10 et 16 sont privilégiées.</td>\n",
    "  </tr>\n",
    "</table>"
   ]
  },
  {
   "cell_type": "markdown",
   "metadata": {},
   "source": [
    "****\n",
    "### A retenir :\n",
    "- **Codage** : Opération consistant à représenter des informations à l'aide d'un code.\n",
    "- **Codage binaire** : Le code binaire utilise exclusivement les symboles 0 et 1 (systèmes logiques).\n",
    "- **Bit** : C'est le chiffre élémentaire de la numérotation binaire.\n",
    "- **Mot** : Groupe de \"n\" bits; un mot de 4 bits s'appelle un quartet, 8 bits s'appelle un octet...\n",
    "- **Poids** : Coefficient attaché au rang d'un chiffre dans un système de numérotation. En numérotation binaire, on parle du bit de plus faible poids qui est la position binaire de droite dans un mot et du bit de plus fort poids qui représente le bit situé le plus à gauche dans un mot.\n",
    "\n",
    "\n",
    "- *A vous de compléter ce mémo*...\n",
    "- ... \n",
    "\n",
    "***"
   ]
  },
  {
   "cell_type": "markdown",
   "metadata": {},
   "source": [
    "### Prolongement :\n",
    "\n",
    "Apprenez un tour de magie basé sur le binaire à l'aide des pages web suivante :\n",
    "- http://images.math.cnrs.fr/Jouons-binaire-je-devine-ce-que-tu-penses-4807.html\n",
    "- Et les cartes : https://kimunga.com/up/154.png\n",
    "- ou encore : http://culturemath.ens.fr/content/tour-de-magie-binaire\n",
    "\n"
   ]
  },
  {
   "cell_type": "markdown",
   "metadata": {},
   "source": [
    "<a rel=\"license\" href=\"http://creativecommons.org/licenses/by-sa/4.0/\"><img alt=\"Licence Creative Commons\" style=\"border-width:0\" src=\"https://i.creativecommons.org/l/by-sa/4.0/88x31.png\" /></a><br />Ce document adapté d'un travail de Nathalie Le Gac – Lycée Saint Vincent - RENNES est mis à disposition selon les termes de la <a rel=\"license\" href=\"http://creativecommons.org/licenses/by-sa/4.0/\">Licence Creative Commons Attribution -  Partage dans les Mêmes Conditions 4.0 International</a>.\n",
    "\n",
    "Pour toute question, suggestion ou commentaire : <a href=\"mailto:eric.madec@ecmorlaix.fr\">eric.madec@ecmorlaix.fr</a>"
   ]
  },
  {
   "cell_type": "code",
   "execution_count": null,
   "metadata": {},
   "outputs": [],
   "source": []
  }
 ],
 "metadata": {
  "celltoolbar": "Format de la Cellule Texte Brut",
  "kernelspec": {
   "display_name": "Python 3",
   "language": "python",
   "name": "python3"
  },
  "language_info": {
   "codemirror_mode": {
    "name": "ipython",
    "version": 3
   },
   "file_extension": ".py",
   "mimetype": "text/x-python",
   "name": "python",
   "nbconvert_exporter": "python",
   "pygments_lexer": "ipython3",
   "version": "3.7.3"
  },
  "toc": {
   "base_numbering": 1,
   "nav_menu": {},
   "number_sections": true,
   "sideBar": true,
   "skip_h1_title": false,
   "title_cell": "Table of Contents",
   "title_sidebar": "Contents",
   "toc_cell": false,
   "toc_position": {},
   "toc_section_display": true,
   "toc_window_display": false
  },
  "varInspector": {
   "cols": {
    "lenName": 16,
    "lenType": 16,
    "lenVar": 40
   },
   "kernels_config": {
    "python": {
     "delete_cmd_postfix": "",
     "delete_cmd_prefix": "del ",
     "library": "var_list.py",
     "varRefreshCmd": "print(var_dic_list())"
    },
    "r": {
     "delete_cmd_postfix": ") ",
     "delete_cmd_prefix": "rm(",
     "library": "var_list.r",
     "varRefreshCmd": "cat(var_dic_list()) "
    }
   },
   "types_to_exclude": [
    "module",
    "function",
    "builtin_function_or_method",
    "instance",
    "_Feature"
   ],
   "window_display": false
  }
 },
 "nbformat": 4,
 "nbformat_minor": 2
}
