{
 "cells": [
  {
   "cell_type": "markdown",
   "metadata": {},
   "source": [
    "# Le Bloc Note pour apprendre à coder des nombres en binaire"
   ]
  },
  {
   "cell_type": "markdown",
   "metadata": {},
   "source": [
    "## 1- Saurez-vous compter comme un ordinateur  ?\n",
    "\n",
    "Pour apprendre à compter comme le font les ordinateurs, vous allez commencer par jouer en binôme avec des cartes...\n",
    "\n",
    "### Préparation :\n",
    "Disposez les cinq cartes que vous avez reçues sur la table en face de vous en respectant l’ordre ci-dessous  :\n",
    "\n",
    "<img src=\"https://ericecmorlaix.github.io/img/5_Cartes.svg\" alt=\"5 cartes\" width=60%>\n",
    "\n",
    "### Phase 1 :\n",
    "Demandez à votre binôme de choisir un entier au hasard (ex :  $6$ , $21$, $15$ …) ;\n",
    "\n",
    "Retournez ou ne retournez pas certaines cartes de façon à compter autant de points visibles que le nombre entier choisi ;\n",
    "\n",
    "Maintenant inversez les rôles, et demandez à votre binôme d’afficher un autre entier que vous avez choisi au hasard..."
   ]
  },
  {
   "cell_type": "markdown",
   "metadata": {},
   "source": [
    "Existe-t-il un nombre qui peut être représenté de deux façons différentes avec les cartes ?"
   ]
  },
  {
   "cell_type": "raw",
   "metadata": {},
   "source": []
  },
  {
   "cell_type": "markdown",
   "metadata": {},
   "source": [
    "Peut-on afficher n'importe quel entier ? "
   ]
  },
  {
   "cell_type": "raw",
   "metadata": {},
   "source": []
  },
  {
   "cell_type": "markdown",
   "metadata": {},
   "source": [
    "Quel est le maximum ?  "
   ]
  },
  {
   "cell_type": "raw",
   "metadata": {},
   "source": []
  },
  {
   "cell_type": "markdown",
   "metadata": {},
   "source": [
    "> *Comptez à partir de $0$ et essayez de repérer le mécanisme de progression...*\n",
    "\n",
    "### Phase 2 :\n",
    "Pour chaque carte :\n",
    "- on note **``1``** si elle est tournée du côté visible (recto) ;\n",
    "- et on note **``0``** si la face est invisible (côté verso)."
   ]
  },
  {
   "cell_type": "markdown",
   "metadata": {},
   "source": [
    "Quel nombre est représenté par le mot **``01001``** ? "
   ]
  },
  {
   "cell_type": "raw",
   "metadata": {},
   "source": []
  },
  {
   "cell_type": "markdown",
   "metadata": {},
   "source": [
    "Quel nombre est représenté par le mot  **``00000``** ? "
   ]
  },
  {
   "cell_type": "raw",
   "metadata": {},
   "source": []
  },
  {
   "cell_type": "markdown",
   "metadata": {},
   "source": [
    "Quel nombre est représenté par le mot  **``11111``** ?"
   ]
  },
  {
   "cell_type": "raw",
   "metadata": {},
   "source": []
  },
  {
   "cell_type": "markdown",
   "metadata": {},
   "source": [
    "***\n",
    "\n",
    ">**Le système binaire** est un système de numération de position **de base deux** : les deux seuls chiffres qui le composent sont le **``0``** et le **``1``**.\n",
    ">\n",
    ">**Le système binaire est le \"langage\" des ordinateurs**. Toutes les machines numériques utilisent le système binaire pour coder des informations que ce soient des textes, des sons, des images ou des vidéos….\n",
    "\n",
    "***\n",
    "\n",
    "Comment écrit-on **$17$** en binaire ?  "
   ]
  },
  {
   "cell_type": "raw",
   "metadata": {},
   "source": []
  },
  {
   "cell_type": "markdown",
   "metadata": {},
   "source": [
    "> *Etc… entraînez vous avec votre binôme à convertir des nombres entiers dans le sens décimal => binaire  et  binaire => décimal...*"
   ]
  },
  {
   "cell_type": "markdown",
   "metadata": {},
   "source": [
    "### Phase 3 :\n",
    "Recherchez des informations pour compléter les phrases suivantes :\n",
    "- Chaque carte du jeu représente un \"bit\" c'est la contraction de ...\n",
    "- Un ensemble de ... est appelé un \"mot\".\n",
    "- Combien existe-t-il de mots différents de 8 bits ? ...\n",
    "- Ces mots codent les entiers allant de ... à ...\n",
    "- Un mot de 8 bits s’appelle un ...\n",
    "- Qu'est-ce qu'un \"byte\" ? ...\n",
    "- Que signifie l'acronyme M.S.B. : ...\n",
    "- Que signifie l'acronyme L.S.B. : ...\n",
    "- Combien vaut 1 Kio :"
   ]
  },
  {
   "cell_type": "markdown",
   "metadata": {},
   "source": [
    "> *De nos jours les ordinateurs comme pratiquement tous les systèmes numériques communiquent en faisant circuler des informations sous la forme de mots binaires à 8 bits que l'on nomme bytes. Ainsi aujourd'hui un byte est pratiquement devenu synonyme d'un octet, mais cela n'a pas toujours été le cas : https://fr.wikipedia.org/wiki/Byte*"
   ]
  },
  {
   "cell_type": "markdown",
   "metadata": {},
   "source": [
    "## 2 - Passer d'un système à l'autre :\n",
    "### Phase 4 :\n",
    "Pour bien communiquer avec des machines il est donc nécessaire de savoir convertir un nombre décimal en un nombre binaire.\n",
    "\n",
    "Une méthode de conversion consiste à décomposer le nombre décimal en une somme de puissances de deux.\n",
    "\n",
    "Par exemple, pour la conversion : $(91)$décimal = $(01011011)$binaire\n",
    "\n",
    "On peut écrire :\n",
    "$$91 \t= 0 \\times 2^7 + 1 \\times 2^6 + 0 \\times 2^5 + 1 \\times 2^4 + 1 \\times 2^3 + 0 \\times 2^2 + 1 \\times 2^1 + 1 \\times 2^0$$\n",
    "$$91 = 64 + 16 + 8 + 2 + 1$$\n",
    "\n",
    "En rangeant les puissances de deux dans un tableau, on obtient :\n",
    "\n",
    "|Rang             | $7$ | $6$ | $5$ | $4$ | $3$ | $2$ | $1$ | $0$ |\n",
    "|-----------------|:-----:|:-----:|:-----:|:-----:|:-----:|:-----:|:-----:|:-----:|\n",
    "| Puissance de $2$  | $2^7$ | $2^6$ | $2^5$ | $2^4$ | $2^3$ | $2^2$ | $2^1$ | $2^0$ |\n",
    "| Décimal         |  $128$  |  $64$   |  $32$   |  $16$   |   $8$   |   $4$   |   $2$   |   $1$   |\n",
    "| Binaire         |   $0$   |   $1$   |   $0$   |   $1$   |   $1$   |   $0$   |   $1$   |   $1$   |\n"
   ]
  },
  {
   "cell_type": "markdown",
   "metadata": {},
   "source": [
    "A l'aide du tableau ci-dessous convertir les entiers décimaux de la colonne de gauche en binaire :\n",
    "\n",
    "| dec\\bin | $128$ | $64$  | $32$  | $16$  |  $8$  |  $4$  |  $2$  |  $1$  |\n",
    "|---------|:-----:|:-----:|:-----:|:-----:|:-----:|:-----:|:-----:|:-----:|\n",
    "| $1$     |  $_$  |  $_$  |  $_$  |  $_$  |  $_$  |  $_$  |  $_$  |  $_$  |\n",
    "| $2$     |  $_$  |  $_$  |  $_$  |  $_$  |  $_$  |  $_$  |  $_$  |  $_$  |\n",
    "| $3$     |  $_$  |  $_$  |  $_$  |  $_$  |  $_$  |  $_$  |  $_$  |  $_$  |\n",
    "| $4$     |  $_$  |  $_$  |  $_$  |  $_$  |  $_$  |  $_$  |  $_$  |  $_$  |\n",
    "| $5$     |  $_$  |  $_$  |  $_$  |  $_$  |  $_$  |  $_$  |  $_$  |  $_$  |\n",
    "| $6$     |  $_$  |  $_$  |  $_$  |  $_$  |  $_$  |  $_$  |  $_$  |  $_$  |\n",
    "| $7$     |  $_$  |  $_$  |  $_$  |  $_$  |  $_$  |  $_$  |  $_$  |  $_$  |\n",
    "| $8$     |  $_$  |  $_$  |  $_$  |  $_$  |  $_$  |  $_$  |  $_$  |  $_$  |\n",
    "| $9$     |  $_$  |  $_$  |  $_$  |  $_$  |  $_$  |  $_$  |  $_$  |  $_$  |\n",
    "| $10$    |  $_$  |  $_$  |  $_$  |  $_$  |  $_$  |  $_$  |  $_$  |  $_$  |\n",
    "| $11$    |  $_$  |  $_$  |  $_$  |  $_$  |  $_$  |  $_$  |  $_$  |  $_$  |\n",
    "| $12$    |  $_$  |  $_$  |  $_$  |  $_$  |  $_$  |  $_$  |  $_$  |  $_$  |\n",
    "| $13$    |  $_$  |  $_$  |  $_$  |  $_$  |  $_$  |  $_$  |  $_$  |  $_$  |\n",
    "| $14$    |  $_$  |  $_$  |  $_$  |  $_$  |  $_$  |  $_$  |  $_$  |  $_$  |\n",
    "| $15$    |  $_$  |  $_$  |  $_$  |  $_$  |  $_$  |  $_$  |  $_$  |  $_$  |\n",
    "| $16$    |  $_$  |  $_$  |  $_$  |  $_$  |  $_$  |  $_$  |  $_$  |  $_$  |\n",
    "| $20$    |  $_$  |  $_$  |  $_$  |  $_$  |  $_$  |  $_$  |  $_$  |  $_$  |\n",
    "| $50$    |  $_$  |  $_$  |  $_$  |  $_$  |  $_$  |  $_$  |  $_$  |  $_$  |\n",
    "| $100$   |  $_$  |  $_$  |  $_$  |  $_$  |  $_$  |  $_$  |  $_$  |  $_$  |\n",
    "| $200$   |  $_$  |  $_$  |  $_$  |  $_$  |  $_$  |  $_$  |  $_$  |  $_$  |\n",
    "| $255$   |  $_$  |  $_$  |  $_$  |  $_$  |  $_$  |  $_$  |  $_$  |  $_$  |\n",
    "\n",
    "> *Afin de vérifier votre travail, dans les cellules suivantes, réalisez progressivement un script qui renvoie la représentation binaire des nombres entiers positifs allant de $0$ à $255$.*\n",
    "\n",
    "> *Commencez par chercher de l'aide quant à la fonction **`bin()`**...*\n",
    "\n",
    "> *Finalisez votre programme pour qu'il génère un tableau comme ci-dessus au format Markdown...*"
   ]
  },
  {
   "cell_type": "code",
   "execution_count": null,
   "metadata": {},
   "outputs": [],
   "source": [
    "help('bin')"
   ]
  },
  {
   "cell_type": "code",
   "execution_count": null,
   "metadata": {},
   "outputs": [],
   "source": []
  },
  {
   "cell_type": "code",
   "execution_count": null,
   "metadata": {},
   "outputs": [],
   "source": []
  },
  {
   "cell_type": "markdown",
   "metadata": {},
   "source": [
    "### Phase 5 :\n",
    "Proposez un algorithme de convertion d'un nombre entier du système décimal dans le système binaire en vous inspirant de la méthode précédante :"
   ]
  },
  {
   "cell_type": "code",
   "execution_count": null,
   "metadata": {},
   "outputs": [],
   "source": []
  },
  {
   "cell_type": "markdown",
   "metadata": {},
   "source": [
    "### Phase 6 :\n",
    "Recherchez une autre méthode de convertion d'un nombre entier du système décimal dans le système binaire :"
   ]
  },
  {
   "cell_type": "code",
   "execution_count": null,
   "metadata": {},
   "outputs": [],
   "source": []
  },
  {
   "cell_type": "markdown",
   "metadata": {},
   "source": [
    "### Phase 7 :\n",
    "Proposez un autre algorithme de convertion d'un nombre entier du système décimal dans le système binaire en vous inspirant de cette seconde méthode :"
   ]
  },
  {
   "cell_type": "code",
   "execution_count": null,
   "metadata": {},
   "outputs": [],
   "source": []
  },
  {
   "cell_type": "markdown",
   "metadata": {},
   "source": [
    "## 3- Implémenter un convertisseur décimale => binaire personnel :\n",
    "### Phase 8 :\n",
    "A partir des algorithmes de conversion établis précédemment, implémenter en Python un convertisseur décimal -> binaire en binôme chacun selon une des deux méthodes étudiées, vérifier que chacun de vos scripts produit le même résultat que la méthode python **``bin()``** produit."
   ]
  },
  {
   "cell_type": "code",
   "execution_count": null,
   "metadata": {},
   "outputs": [],
   "source": []
  },
  {
   "cell_type": "markdown",
   "metadata": {},
   "source": [
    "## 4- Découvrir l'addition binaire :\n",
    "### Phase 9 :\n",
    "- Dans le tableau ci-dessous, convertir les entiers $23$ et $56$ de la base $10$ à la base $2$ ;\n",
    "- Calculer la somme $23 + 56$ en représentation décimale ;\n",
    "- Convertir le résultat en binaire ;\n",
    "\n",
    "| Décimal\\Binaire |  $128$  |  $64$   |  $32$   |  $16$   |   $8$   |   $4$   |   $2$   |   $1$   |\n",
    "|:---------------:|:-------:|:-------:|:-------:|:-------:|:-------:|:-------:|:-------:|:-------:|\n",
    "|    $23$         |   $_$   |   $_$   |   $_$   |   $_$   |   $_$   |   $_$   |   $_$   |   $_$   |\n",
    "|    $56$         |   $_$   |   $_$   |   $_$   |   $_$   |   $_$   |   $_$   |   $_$   |   $_$   |\n",
    "|$23 + 56 =$ $__$ |   $_$   |   $_$   |   $_$   |   $_$   |   $_$   |   $_$   |   $_$   |   $_$   |\n",
    "\n",
    "- Deviner le principe d’une addition binaire ;\n",
    "- Appliquer à la somme d'autres nombres..."
   ]
  },
  {
   "cell_type": "code",
   "execution_count": null,
   "metadata": {},
   "outputs": [],
   "source": []
  },
  {
   "cell_type": "markdown",
   "metadata": {},
   "source": [
    "****\n",
    "### A retenir :\n",
    "- **Codage** : Opération consistant à représenter des informations à l'aide d'un code.\n",
    "- **Codage binaire** : Le code binaire utilise exclusivement les symboles 0 et 1 (systèmes logiques).\n",
    "- **Bit** : C'est le chiffre élémentaire de la numérotation binaire.\n",
    "- **Mot** : Groupe de \"n\" bits; un mot de 4 bits s'appelle un quartet, 8 bits s'appelle un octet...\n",
    "- **Poids** : Coefficient attaché au rang d'un chiffre dans un système de numérotation. En numérotation binaire, on parle du bit de plus faible poids qui est la position binaire de droite dans un mot et du bit de plus fort poids qui représente le bit situé le plus à gauche dans un mot.\n",
    "\n",
    "\n",
    "- *A vous de compléter ce mémo*...\n",
    "- ... \n",
    "\n",
    "***"
   ]
  },
  {
   "cell_type": "markdown",
   "metadata": {},
   "source": [
    "### Prolongement :\n",
    "\n",
    "Apprenez un tour de magie basé sur le binaire à l'aide des pages web suivante :\n",
    "- http://images.math.cnrs.fr/Jouons-binaire-je-devine-ce-que-tu-penses-4807.html\n",
    "- Et les cartes : https://kimunga.com/up/154.png\n",
    "- ou encore : http://culturemath.ens.fr/content/tour-de-magie-binaire\n",
    "\n"
   ]
  },
  {
   "cell_type": "markdown",
   "metadata": {},
   "source": [
    "<a rel=\"license\" href=\"http://creativecommons.org/licenses/by-sa/4.0/\"><img alt=\"Licence Creative Commons\" style=\"border-width:0\" src=\"https://i.creativecommons.org/l/by-sa/4.0/88x31.png\" /></a><br />Ce document adapté d'un travail de Nathalie Le Gac – Lycée Saint Vincent - RENNES est mis à disposition selon les termes de la <a rel=\"license\" href=\"http://creativecommons.org/licenses/by-sa/4.0/\">Licence Creative Commons Attribution -  Partage dans les Mêmes Conditions 4.0 International</a>.\n",
    "\n",
    "Pour toute question, suggestion ou commentaire : <a href=\"mailto:eric.madec@ecmorlaix.fr\">eric.madec@ecmorlaix.fr</a>"
   ]
  },
  {
   "cell_type": "code",
   "execution_count": null,
   "metadata": {},
   "outputs": [],
   "source": []
  }
 ],
 "metadata": {
  "kernelspec": {
   "display_name": "Python 3",
   "language": "python",
   "name": "python3"
  },
  "language_info": {
   "codemirror_mode": {
    "name": "ipython",
    "version": 3
   },
   "file_extension": ".py",
   "mimetype": "text/x-python",
   "name": "python",
   "nbconvert_exporter": "python",
   "pygments_lexer": "ipython3",
   "version": "3.7.3"
  },
  "toc": {
   "base_numbering": 1,
   "nav_menu": {},
   "number_sections": true,
   "sideBar": true,
   "skip_h1_title": false,
   "title_cell": "Table of Contents",
   "title_sidebar": "Contents",
   "toc_cell": false,
   "toc_position": {},
   "toc_section_display": true,
   "toc_window_display": false
  },
  "varInspector": {
   "cols": {
    "lenName": 16,
    "lenType": 16,
    "lenVar": 40
   },
   "kernels_config": {
    "python": {
     "delete_cmd_postfix": "",
     "delete_cmd_prefix": "del ",
     "library": "var_list.py",
     "varRefreshCmd": "print(var_dic_list())"
    },
    "r": {
     "delete_cmd_postfix": ") ",
     "delete_cmd_prefix": "rm(",
     "library": "var_list.r",
     "varRefreshCmd": "cat(var_dic_list()) "
    }
   },
   "types_to_exclude": [
    "module",
    "function",
    "builtin_function_or_method",
    "instance",
    "_Feature"
   ],
   "window_display": false
  }
 },
 "nbformat": 4,
 "nbformat_minor": 2
}
