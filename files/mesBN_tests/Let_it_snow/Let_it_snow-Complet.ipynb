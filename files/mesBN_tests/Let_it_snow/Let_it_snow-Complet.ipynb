{
 "cells": [
  {
   "cell_type": "markdown",
   "metadata": {},
   "source": [
    "# Mini-projet : \"Let it snow\"\n",
    "\n",
    "## But :\n",
    "\n",
    "On souhaite écrire un programme qui permet de générer un dessin animé simulant une chute de flocons de neige dans un notebook jupyter.\n",
    "\n",
    "<img src=\"https://ericecmorlaix.github.io/img/Let_it_snow-tableau_de_flocons.png\" alt=\"Let_it_snow-tableau_de_flocons.png\" width = 60% >\n",
    "\n",
    "On utilisera pour cela le module **`ipycanvas`** de [Martin RENOU](https://github.com/martinRenou) :\n",
    "\n",
    "<img src=\"https://ericecmorlaix.github.io/img/ipycanvas-logo.svg\" alt=\"ipycanvas-logo.svg\" width = 25%>\n",
    "\n",
    "\n",
    "Si vous ne connaissez pas ce module, il vous faut donc préalablement le prendre en main en faisant, par exemple, les activités de [ipycanvas-Le_BN_pour_dessiner.ipynb\n",
    "](ipycanvas-Le_BN_pour_dessiner.ipynb)..."
   ]
  },
  {
   "cell_type": "markdown",
   "metadata": {},
   "source": [
    "**_Cette histoire prend corps dans un environnement très particulier mais favorable à son avènement..._**\n",
    "\n",
    "## La scène par ipycanvas :\n",
    "\n",
    "> Il s'agit d'un élément HTML `<canvas>` que l'on va pouvoir afficher dans ce notebook grace au module ipycanvas de Martin RENOU.\n",
    "\n",
    "- Importer les fonctionnalités de la classe `Canvas` de la bibliotèque `ipycanvas` dans ce notebook :  "
   ]
  },
  {
   "cell_type": "code",
   "execution_count": null,
   "metadata": {},
   "outputs": [],
   "source": [
    "from "
   ]
  },
  {
   "cell_type": "code",
   "execution_count": null,
   "metadata": {},
   "outputs": [],
   "source": [
    "from ipycanvas import Canvas"
   ]
  },
  {
   "cell_type": "markdown",
   "metadata": {},
   "source": [
    "- Créer un canvas nommé `s`(pour \"scène\", ou \"stage\" en Anglais, et pour faire court), aux dimensions 600 pixels de largeur et 400 pixels de hauteur avec un fond noir et l'afficher"
   ]
  },
  {
   "cell_type": "code",
   "execution_count": null,
   "metadata": {},
   "outputs": [],
   "source": [
    "# Création du canvas de la scène\n",
    "s ="
   ]
  },
  {
   "cell_type": "code",
   "execution_count": null,
   "metadata": {},
   "outputs": [],
   "source": [
    "s = Canvas(width=600, height=400)"
   ]
  },
  {
   "cell_type": "code",
   "execution_count": null,
   "metadata": {},
   "outputs": [],
   "source": [
    "# Test d'affichage de la scène\n",
    "display(s)"
   ]
  },
  {
   "cell_type": "markdown",
   "metadata": {},
   "source": [
    "> Maintenant que le canvas existe, les commandes `s.width` et `s.height` nous renvoient ses dimensions"
   ]
  },
  {
   "cell_type": "code",
   "execution_count": null,
   "metadata": {},
   "outputs": [],
   "source": [
    "s.width"
   ]
  },
  {
   "cell_type": "markdown",
   "metadata": {},
   "source": [
    "> Saisir l'instruction `help(s.fill_rect)` pour obtenir de l'aide sur la méthode `fill_rect()`"
   ]
  },
  {
   "cell_type": "code",
   "execution_count": null,
   "metadata": {},
   "outputs": [],
   "source": [
    "help(...)"
   ]
  },
  {
   "cell_type": "code",
   "execution_count": null,
   "metadata": {},
   "outputs": [],
   "source": [
    "# mettre un background noir sur toute la scène :\n"
   ]
  },
  {
   "cell_type": "code",
   "execution_count": null,
   "metadata": {},
   "outputs": [],
   "source": [
    "# mettre un background noir sur toute la scène :\n",
    "s.fill_rect(0, 0, s.width, s.height)"
   ]
  },
  {
   "cell_type": "code",
   "execution_count": null,
   "metadata": {},
   "outputs": [],
   "source": [
    "help(s.fill_rect)"
   ]
  },
  {
   "cell_type": "markdown",
   "metadata": {},
   "source": [
    "- Définir une fonction `background(couleur)` qui rafraichie la scène avec un fond de la couleur passée en paramètre"
   ]
  },
  {
   "cell_type": "code",
   "execution_count": null,
   "metadata": {},
   "outputs": [],
   "source": [
    "# Une fonction pour effacer la scène et redessiner un background\n",
    "def background(couleur : str = 'black') :\n",
    "    '''\n",
    "    Rafraichit la scène avec un fond de la couleur\n",
    "    'couleur' passée en paramètre et fixée sur `black` par défaut\n",
    "    Préconditions :\n",
    "    - couleur (str) : une chaine de caractères définissant une couleur HTML valide\n",
    "    '''\n",
    "    \n",
    "    \n",
    "    \n",
    "    "
   ]
  },
  {
   "cell_type": "code",
   "execution_count": null,
   "metadata": {},
   "outputs": [],
   "source": [
    "# Une fonction pour effacer la scène et redessiner un background\n",
    "def background(couleur : str = 'black') :\n",
    "    '''\n",
    "    Rafraichit la scène avec un fond de la couleur\n",
    "    'couleur' passée en paramètre et fixée sur `black` par défaut\n",
    "    Préconditions :\n",
    "    - couleur (str) : une chaine de caractères définissant une couleur HTML valide\n",
    "    '''    \n",
    "    s.clear()\n",
    "    s.fill_style = couleur\n",
    "    s.fill_rect(0, 0, s.width, s.height)"
   ]
  },
  {
   "cell_type": "code",
   "execution_count": null,
   "metadata": {},
   "outputs": [],
   "source": [
    "# Test pour la fonction background()\n",
    "display(s)\n",
    "background()"
   ]
  },
  {
   "cell_type": "markdown",
   "metadata": {},
   "source": [
    "Au fur et à mesure de vos essais, rassembler dans une même cellule de ce notebook les codes que vous avez validés et qui seront utilisés pour la suite. Il suffira alors de faire descendre cette cellule vers le bas du notebook (ou de la dupliquer) pour réaliser de nouveaux tests et de l'augmenter progresssivement...\n",
    "\n",
    "> Une autre solution consiste à enregistrer progressivement le code du développement validé dans un fichier `ma_scene.py` et à importer toutes les fonctionnalités de ce module `from ma_scene import *` dans le notebook pour pouvoir y effectuer de nouveaux essais s'appuyant sur cette base de la définition du projet à ce stade.\n",
    "\n",
    "- Compléter la cellule ci-dessous en application de cette méthode de développement"
   ]
  },
  {
   "cell_type": "code",
   "execution_count": null,
   "metadata": {},
   "outputs": [],
   "source": [
    "# Dépendances\n",
    "from ipycanvas import Canvas\n",
    "\n",
    "# Définitions\n",
    "\n",
    "s = Canvas(width=600, height=400)\n",
    "\n",
    "# Une fonction pour effacer la scène et redessiner un background\n",
    "def background(couleur : str = 'black') :\n",
    "    '''\n",
    "    Rafraichit la scène avec un fond de la couleur\n",
    "    'couleur' passée en paramètre et fixée sur `black` par défaut\n",
    "    Préconditions :\n",
    "    - couleur (str) : une chaine de caractères définissant une couleur HTML valide\n",
    "    '''    \n",
    "    s.clear()\n",
    "    s.fill_style = couleur\n",
    "    s.fill_rect(0, 0, s.width, s.height)\n",
    "\n",
    "\n",
    "# Tests\n",
    "if __name__ == '__main__':\n",
    "    display(s)\n",
    "    background()"
   ]
  },
  {
   "cell_type": "markdown",
   "metadata": {},
   "source": [
    "**_Au commencement, il n'y en avait qu'1..._**\n",
    "\n",
    "## Le flocon :\n",
    "\n",
    "- Dessiner un disque blanc situé au centre du canvas, libre à vous de fixer son diamètre...\n",
    "\n",
    "> Saisir l'instructions `help(s.fill_arc)` pour obtenir de l'aide et voir aussi la [documentation d'ipycanvas](https://ipycanvas.readthedocs.io/en/latest/styles_and_colors.html)..."
   ]
  },
  {
   "cell_type": "code",
   "execution_count": null,
   "metadata": {},
   "outputs": [],
   "source": [
    "help(...)"
   ]
  },
  {
   "cell_type": "code",
   "execution_count": null,
   "metadata": {},
   "outputs": [],
   "source": [
    "help(s.fill_arc)"
   ]
  },
  {
   "cell_type": "code",
   "execution_count": null,
   "metadata": {},
   "outputs": [],
   "source": [
    "# Dessine un disque blanc au milieu de la scène\n"
   ]
  },
  {
   "cell_type": "code",
   "execution_count": null,
   "metadata": {},
   "outputs": [],
   "source": [
    "from math import pi\n",
    "\n",
    "# Dessine un disque blanc au milieu de la scène\n",
    "s.fill_style = 'snow'\n",
    "s.fill_arc(s.width/2, s.height/2, 20, 0, 2*pi)"
   ]
  },
  {
   "cell_type": "markdown",
   "metadata": {},
   "source": [
    "> Le titre de cette partie c'est \"Le flocon\" or ce disque blanc ressemble plus à la balle d'un jeux de Pong qu'à un vrai flocon, non ?\n",
    "> \n",
    "> Pour produire une image de flocon plus réaliste, on peut superposer des disques de diamètre de plus en plus petit et de couleur `snow` (#FFFAFA, rgb(255, 250, 250)) avec de la [transparence](https://www.alsacreations.com/tuto/lire/909-CSS-transparence-couleur-rgba.html) pour donner un effet de flou au flocon.\n",
    "\n",
    "\n",
    "- Définir une fonction flocon telle que décrite par sa docstring et l'appeler plusieurs fois pour qu'enfin il ne soit plus le seul... :"
   ]
  },
  {
   "cell_type": "code",
   "execution_count": null,
   "metadata": {},
   "outputs": [],
   "source": [
    "# Une fonction pour produire le dessin d'un flocon plus réaliste\n",
    "def flocon(x : float, y : float, diametre : float, taux = 50 : float) :\n",
    "    '''\n",
    "    Dessine un flocon avec un effet de flou en superposant\n",
    "    des disques de diamètre de plus en plus petit\n",
    "    centrés sur le point de coordonnées '(x, y)'\n",
    "    inscrits dans un cercle de diametre extérieur 'diametre'\n",
    "    et avec 'taux' le niveau de transparence\n",
    "    en pourcentage de 0 à 100% et réglé par défaut sur 50%\n",
    "    '''\n",
    "    \n",
    "    \n",
    "    \n",
    "    "
   ]
  },
  {
   "cell_type": "code",
   "execution_count": null,
   "metadata": {},
   "outputs": [],
   "source": [
    "from math import pi\n",
    "\n",
    "# Une fonction pour produire le dessin d'un flocon plus réaliste\n",
    "def flocon(x : float, y : float, diametre : float, taux : float = 50) :\n",
    "    '''\n",
    "    Dessine un flocon avec un effet de flou en superposant\n",
    "    des disques de diamètre de plus en plus petit\n",
    "    centré sur le point de coordonnées '(x, y)'\n",
    "    inscrit dans un cercle de diametre extérieur 'diametre'\n",
    "    et avec 'taux' le niveau de transparence\n",
    "    en pourcentage de 0 à 100% et réglé par défaut sur 50%\n",
    "    '''\n",
    "    s.fill_style = f'rgba(255, 250, 250, {taux/100})'\n",
    "    for n in range(6) :\n",
    "        s.fill_arc(x, y, diametre/2 - n * 1/6*diametre/2, 0, 2*pi)"
   ]
  },
  {
   "cell_type": "code",
   "execution_count": null,
   "metadata": {},
   "outputs": [],
   "source": [
    "# Test\n",
    "display(s)\n",
    "background()\n",
    "flocon(100, 100, 20)"
   ]
  },
  {
   "cell_type": "code",
   "execution_count": null,
   "metadata": {},
   "outputs": [],
   "source": [
    "# Dépendances\n",
    "from ipycanvas import Canvas\n",
    "from math import pi\n",
    "\n",
    "# Définitions\n",
    "\n",
    "s = Canvas(width=600, height=400)\n",
    "\n",
    "# Une fonction pour effacer la scène et redessiner un background\n",
    "def background(couleur : str = 'black') :\n",
    "    '''\n",
    "    Rafraichit la scène avec un fond de la couleur\n",
    "    'couleur' passée en paramètre et fixée sur `black` par défaut\n",
    "    Préconditions :\n",
    "    - couleur (str) : une chaine de caractères définissant une couleur HTML valide\n",
    "    '''    \n",
    "    s.clear()\n",
    "    s.fill_style = couleur\n",
    "    s.fill_rect(0, 0, s.width, s.height)\n",
    "\n",
    "# Une fonction pour produire le dessin d'un flocon plus réaliste\n",
    "def flocon(x : float, y : float, diametre : float, taux : float = 50) :\n",
    "    '''\n",
    "    Dessine un flocon avec un effet de flou en superposant\n",
    "    des disques de diamètre de plus en plus petit\n",
    "    centré sur le point de coordonnées '(x, y)'\n",
    "    inscrit dans un cercle de diametre extérieur 'diametre'\n",
    "    et avec 'taux' le niveau de transparence\n",
    "    en pourcentage de 0 à 100% et réglé par défaut sur 50%\n",
    "    '''\n",
    "    s.fill_style = f'rgba(255, 250, 250, {taux/100})'\n",
    "    for n in range(6) :\n",
    "        s.fill_arc(x, y, diametre/2 - n * 1/6*diametre/2, 0, 2*pi)    \n",
    "\n",
    "# Tests\n",
    "if __name__ == '__main__':\n",
    "    display(s)\n",
    "    background()\n",
    "    flocon(100, 100, 20)"
   ]
  },
  {
   "cell_type": "markdown",
   "metadata": {},
   "source": [
    "> Est-ce que trois disques sont suffisants pour obtenir l'effet de flou escompté ou en faut-il davantage ?\n",
    "\n",
    "- Revoir si besoin la définition de votre fonction pour qu'elle permette très facilement de tester le nombre de disques nécessaires, leur diamètre, le niveau de transparence,..."
   ]
  },
  {
   "cell_type": "markdown",
   "metadata": {},
   "source": [
    "### Des boucles pour répéter le flocon et l'animer"
   ]
  },
  {
   "cell_type": "code",
   "execution_count": null,
   "metadata": {},
   "outputs": [],
   "source": [
    "# Autre test\n",
    "display(s)\n",
    "background()\n",
    "for t in range(0, s.height, 10*2) :\n",
    "    flocon(200, t, 10)"
   ]
  },
  {
   "cell_type": "markdown",
   "metadata": {},
   "source": [
    "> On observe que les flocons s'affichent progressivement car les instructions sont transmises et interprétées au fur et à mesure l'une après l'autre. Au delà de 1000 commandes/seconde, il y a un risque de saturation... Pour éviter cela, on peut ajouter un appel à la méthode `hold_canvas(s)` pour n'envoyer le message des intructions à traiter qu'à la fin du script afin d'afficher seulement le résultat final et ainsi optimiser l'affichage.\n",
    "\n",
    "- Observer la différence produite par `hold_canvas(s)` dans la cellule suivante"
   ]
  },
  {
   "cell_type": "code",
   "execution_count": null,
   "metadata": {},
   "outputs": [],
   "source": [
    "from ipycanvas import Canvas, hold_canvas\n",
    "\n",
    "# Autre test avec hold_canvas\n",
    "display(s)\n",
    "background()\n",
    "\n",
    "for t in range(0, s.height, 10*2) :\n",
    "    with hold_canvas(s) :\n",
    "        flocon(200, t, 10)"
   ]
  },
  {
   "cell_type": "markdown",
   "metadata": {},
   "source": [
    "- on peut ajouter une petite pause dans la boucle du test précédent avec la méthode `sleep()` du module `time` pour obtenir un affichage progressif au cours du temps"
   ]
  },
  {
   "cell_type": "code",
   "execution_count": null,
   "metadata": {},
   "outputs": [],
   "source": [
    "from time import sleep\n",
    "help(sleep)"
   ]
  },
  {
   "cell_type": "code",
   "execution_count": null,
   "metadata": {},
   "outputs": [],
   "source": [
    "# Autre test avec sleep et hold_canvas\n",
    "from time import sleep\n",
    "display(s)\n",
    "background()\n",
    "for t in range(0, s.height, 10*2) :\n",
    "    with hold_canvas(s) :\n",
    "        flocon(200, t, 10)\n",
    "    sleep(0.2)"
   ]
  },
  {
   "cell_type": "markdown",
   "metadata": {},
   "source": [
    "- déplacer alors l'appel à la fonction `background()` pour le mettre dans la boucle ;\n",
    "- tester différentes positions possibles dans le code pour l'appel à la fonction `background()`\n",
    "- observer puis décrire l'effet produit dans chaque cas :\n",
    "\n",
    "\n",
    "    - ...\n",
    "    \n",
    "    \n",
    "    - ...\n",
    "    \n",
    "    \n",
    "    - ...\n",
    "    \n",
    "    \n",
    "    - ...\n",
    "    \n",
    "    "
   ]
  },
  {
   "cell_type": "code",
   "execution_count": null,
   "metadata": {},
   "outputs": [],
   "source": [
    "# Nouveau test avec sleep() et hold_canvas() pour différentes positions de background()\n",
    "from time import sleep\n",
    "display(s)\n",
    "# A déplacer dans la boucle # background()\n",
    "for t in range(0, s.height, 10*2) :\n",
    "    \n",
    "    with hold_canvas(s) :\n",
    "        background()\n",
    "        flocon(200, t, 10)\n",
    "        \n",
    "    sleep(0.2)"
   ]
  },
  {
   "cell_type": "markdown",
   "metadata": {},
   "source": [
    "**_Whaou ! Maintenant, il bouge !_**\n",
    "\n",
    "*Serait-il vivant ?*\n",
    "\n",
    "*Ou reproduit-il un phénomène expliqué par Newton ?*\n",
    "\n",
    "**_Il tombe, non, que dis-je, il chute !_** \n",
    "\n",
    "*Dans ce cas, cette simulation est-elle fidèle ?*\n",
    "\n",
    "*Quel est le rôle joué par la persistance rétinienne ici ? ...*"
   ]
  },
  {
   "cell_type": "markdown",
   "metadata": {},
   "source": [
    "> Faire les appels aux fonctions `background()` et `flocon()` dans un `hold_canvas(s)` fluidifie la chute de notre flocon.\n",
    "\n",
    "- Mettre à jour à ce stade du développement le code validé par les tests pour produire une animation simulant la chute d'un flocon"
   ]
  },
  {
   "cell_type": "code",
   "execution_count": null,
   "metadata": {},
   "outputs": [],
   "source": [
    "# Dépendances\n",
    "from ipycanvas import Canvas, hold_canvas\n",
    "from math import pi\n",
    "from time import sleep\n",
    "\n",
    "\n",
    "# Définitions\n",
    "\n",
    "# Création d'un canvas pour la scène\n",
    "s = Canvas(width=600, height=400)\n",
    "\n",
    "# Une fonction pour effacer la scène et redessiner un background\n",
    "def background(couleur : str = 'black') :\n",
    "    '''\n",
    "    Rafraichit la scène avec un fond de la couleur\n",
    "    'couleur' passée en paramètre et fixée sur `black` par défaut\n",
    "    Préconditions :\n",
    "    - couleur (str) : une chaine de caractères définissant une couleur HTML valide\n",
    "    '''    \n",
    "    s.clear()\n",
    "    s.fill_style = couleur\n",
    "    s.fill_rect(0, 0, s.width, s.height)\n",
    "\n",
    "# Une fonction pour produire le dessin d'un flocon plus réaliste\n",
    "def flocon(x : float, y : float, diametre : float, taux : float = 50) :\n",
    "    '''\n",
    "    Dessine un flocon avec un effet de flou en superposant\n",
    "    des disques de diamètre de plus en plus petit\n",
    "    centré sur le point de coordonnées '(x, y)'\n",
    "    inscrit dans un cercle de diametre extérieur 'diametre'\n",
    "    et avec 'taux' le niveau de transparence\n",
    "    en pourcentage de 0 à 100% et réglé par défaut sur 50%\n",
    "    '''\n",
    "    s.fill_style = f'rgba(255, 250, 250, {taux/100})'\n",
    "    for n in range(6) :\n",
    "        s.fill_arc(x, y, diametre/2 - n * 1/6*diametre/2, 0, 2*pi)    \n",
    "\n",
    "# Tests\n",
    "if __name__ == '__main__':\n",
    "    display(s)\n",
    "    for t in range(0, s.height, 4) :    \n",
    "        with hold_canvas(s) :\n",
    "            background()\n",
    "            flocon(200, t, 10)        \n",
    "        sleep(0.05)"
   ]
  },
  {
   "cell_type": "markdown",
   "metadata": {},
   "source": [
    "- Reproduire la chute du flocon en utilisant une boucle while"
   ]
  },
  {
   "cell_type": "code",
   "execution_count": null,
   "metadata": {},
   "outputs": [],
   "source": [
    "# Tests\n",
    "if __name__ == '__main__':\n",
    "    display(s)\n",
    "    y = 0\n",
    "    while y <= s.height :\n",
    "        y += 4\n",
    "        with hold_canvas(s) :\n",
    "            background()\n",
    "            flocon(200, y, 10)        \n",
    "        sleep(0.05)\n",
    "        "
   ]
  },
  {
   "cell_type": "markdown",
   "metadata": {},
   "source": [
    "- Faire en sorte que lorsqu'il atteint le bas de la scène sa chute recommence du haut comme s'il s'agissait d'un nouveau flocon."
   ]
  },
  {
   "cell_type": "code",
   "execution_count": null,
   "metadata": {},
   "outputs": [],
   "source": [
    "# Tests\n",
    "if __name__ == '__main__':\n",
    "    display(s)\n",
    "    y = 0\n",
    "    while y <= s.height : # Equivalent ici à while True :\n",
    "        y += 4\n",
    "        with hold_canvas(s) :\n",
    "            background()\n",
    "            flocon(200, y, 10)        \n",
    "        sleep(0.05)\n",
    "        if y >= s.height :\n",
    "            y = 0            "
   ]
  },
  {
   "cell_type": "markdown",
   "metadata": {},
   "source": [
    "- Faire en sorte que la chute du flocon démarre à une abscisse aléatoire de la scène "
   ]
  },
  {
   "cell_type": "code",
   "execution_count": null,
   "metadata": {},
   "outputs": [],
   "source": [
    "# Tests\n",
    "if __name__ == '__main__':\n",
    "    display(s)\n",
    "    y = 0\n",
    "    x = randint(0, s.width)\n",
    "    while y <= s.height : # Equivalent ici à while True :\n",
    "        y += 4\n",
    "        with hold_canvas(s) :\n",
    "            background()\n",
    "            flocon(x, y, 10)        \n",
    "        sleep(0.05)\n",
    "        if y >= s.height :\n",
    "            y = 0\n",
    "            x = randint(0, s.width)"
   ]
  },
  {
   "cell_type": "markdown",
   "metadata": {},
   "source": [
    "- Mettre à jour à ce stade du développement le code validé par les tests pour produire une animation simulant la chute perpétuelle d'un flocon à une abcisse aléatoire"
   ]
  },
  {
   "cell_type": "code",
   "execution_count": null,
   "metadata": {},
   "outputs": [],
   "source": [
    "# Dépendances\n",
    "from ipycanvas import Canvas, hold_canvas\n",
    "from math import pi\n",
    "from time import sleep\n",
    "from random import randint\n",
    "\n",
    "# Définitions\n",
    "\n",
    "# Création d'un canvas pour la scène\n",
    "s = Canvas(width=600, height=400)\n",
    "\n",
    "# Une fonction pour effacer la scène et redessiner un background\n",
    "def background(couleur : str = 'black') :\n",
    "    '''\n",
    "    Rafraichit la scène avec un fond de la couleur\n",
    "    'couleur' passée en paramètre et fixée sur `black` par défaut\n",
    "    Préconditions :\n",
    "    - couleur (str) : une chaine de caractères définissant une couleur HTML valide\n",
    "    '''    \n",
    "    s.clear()\n",
    "    s.fill_style = couleur\n",
    "    s.fill_rect(0, 0, s.width, s.height)\n",
    "\n",
    "# Une fonction pour produire le dessin d'un flocon plus réaliste\n",
    "def flocon(x : float, y : float, diametre : float, taux : float = 50) :\n",
    "    '''\n",
    "    Dessine un flocon avec un effet de flou en superposant\n",
    "    des disques de diamètre de plus en plus petit\n",
    "    centré sur le point de coordonnées '(x, y)'\n",
    "    inscrit dans un cercle de diametre extérieur 'diametre'\n",
    "    et avec 'taux' le niveau de transparence\n",
    "    en pourcentage de 0 à 100% et réglé par défaut sur 50%\n",
    "    '''\n",
    "    s.fill_style = f'rgba(255, 250, 250, {taux/100})'\n",
    "    for n in range(6) :\n",
    "        s.fill_arc(x, y, diametre/2 - n * 1/6*diametre/2, 0, 2*pi)    \n",
    "\n",
    "# Tests\n",
    "if __name__ == '__main__':\n",
    "    display(s)\n",
    "    y = 0\n",
    "    x = randint(0, s.width)\n",
    "    while True :\n",
    "        y += 4\n",
    "        with hold_canvas(s) :\n",
    "            background()\n",
    "            flocon(x, y, 10)        \n",
    "        sleep(0.05)\n",
    "        if y >= s.height :\n",
    "            y = 0\n",
    "            x = randint(0, s.width)"
   ]
  },
  {
   "cell_type": "markdown",
   "metadata": {},
   "source": [
    "**_Et maintenant, ils sont légion..._**"
   ]
  },
  {
   "cell_type": "markdown",
   "metadata": {},
   "source": [
    "## Un tableau de flocons\n",
    "\n",
    "- remplir par compréhension une liste de 150 abscisses et une autre de 150 ordonnées définient aléatoirement et afficher un flocon à chacun de ces points sur une image fixe\n",
    "\n",
    "\n",
    "> **Rappel**, une instruction par compréhension se construit de la façon suivante :\n",
    ">```python\n",
    "[fonction for i in sequence condition]\n",
    "```"
   ]
  },
  {
   "cell_type": "code",
   "execution_count": null,
   "metadata": {},
   "outputs": [],
   "source": [
    "# Dépendances\n",
    "from random import randint"
   ]
  },
  {
   "cell_type": "code",
   "execution_count": null,
   "metadata": {},
   "outputs": [],
   "source": [
    "# Définitions\n",
    "abscisses = [randint(0, s.width) for x in range(150)]\n",
    "ordonnees = [randint(0, s.height) for y in range(len(abscisses))]"
   ]
  },
  {
   "cell_type": "code",
   "execution_count": null,
   "metadata": {},
   "outputs": [],
   "source": [
    "# Tests\n",
    "abscisses, ordonnees"
   ]
  },
  {
   "cell_type": "code",
   "execution_count": null,
   "metadata": {},
   "outputs": [],
   "source": [
    "# Tests pour un tableau figé de flocons\n",
    "display(s)\n",
    "background()\n",
    "for n in range(len(abscisses)) :\n",
    "    flocon(abscisses[n], ordonnees[n], 10)"
   ]
  },
  {
   "cell_type": "markdown",
   "metadata": {},
   "source": [
    "- définir une liste `diametres` pour défininir aléatoirement des diamètres de flocons différents et rendre ainsi un effet de profondeur avec la technique de la perspective  "
   ]
  },
  {
   "cell_type": "code",
   "execution_count": null,
   "metadata": {},
   "outputs": [],
   "source": [
    "diametres = [randint(2, 8) for t in range(len(abscisses))]"
   ]
  },
  {
   "cell_type": "code",
   "execution_count": null,
   "metadata": {},
   "outputs": [],
   "source": [
    "# Tests pour un tableau figé de flocons avec de la profondeur\n",
    "display(s)\n",
    "background()\n",
    "for n in range(len(abscisses)) :\n",
    "    flocon(abscisses[n], ordonnees[n], diametres[n])"
   ]
  },
  {
   "cell_type": "markdown",
   "metadata": {},
   "source": [
    "- Définir une fonction `initialisation(nb_flocons)` qui prend en paramètre le nombre de flocons présents sur la scène et qui renvoie un tableau constitué des listes d'abcisses, d'ordonnées et de diamètres aléatoires de chaque flocon."
   ]
  },
  {
   "cell_type": "code",
   "execution_count": null,
   "metadata": {},
   "outputs": [],
   "source": [
    "# Dépendances\n",
    "from random import randint"
   ]
  },
  {
   "cell_type": "code",
   "execution_count": null,
   "metadata": {},
   "outputs": [],
   "source": [
    "# Définitions\n",
    "\n",
    "# Une fonction pour générer un tableau de flocons\n",
    "def initialisation(nb_flocons : int) -> list :\n",
    "    '''\n",
    "    Prend en paramètre le nombre de flocons à placer sur la scène\n",
    "    et renvoie un tableau constitué des listes d'abcisses,\n",
    "    d'ordonnées et de tailles aléatoires de chaque flocon.\n",
    "    '''\n",
    "    abscisses = [randint(0, s.width) for x in range(nb_flocons)]\n",
    "    ordonnees = [randint(0, s.height) for y in range(nb_flocons)]\n",
    "    diametres = [randint(2, 8) for t in range(nb_flocons)]\n",
    "    return [abscisses, ordonnees, diametres]"
   ]
  },
  {
   "cell_type": "code",
   "execution_count": null,
   "metadata": {},
   "outputs": [],
   "source": [
    "# Tests pour l'affichage d'une matrice initiale de flocons avec de la perspective\n",
    "display(s)\n",
    "background()\n",
    "matrice = initialisation(20)\n",
    "for n in range(len(matrice[0])) :\n",
    "    flocon(matrice[0][n], matrice[1][n], matrice[2][n])"
   ]
  },
  {
   "cell_type": "markdown",
   "metadata": {},
   "source": [
    "> Tester pour mesurer à partir de combien de flocons il devient indispensable d'utiliser un `hold_canvas()` pour éviter d'atteindre la limite des `NotebookApp.iopub_msg_rate_limit=1000.0 (msgs/sec)`\n",
    "\n",
    "- Mettre à jour à ce stade du développement le code validé par les tests pour produire une image instantannée montrant une répartition aléatoire d'un nombre réglable de flocons sur la scène avec un effet de profondeur de champs"
   ]
  },
  {
   "cell_type": "code",
   "execution_count": 1,
   "metadata": {},
   "outputs": [
    {
     "data": {
      "application/vnd.jupyter.widget-view+json": {
       "model_id": "05d0736538f34ce0a165e48f5e0354da",
       "version_major": 2,
       "version_minor": 0
      },
      "text/plain": [
       "Canvas(height=400, width=600)"
      ]
     },
     "metadata": {},
     "output_type": "display_data"
    }
   ],
   "source": [
    "# Dépendances\n",
    "from ipycanvas import Canvas, hold_canvas\n",
    "from math import pi\n",
    "from time import sleep\n",
    "from random import randint\n",
    "\n",
    "# Définitions\n",
    "\n",
    "# Création d'un canvas pour la scène\n",
    "s = Canvas(width=600, height=400)\n",
    "\n",
    "# Une fonction pour effacer la scène et redessiner un background\n",
    "def background(couleur : str = 'black') :\n",
    "    '''\n",
    "    Rafraichit la scène avec un fond de la couleur\n",
    "    'couleur' passée en paramètre et fixée sur `black` par défaut\n",
    "    Préconditions :\n",
    "    - couleur (str) : une chaine de caractères définissant une couleur HTML valide\n",
    "    '''    \n",
    "    s.clear()\n",
    "    s.fill_style = couleur\n",
    "    s.fill_rect(0, 0, s.width, s.height)\n",
    "\n",
    "# Une fonction pour produire le dessin d'un flocon plus réaliste\n",
    "def flocon(x : float, y : float, diametre : float, taux : float = 50) :\n",
    "    '''\n",
    "    Dessine un flocon avec un effet de flou en superposant\n",
    "    des disques de diamètre de plus en plus petit\n",
    "    centré sur le point de coordonnées '(x, y)'\n",
    "    inscrit dans un cercle de diametre extérieur 'diametre'\n",
    "    et avec 'taux' le niveau de transparence\n",
    "    en pourcentage de 0 à 100% et réglé par défaut sur 50%\n",
    "    '''\n",
    "    s.fill_style = f'rgba(255, 250, 250, {taux/100})'\n",
    "    for n in range(6) :\n",
    "        s.fill_arc(x, y, diametre/2 - n * 1/6*diametre/2, 0, 2*pi)  \n",
    "\n",
    "        \n",
    "# Une fonction pour générer un tableau de flocons\n",
    "def initialisation(nb_flocons : int) -> list :\n",
    "    '''\n",
    "    Prend en paramètre le nombre de flocons à placer sur la scène\n",
    "    et renvoie un tableau constitué des listes d'abcisses,\n",
    "    d'ordonnées et de diametres aléatoires de chaque flocon.\n",
    "    '''\n",
    "    abscisses = [randint(0, s.width) for x in range(nb_flocons)]\n",
    "    ordonnees = [randint(0, s.height) for y in range(nb_flocons)]\n",
    "    diametres = [randint(2, 8) for t in range(nb_flocons)]\n",
    "    return [abscisses, ordonnees, diametres]\n",
    "\n",
    "\n",
    "# Tests pour l'affichage d'une matrice initiale de flocons avec de la perspective\n",
    "display(s)\n",
    "with hold_canvas(s) :\n",
    "    background()\n",
    "    matrice = initialisation(150)\n",
    "    for n in range(len(matrice[0])) :\n",
    "        flocon(matrice[0][n], matrice[1][n], matrice[2][n])"
   ]
  },
  {
   "cell_type": "markdown",
   "metadata": {},
   "source": [
    "- mettre tout cela en mouvement de chute perpétuelle"
   ]
  },
  {
   "cell_type": "code",
   "execution_count": 2,
   "metadata": {},
   "outputs": [
    {
     "data": {
      "application/vnd.jupyter.widget-view+json": {
       "model_id": "05d0736538f34ce0a165e48f5e0354da",
       "version_major": 2,
       "version_minor": 0
      },
      "text/plain": [
       "Canvas(height=400, width=600)"
      ]
     },
     "metadata": {},
     "output_type": "display_data"
    },
    {
     "ename": "KeyboardInterrupt",
     "evalue": "",
     "output_type": "error",
     "traceback": [
      "\u001b[1;31m---------------------------------------------------------------------------\u001b[0m",
      "\u001b[1;31mKeyboardInterrupt\u001b[0m                         Traceback (most recent call last)",
      "\u001b[1;32m<ipython-input-2-c77754c67cbd>\u001b[0m in \u001b[0;36m<module>\u001b[1;34m\u001b[0m\n\u001b[0;32m     13\u001b[0m             \u001b[1;32mif\u001b[0m \u001b[0mmatrice\u001b[0m\u001b[1;33m[\u001b[0m\u001b[1;36m1\u001b[0m\u001b[1;33m]\u001b[0m\u001b[1;33m[\u001b[0m\u001b[0mi\u001b[0m\u001b[1;33m]\u001b[0m \u001b[1;33m>=\u001b[0m \u001b[0ms\u001b[0m\u001b[1;33m.\u001b[0m\u001b[0mheight\u001b[0m \u001b[1;33m:\u001b[0m\u001b[1;33m\u001b[0m\u001b[1;33m\u001b[0m\u001b[0m\n\u001b[0;32m     14\u001b[0m                 \u001b[0mmatrice\u001b[0m\u001b[1;33m[\u001b[0m\u001b[1;36m1\u001b[0m\u001b[1;33m]\u001b[0m\u001b[1;33m[\u001b[0m\u001b[0mi\u001b[0m\u001b[1;33m]\u001b[0m \u001b[1;33m=\u001b[0m \u001b[1;36m0\u001b[0m\u001b[1;33m\u001b[0m\u001b[1;33m\u001b[0m\u001b[0m\n\u001b[1;32m---> 15\u001b[1;33m                 \u001b[0mmatrice\u001b[0m\u001b[1;33m[\u001b[0m\u001b[1;36m0\u001b[0m\u001b[1;33m]\u001b[0m\u001b[1;33m[\u001b[0m\u001b[0mi\u001b[0m\u001b[1;33m]\u001b[0m \u001b[1;33m=\u001b[0m \u001b[0mrandint\u001b[0m\u001b[1;33m(\u001b[0m\u001b[1;36m0\u001b[0m\u001b[1;33m,\u001b[0m \u001b[0ms\u001b[0m\u001b[1;33m.\u001b[0m\u001b[0mwidth\u001b[0m\u001b[1;33m)\u001b[0m\u001b[1;33m\u001b[0m\u001b[1;33m\u001b[0m\u001b[0m\n\u001b[0m\u001b[0;32m     16\u001b[0m     \u001b[0msleep\u001b[0m\u001b[1;33m(\u001b[0m\u001b[1;36m0.02\u001b[0m\u001b[1;33m)\u001b[0m\u001b[1;33m\u001b[0m\u001b[1;33m\u001b[0m\u001b[0m\n",
      "\u001b[1;32m~\\Anaconda3\\lib\\contextlib.py\u001b[0m in \u001b[0;36m__exit__\u001b[1;34m(self, type, value, traceback)\u001b[0m\n\u001b[0;32m    117\u001b[0m         \u001b[1;32mif\u001b[0m \u001b[0mtype\u001b[0m \u001b[1;32mis\u001b[0m \u001b[1;32mNone\u001b[0m\u001b[1;33m:\u001b[0m\u001b[1;33m\u001b[0m\u001b[1;33m\u001b[0m\u001b[0m\n\u001b[0;32m    118\u001b[0m             \u001b[1;32mtry\u001b[0m\u001b[1;33m:\u001b[0m\u001b[1;33m\u001b[0m\u001b[1;33m\u001b[0m\u001b[0m\n\u001b[1;32m--> 119\u001b[1;33m                 \u001b[0mnext\u001b[0m\u001b[1;33m(\u001b[0m\u001b[0mself\u001b[0m\u001b[1;33m.\u001b[0m\u001b[0mgen\u001b[0m\u001b[1;33m)\u001b[0m\u001b[1;33m\u001b[0m\u001b[1;33m\u001b[0m\u001b[0m\n\u001b[0m\u001b[0;32m    120\u001b[0m             \u001b[1;32mexcept\u001b[0m \u001b[0mStopIteration\u001b[0m\u001b[1;33m:\u001b[0m\u001b[1;33m\u001b[0m\u001b[1;33m\u001b[0m\u001b[0m\n\u001b[0;32m    121\u001b[0m                 \u001b[1;32mreturn\u001b[0m \u001b[1;32mFalse\u001b[0m\u001b[1;33m\u001b[0m\u001b[1;33m\u001b[0m\u001b[0m\n",
      "\u001b[1;32m~\\Anaconda3\\lib\\site-packages\\ipycanvas\\canvas.py\u001b[0m in \u001b[0;36mhold_canvas\u001b[1;34m(canvas)\u001b[0m\n\u001b[0;32m    811\u001b[0m     \u001b[0mcanvas\u001b[0m\u001b[1;33m.\u001b[0m\u001b[0mcaching\u001b[0m \u001b[1;33m=\u001b[0m \u001b[1;32mTrue\u001b[0m\u001b[1;33m\u001b[0m\u001b[1;33m\u001b[0m\u001b[0m\n\u001b[0;32m    812\u001b[0m     \u001b[1;32myield\u001b[0m\u001b[1;33m\u001b[0m\u001b[1;33m\u001b[0m\u001b[0m\n\u001b[1;32m--> 813\u001b[1;33m     \u001b[0mcanvas\u001b[0m\u001b[1;33m.\u001b[0m\u001b[0mflush\u001b[0m\u001b[1;33m(\u001b[0m\u001b[1;33m)\u001b[0m\u001b[1;33m\u001b[0m\u001b[1;33m\u001b[0m\u001b[0m\n\u001b[0m",
      "\u001b[1;32m~\\Anaconda3\\lib\\site-packages\\ipycanvas\\canvas.py\u001b[0m in \u001b[0;36mflush\u001b[1;34m(self)\u001b[0m\n\u001b[0;32m    587\u001b[0m             \u001b[1;32mreturn\u001b[0m\u001b[1;33m\u001b[0m\u001b[1;33m\u001b[0m\u001b[0m\n\u001b[0;32m    588\u001b[0m \u001b[1;33m\u001b[0m\u001b[0m\n\u001b[1;32m--> 589\u001b[1;33m         \u001b[0mself\u001b[0m\u001b[1;33m.\u001b[0m\u001b[0msend\u001b[0m\u001b[1;33m(\u001b[0m\u001b[0mself\u001b[0m\u001b[1;33m.\u001b[0m\u001b[0m_commands_cache\u001b[0m\u001b[1;33m,\u001b[0m \u001b[0mself\u001b[0m\u001b[1;33m.\u001b[0m\u001b[0m_buffers_cache\u001b[0m\u001b[1;33m)\u001b[0m\u001b[1;33m\u001b[0m\u001b[1;33m\u001b[0m\u001b[0m\n\u001b[0m\u001b[0;32m    590\u001b[0m \u001b[1;33m\u001b[0m\u001b[0m\n\u001b[0;32m    591\u001b[0m         \u001b[0mself\u001b[0m\u001b[1;33m.\u001b[0m\u001b[0mcaching\u001b[0m \u001b[1;33m=\u001b[0m \u001b[1;32mFalse\u001b[0m\u001b[1;33m\u001b[0m\u001b[1;33m\u001b[0m\u001b[0m\n",
      "\u001b[1;32m~\\Anaconda3\\lib\\site-packages\\ipywidgets\\widgets\\widget.py\u001b[0m in \u001b[0;36msend\u001b[1;34m(self, content, buffers)\u001b[0m\n\u001b[0;32m    555\u001b[0m             \u001b[0mBinary\u001b[0m \u001b[0mbuffers\u001b[0m \u001b[0mto\u001b[0m \u001b[0msend\u001b[0m \u001b[1;32mwith\u001b[0m \u001b[0mmessage\u001b[0m\u001b[1;33m\u001b[0m\u001b[1;33m\u001b[0m\u001b[0m\n\u001b[0;32m    556\u001b[0m         \"\"\"\n\u001b[1;32m--> 557\u001b[1;33m         \u001b[0mself\u001b[0m\u001b[1;33m.\u001b[0m\u001b[0m_send\u001b[0m\u001b[1;33m(\u001b[0m\u001b[1;33m{\u001b[0m\u001b[1;34m\"method\"\u001b[0m\u001b[1;33m:\u001b[0m \u001b[1;34m\"custom\"\u001b[0m\u001b[1;33m,\u001b[0m \u001b[1;34m\"content\"\u001b[0m\u001b[1;33m:\u001b[0m \u001b[0mcontent\u001b[0m\u001b[1;33m}\u001b[0m\u001b[1;33m,\u001b[0m \u001b[0mbuffers\u001b[0m\u001b[1;33m=\u001b[0m\u001b[0mbuffers\u001b[0m\u001b[1;33m)\u001b[0m\u001b[1;33m\u001b[0m\u001b[1;33m\u001b[0m\u001b[0m\n\u001b[0m\u001b[0;32m    558\u001b[0m \u001b[1;33m\u001b[0m\u001b[0m\n\u001b[0;32m    559\u001b[0m     \u001b[1;32mdef\u001b[0m \u001b[0mon_msg\u001b[0m\u001b[1;33m(\u001b[0m\u001b[0mself\u001b[0m\u001b[1;33m,\u001b[0m \u001b[0mcallback\u001b[0m\u001b[1;33m,\u001b[0m \u001b[0mremove\u001b[0m\u001b[1;33m=\u001b[0m\u001b[1;32mFalse\u001b[0m\u001b[1;33m)\u001b[0m\u001b[1;33m:\u001b[0m\u001b[1;33m\u001b[0m\u001b[1;33m\u001b[0m\u001b[0m\n",
      "\u001b[1;32m~\\Anaconda3\\lib\\site-packages\\ipywidgets\\widgets\\widget.py\u001b[0m in \u001b[0;36m_send\u001b[1;34m(self, msg, buffers)\u001b[0m\n\u001b[0;32m    735\u001b[0m         \u001b[1;34m\"\"\"Sends a message to the model in the front-end.\"\"\"\u001b[0m\u001b[1;33m\u001b[0m\u001b[1;33m\u001b[0m\u001b[0m\n\u001b[0;32m    736\u001b[0m         \u001b[1;32mif\u001b[0m \u001b[0mself\u001b[0m\u001b[1;33m.\u001b[0m\u001b[0mcomm\u001b[0m \u001b[1;32mis\u001b[0m \u001b[1;32mnot\u001b[0m \u001b[1;32mNone\u001b[0m \u001b[1;32mand\u001b[0m \u001b[0mself\u001b[0m\u001b[1;33m.\u001b[0m\u001b[0mcomm\u001b[0m\u001b[1;33m.\u001b[0m\u001b[0mkernel\u001b[0m \u001b[1;32mis\u001b[0m \u001b[1;32mnot\u001b[0m \u001b[1;32mNone\u001b[0m\u001b[1;33m:\u001b[0m\u001b[1;33m\u001b[0m\u001b[1;33m\u001b[0m\u001b[0m\n\u001b[1;32m--> 737\u001b[1;33m             \u001b[0mself\u001b[0m\u001b[1;33m.\u001b[0m\u001b[0mcomm\u001b[0m\u001b[1;33m.\u001b[0m\u001b[0msend\u001b[0m\u001b[1;33m(\u001b[0m\u001b[0mdata\u001b[0m\u001b[1;33m=\u001b[0m\u001b[0mmsg\u001b[0m\u001b[1;33m,\u001b[0m \u001b[0mbuffers\u001b[0m\u001b[1;33m=\u001b[0m\u001b[0mbuffers\u001b[0m\u001b[1;33m)\u001b[0m\u001b[1;33m\u001b[0m\u001b[1;33m\u001b[0m\u001b[0m\n\u001b[0m\u001b[0;32m    738\u001b[0m \u001b[1;33m\u001b[0m\u001b[0m\n\u001b[0;32m    739\u001b[0m     \u001b[1;32mdef\u001b[0m \u001b[0m_repr_keys\u001b[0m\u001b[1;33m(\u001b[0m\u001b[0mself\u001b[0m\u001b[1;33m)\u001b[0m\u001b[1;33m:\u001b[0m\u001b[1;33m\u001b[0m\u001b[1;33m\u001b[0m\u001b[0m\n",
      "\u001b[1;32m~\\Anaconda3\\lib\\site-packages\\ipykernel\\comm\\comm.py\u001b[0m in \u001b[0;36msend\u001b[1;34m(self, data, metadata, buffers)\u001b[0m\n\u001b[0;32m    121\u001b[0m         \u001b[1;34m\"\"\"Send a message to the frontend-side version of this comm\"\"\"\u001b[0m\u001b[1;33m\u001b[0m\u001b[1;33m\u001b[0m\u001b[0m\n\u001b[0;32m    122\u001b[0m         self._publish_msg('comm_msg',\n\u001b[1;32m--> 123\u001b[1;33m             \u001b[0mdata\u001b[0m\u001b[1;33m=\u001b[0m\u001b[0mdata\u001b[0m\u001b[1;33m,\u001b[0m \u001b[0mmetadata\u001b[0m\u001b[1;33m=\u001b[0m\u001b[0mmetadata\u001b[0m\u001b[1;33m,\u001b[0m \u001b[0mbuffers\u001b[0m\u001b[1;33m=\u001b[0m\u001b[0mbuffers\u001b[0m\u001b[1;33m,\u001b[0m\u001b[1;33m\u001b[0m\u001b[1;33m\u001b[0m\u001b[0m\n\u001b[0m\u001b[0;32m    124\u001b[0m         )\n\u001b[0;32m    125\u001b[0m \u001b[1;33m\u001b[0m\u001b[0m\n",
      "\u001b[1;32m~\\Anaconda3\\lib\\site-packages\\ipykernel\\comm\\comm.py\u001b[0m in \u001b[0;36m_publish_msg\u001b[1;34m(self, msg_type, data, metadata, buffers, **keys)\u001b[0m\n\u001b[0;32m     63\u001b[0m         \u001b[0mdata\u001b[0m \u001b[1;33m=\u001b[0m \u001b[1;33m{\u001b[0m\u001b[1;33m}\u001b[0m \u001b[1;32mif\u001b[0m \u001b[0mdata\u001b[0m \u001b[1;32mis\u001b[0m \u001b[1;32mNone\u001b[0m \u001b[1;32melse\u001b[0m \u001b[0mdata\u001b[0m\u001b[1;33m\u001b[0m\u001b[1;33m\u001b[0m\u001b[0m\n\u001b[0;32m     64\u001b[0m         \u001b[0mmetadata\u001b[0m \u001b[1;33m=\u001b[0m \u001b[1;33m{\u001b[0m\u001b[1;33m}\u001b[0m \u001b[1;32mif\u001b[0m \u001b[0mmetadata\u001b[0m \u001b[1;32mis\u001b[0m \u001b[1;32mNone\u001b[0m \u001b[1;32melse\u001b[0m \u001b[0mmetadata\u001b[0m\u001b[1;33m\u001b[0m\u001b[1;33m\u001b[0m\u001b[0m\n\u001b[1;32m---> 65\u001b[1;33m         \u001b[0mcontent\u001b[0m \u001b[1;33m=\u001b[0m \u001b[0mjson_clean\u001b[0m\u001b[1;33m(\u001b[0m\u001b[0mdict\u001b[0m\u001b[1;33m(\u001b[0m\u001b[0mdata\u001b[0m\u001b[1;33m=\u001b[0m\u001b[0mdata\u001b[0m\u001b[1;33m,\u001b[0m \u001b[0mcomm_id\u001b[0m\u001b[1;33m=\u001b[0m\u001b[0mself\u001b[0m\u001b[1;33m.\u001b[0m\u001b[0mcomm_id\u001b[0m\u001b[1;33m,\u001b[0m \u001b[1;33m**\u001b[0m\u001b[0mkeys\u001b[0m\u001b[1;33m)\u001b[0m\u001b[1;33m)\u001b[0m\u001b[1;33m\u001b[0m\u001b[1;33m\u001b[0m\u001b[0m\n\u001b[0m\u001b[0;32m     66\u001b[0m         self.kernel.session.send(self.kernel.iopub_socket, msg_type,\n\u001b[0;32m     67\u001b[0m             \u001b[0mcontent\u001b[0m\u001b[1;33m,\u001b[0m\u001b[1;33m\u001b[0m\u001b[1;33m\u001b[0m\u001b[0m\n",
      "\u001b[1;32m~\\Anaconda3\\lib\\site-packages\\ipykernel\\jsonutil.py\u001b[0m in \u001b[0;36mjson_clean\u001b[1;34m(obj)\u001b[0m\n\u001b[0;32m    189\u001b[0m         \u001b[0mout\u001b[0m \u001b[1;33m=\u001b[0m \u001b[1;33m{\u001b[0m\u001b[1;33m}\u001b[0m\u001b[1;33m\u001b[0m\u001b[1;33m\u001b[0m\u001b[0m\n\u001b[0;32m    190\u001b[0m         \u001b[1;32mfor\u001b[0m \u001b[0mk\u001b[0m\u001b[1;33m,\u001b[0m\u001b[0mv\u001b[0m \u001b[1;32min\u001b[0m \u001b[0miteritems\u001b[0m\u001b[1;33m(\u001b[0m\u001b[0mobj\u001b[0m\u001b[1;33m)\u001b[0m\u001b[1;33m:\u001b[0m\u001b[1;33m\u001b[0m\u001b[1;33m\u001b[0m\u001b[0m\n\u001b[1;32m--> 191\u001b[1;33m             \u001b[0mout\u001b[0m\u001b[1;33m[\u001b[0m\u001b[0municode_type\u001b[0m\u001b[1;33m(\u001b[0m\u001b[0mk\u001b[0m\u001b[1;33m)\u001b[0m\u001b[1;33m]\u001b[0m \u001b[1;33m=\u001b[0m \u001b[0mjson_clean\u001b[0m\u001b[1;33m(\u001b[0m\u001b[0mv\u001b[0m\u001b[1;33m)\u001b[0m\u001b[1;33m\u001b[0m\u001b[1;33m\u001b[0m\u001b[0m\n\u001b[0m\u001b[0;32m    192\u001b[0m         \u001b[1;32mreturn\u001b[0m \u001b[0mout\u001b[0m\u001b[1;33m\u001b[0m\u001b[1;33m\u001b[0m\u001b[0m\n\u001b[0;32m    193\u001b[0m     \u001b[1;32mif\u001b[0m \u001b[0misinstance\u001b[0m\u001b[1;33m(\u001b[0m\u001b[0mobj\u001b[0m\u001b[1;33m,\u001b[0m \u001b[0mdatetime\u001b[0m\u001b[1;33m)\u001b[0m\u001b[1;33m:\u001b[0m\u001b[1;33m\u001b[0m\u001b[1;33m\u001b[0m\u001b[0m\n",
      "\u001b[1;32m~\\Anaconda3\\lib\\site-packages\\ipykernel\\jsonutil.py\u001b[0m in \u001b[0;36mjson_clean\u001b[1;34m(obj)\u001b[0m\n\u001b[0;32m    189\u001b[0m         \u001b[0mout\u001b[0m \u001b[1;33m=\u001b[0m \u001b[1;33m{\u001b[0m\u001b[1;33m}\u001b[0m\u001b[1;33m\u001b[0m\u001b[1;33m\u001b[0m\u001b[0m\n\u001b[0;32m    190\u001b[0m         \u001b[1;32mfor\u001b[0m \u001b[0mk\u001b[0m\u001b[1;33m,\u001b[0m\u001b[0mv\u001b[0m \u001b[1;32min\u001b[0m \u001b[0miteritems\u001b[0m\u001b[1;33m(\u001b[0m\u001b[0mobj\u001b[0m\u001b[1;33m)\u001b[0m\u001b[1;33m:\u001b[0m\u001b[1;33m\u001b[0m\u001b[1;33m\u001b[0m\u001b[0m\n\u001b[1;32m--> 191\u001b[1;33m             \u001b[0mout\u001b[0m\u001b[1;33m[\u001b[0m\u001b[0municode_type\u001b[0m\u001b[1;33m(\u001b[0m\u001b[0mk\u001b[0m\u001b[1;33m)\u001b[0m\u001b[1;33m]\u001b[0m \u001b[1;33m=\u001b[0m \u001b[0mjson_clean\u001b[0m\u001b[1;33m(\u001b[0m\u001b[0mv\u001b[0m\u001b[1;33m)\u001b[0m\u001b[1;33m\u001b[0m\u001b[1;33m\u001b[0m\u001b[0m\n\u001b[0m\u001b[0;32m    192\u001b[0m         \u001b[1;32mreturn\u001b[0m \u001b[0mout\u001b[0m\u001b[1;33m\u001b[0m\u001b[1;33m\u001b[0m\u001b[0m\n\u001b[0;32m    193\u001b[0m     \u001b[1;32mif\u001b[0m \u001b[0misinstance\u001b[0m\u001b[1;33m(\u001b[0m\u001b[0mobj\u001b[0m\u001b[1;33m,\u001b[0m \u001b[0mdatetime\u001b[0m\u001b[1;33m)\u001b[0m\u001b[1;33m:\u001b[0m\u001b[1;33m\u001b[0m\u001b[1;33m\u001b[0m\u001b[0m\n",
      "\u001b[1;32m~\\Anaconda3\\lib\\site-packages\\ipykernel\\jsonutil.py\u001b[0m in \u001b[0;36mjson_clean\u001b[1;34m(obj)\u001b[0m\n\u001b[0;32m    175\u001b[0m \u001b[1;33m\u001b[0m\u001b[0m\n\u001b[0;32m    176\u001b[0m     \u001b[1;32mif\u001b[0m \u001b[0misinstance\u001b[0m\u001b[1;33m(\u001b[0m\u001b[0mobj\u001b[0m\u001b[1;33m,\u001b[0m \u001b[0mlist\u001b[0m\u001b[1;33m)\u001b[0m\u001b[1;33m:\u001b[0m\u001b[1;33m\u001b[0m\u001b[1;33m\u001b[0m\u001b[0m\n\u001b[1;32m--> 177\u001b[1;33m         \u001b[1;32mreturn\u001b[0m \u001b[1;33m[\u001b[0m\u001b[0mjson_clean\u001b[0m\u001b[1;33m(\u001b[0m\u001b[0mx\u001b[0m\u001b[1;33m)\u001b[0m \u001b[1;32mfor\u001b[0m \u001b[0mx\u001b[0m \u001b[1;32min\u001b[0m \u001b[0mobj\u001b[0m\u001b[1;33m]\u001b[0m\u001b[1;33m\u001b[0m\u001b[1;33m\u001b[0m\u001b[0m\n\u001b[0m\u001b[0;32m    178\u001b[0m \u001b[1;33m\u001b[0m\u001b[0m\n\u001b[0;32m    179\u001b[0m     \u001b[1;32mif\u001b[0m \u001b[0misinstance\u001b[0m\u001b[1;33m(\u001b[0m\u001b[0mobj\u001b[0m\u001b[1;33m,\u001b[0m \u001b[0mdict\u001b[0m\u001b[1;33m)\u001b[0m\u001b[1;33m:\u001b[0m\u001b[1;33m\u001b[0m\u001b[1;33m\u001b[0m\u001b[0m\n",
      "\u001b[1;32m~\\Anaconda3\\lib\\site-packages\\ipykernel\\jsonutil.py\u001b[0m in \u001b[0;36m<listcomp>\u001b[1;34m(.0)\u001b[0m\n\u001b[0;32m    175\u001b[0m \u001b[1;33m\u001b[0m\u001b[0m\n\u001b[0;32m    176\u001b[0m     \u001b[1;32mif\u001b[0m \u001b[0misinstance\u001b[0m\u001b[1;33m(\u001b[0m\u001b[0mobj\u001b[0m\u001b[1;33m,\u001b[0m \u001b[0mlist\u001b[0m\u001b[1;33m)\u001b[0m\u001b[1;33m:\u001b[0m\u001b[1;33m\u001b[0m\u001b[1;33m\u001b[0m\u001b[0m\n\u001b[1;32m--> 177\u001b[1;33m         \u001b[1;32mreturn\u001b[0m \u001b[1;33m[\u001b[0m\u001b[0mjson_clean\u001b[0m\u001b[1;33m(\u001b[0m\u001b[0mx\u001b[0m\u001b[1;33m)\u001b[0m \u001b[1;32mfor\u001b[0m \u001b[0mx\u001b[0m \u001b[1;32min\u001b[0m \u001b[0mobj\u001b[0m\u001b[1;33m]\u001b[0m\u001b[1;33m\u001b[0m\u001b[1;33m\u001b[0m\u001b[0m\n\u001b[0m\u001b[0;32m    178\u001b[0m \u001b[1;33m\u001b[0m\u001b[0m\n\u001b[0;32m    179\u001b[0m     \u001b[1;32mif\u001b[0m \u001b[0misinstance\u001b[0m\u001b[1;33m(\u001b[0m\u001b[0mobj\u001b[0m\u001b[1;33m,\u001b[0m \u001b[0mdict\u001b[0m\u001b[1;33m)\u001b[0m\u001b[1;33m:\u001b[0m\u001b[1;33m\u001b[0m\u001b[1;33m\u001b[0m\u001b[0m\n",
      "\u001b[1;32m~\\Anaconda3\\lib\\site-packages\\ipykernel\\jsonutil.py\u001b[0m in \u001b[0;36mjson_clean\u001b[1;34m(obj)\u001b[0m\n\u001b[0;32m    182\u001b[0m         \u001b[1;31m# True and 'true' or 1 and '1', which collide in JSON.\u001b[0m\u001b[1;33m\u001b[0m\u001b[1;33m\u001b[0m\u001b[1;33m\u001b[0m\u001b[0m\n\u001b[0;32m    183\u001b[0m         \u001b[0mnkeys\u001b[0m \u001b[1;33m=\u001b[0m \u001b[0mlen\u001b[0m\u001b[1;33m(\u001b[0m\u001b[0mobj\u001b[0m\u001b[1;33m)\u001b[0m\u001b[1;33m\u001b[0m\u001b[1;33m\u001b[0m\u001b[0m\n\u001b[1;32m--> 184\u001b[1;33m         \u001b[0mnkeys_collapsed\u001b[0m \u001b[1;33m=\u001b[0m \u001b[0mlen\u001b[0m\u001b[1;33m(\u001b[0m\u001b[0mset\u001b[0m\u001b[1;33m(\u001b[0m\u001b[0mmap\u001b[0m\u001b[1;33m(\u001b[0m\u001b[0municode_type\u001b[0m\u001b[1;33m,\u001b[0m \u001b[0mobj\u001b[0m\u001b[1;33m)\u001b[0m\u001b[1;33m)\u001b[0m\u001b[1;33m)\u001b[0m\u001b[1;33m\u001b[0m\u001b[1;33m\u001b[0m\u001b[0m\n\u001b[0m\u001b[0;32m    185\u001b[0m         \u001b[1;32mif\u001b[0m \u001b[0mnkeys\u001b[0m \u001b[1;33m!=\u001b[0m \u001b[0mnkeys_collapsed\u001b[0m\u001b[1;33m:\u001b[0m\u001b[1;33m\u001b[0m\u001b[1;33m\u001b[0m\u001b[0m\n\u001b[0;32m    186\u001b[0m             raise ValueError('dict cannot be safely converted to JSON: '\n",
      "\u001b[1;31mKeyboardInterrupt\u001b[0m: "
     ]
    }
   ],
   "source": [
    "# Tests\n",
    "\n",
    "display(s)\n",
    "matrice = initialisation(150)    \n",
    "while True :\n",
    "    with hold_canvas(s) :\n",
    "        background()\n",
    "        for i in range(len(matrice[0])) :\n",
    "            matrice[1][i] += 4\n",
    "                 \n",
    "            flocon(matrice[0][i], matrice[1][i], matrice[2][i])        \n",
    "\n",
    "            if matrice[1][i] >= s.height :\n",
    "                matrice[1][i] = 0\n",
    "                matrice[0][i] = randint(0, s.width)\n",
    "    sleep(0.02)"
   ]
  },
  {
   "cell_type": "markdown",
   "metadata": {},
   "source": [
    "- Définir une fonction `chute(tableau, time_lapse)` qui prend en paramètre le tableau de répartition sur la scène des flocons en position et en diamètre et qui simule une chute de neige avec un laps de temps `time_lapse` réglable entre l'affichage de deux images successives..."
   ]
  },
  {
   "cell_type": "code",
   "execution_count": null,
   "metadata": {},
   "outputs": [],
   "source": [
    "# Définition\n",
    "def chute(tableau : list, time_lapse : float) :\n",
    "    '''\n",
    "    Simule une chute de neige avec un laps de temps `time_lapse` réglable entre l'affichage de deux images successives\n",
    "    avec en paramètre le tableau de répartition sur la scène des flocons en position (x, y) et en diamètre\n",
    "    '''\n",
    "    while True :\n",
    "        with hold_canvas(s) :\n",
    "            background()\n",
    "            for i in range(len(tableau[0])) :\n",
    "                tableau[1][i] += 4\n",
    "\n",
    "                flocon(tableau[0][i], tableau[1][i], tableau[2][i])        \n",
    "\n",
    "                if tableau[1][i] >= s.height :\n",
    "                    tableau[1][i] = 0\n",
    "                    tableau[0][i] = randint(0, s.width)\n",
    "        sleep(time_lapse)\n"
   ]
  },
  {
   "cell_type": "code",
   "execution_count": null,
   "metadata": {},
   "outputs": [],
   "source": [
    "# Test chute de neige\n",
    "display(s)\n",
    "matrice = initialisation(150)    \n",
    "chute(matrice, 0.005)"
   ]
  },
  {
   "cell_type": "markdown",
   "metadata": {},
   "source": [
    "Améliorations à prévoir :\n",
    "- Faire en sorte que le diamètre d'un flocon soit rédéfini aléatoirement à chaque relance de sa chute à partir du haut de la scène ; \n",
    "- Faire en sorte que tous les flocons n'aient pas la même vitesse de chute, par exemple, lier le pas d'incrémentation sur l'ordonnée d'un flocon au cours de sa chute à la moitié du diamètre du flocon ;\n",
    "- Ajouter une oscillation aléatoire en abcisse sur un intervale d'un pixel ;\n",
    "- ...\n",
    "\n",
    "\n",
    "- Mettre alors à jour à ce stade du développement le code validé par les tests pour produire une animation simulant une chute de neige la plus réaliste possible..."
   ]
  },
  {
   "cell_type": "code",
   "execution_count": null,
   "metadata": {},
   "outputs": [],
   "source": [
    "# Dépendances\n",
    "from ipycanvas import Canvas, hold_canvas\n",
    "from math import pi\n",
    "from time import sleep\n",
    "from random import randint\n",
    "\n",
    "# Définitions\n",
    "\n",
    "# Création d'un canvas pour la scène\n",
    "s = Canvas(width=980, height=400)\n",
    "\n",
    "# Une fonction pour effacer la scène et redessiner un background\n",
    "def background(couleur : str = 'black') :\n",
    "    '''\n",
    "    Rafraichit la scène avec un fond de la couleur\n",
    "    'couleur' passée en paramètre et fixée sur `black` par défaut\n",
    "    Préconditions :\n",
    "    - couleur (str) : une chaine de caractères définissant une couleur HTML valide\n",
    "    '''    \n",
    "    s.clear()\n",
    "    s.fill_style = couleur\n",
    "    s.fill_rect(0, 0, s.width, s.height)\n",
    "\n",
    "# Une fonction pour produire le dessin d'un flocon plus réaliste\n",
    "def flocon(x : float, y : float, diametre : float, taux : float = 50) :\n",
    "    '''\n",
    "    Dessine un flocon avec un effet de flou en superposant\n",
    "    des disques de diamètre de plus en plus petit\n",
    "    centrés sur le point de coordonnées '(x, y)'\n",
    "    inscrit dans un cercle de diametre extérieur 'diametre'\n",
    "    et avec 'taux' le niveau de transparence\n",
    "    en pourcentage de 0 à 100% et réglé par défaut sur 50%\n",
    "    '''\n",
    "    s.fill_style = f'rgba(255, 250, 250, {taux/100})'\n",
    "    for n in range(6) :\n",
    "        s.fill_arc(x, y, diametre/2 - n * 1/6*diametre/2, 0, 2*pi)  \n",
    "\n",
    "        \n",
    "# Une fonction pour générer un tableau de flocons\n",
    "def initialisation(nb_flocons : int) -> list :\n",
    "    '''\n",
    "    Prend en paramètre le nombre de flocons à placer sur la scène\n",
    "    et renvoie un tableau constitué des listes d'abcisses,\n",
    "    d'ordonnées et de diametres aléatoires de chaque flocon.\n",
    "    '''\n",
    "    abscisses = [randint(0, s.width) for x in range(nb_flocons)]\n",
    "    ordonnees = [randint(0, s.height) for y in range(nb_flocons)]\n",
    "    diametres = [randint(2, 8) for t in range(nb_flocons)]\n",
    "    return [abscisses, ordonnees, diametres]\n",
    "\n",
    "# Une fonction pour simuler une chute de neige\n",
    "def chute(tableau : list, time_lapse : float) :\n",
    "    '''\n",
    "    Simule une chute de neige avec un laps de temps `time_lapse` réglable entre l'affichage de deux images successives\n",
    "    avec en paramètre le tableau de répartition sur la scène des flocons en position (x, y) et en diamètre\n",
    "    '''\n",
    "    while True :\n",
    "        with hold_canvas(s) :\n",
    "            background()\n",
    "            for i in range(len(tableau[0])) :# évolution des valeurs\n",
    "                tableau[1][i] += tableau[2][i]/2 # ordonnée incrément propotionnel au diamètre\n",
    "                tableau[0][i] += randint(-1,1)/2 # oscillation sur l'abscisse\n",
    "\n",
    "                flocon(tableau[0][i], tableau[1][i], tableau[2][i])        \n",
    "\n",
    "                if tableau[1][i] >= s.height :# réinitialisation des valeurs si arrivé en bas\n",
    "                    tableau[1][i] = 0 # ordonnée\n",
    "                    tableau[0][i] = randint(0, s.width) # abscisse\n",
    "                    tableau[2][i] = randint(2, 8) # diamètre\n",
    "        sleep(time_lapse)\n",
    "\n",
    "# Tests pour l'affichage finale d'une chute de neige\n",
    "if __name__ == '__main__':\n",
    "    display(s)\n",
    "    matrice = initialisation(150)    \n",
    "    chute(matrice, 0.005)"
   ]
  },
  {
   "cell_type": "code",
   "execution_count": null,
   "metadata": {},
   "outputs": [],
   "source": []
  },
  {
   "cell_type": "markdown",
   "metadata": {},
   "source": [
    "_**Une vrai armée de clones, ..., qui autorise quelques singularités...**_\n",
    "\n",
    "## L'usine à flocons :\n",
    "\n",
    "- Créer une classe `Flocon` possédant les attributs `abscisse`, `ordonnee` et `diametre` ;\n",
    "- Ecrire une méthode pour définir le comportement d'un flocon dans sa chute"
   ]
  },
  {
   "cell_type": "code",
   "execution_count": 1,
   "metadata": {},
   "outputs": [],
   "source": [
    "# Dépendances\n",
    "from ipycanvas import Canvas, hold_canvas\n",
    "from math import pi\n",
    "from time import sleep\n",
    "from random import randint"
   ]
  },
  {
   "cell_type": "code",
   "execution_count": 2,
   "metadata": {},
   "outputs": [],
   "source": [
    "# Définition d'une scène avec un fond noir\n",
    "\n",
    "# Création d'un canvas pour la scène\n",
    "s = Canvas(width=980, height=400)\n",
    "\n",
    "# Une fonction pour effacer la scène et redessiner un background\n",
    "def background(couleur : str = 'black') :\n",
    "    '''\n",
    "    Rafraichit la scène avec un fond de la couleur\n",
    "    'couleur' passée en paramètre et fixée sur `black` par défaut\n",
    "    Préconditions :\n",
    "    - couleur (str) : une chaine de caractères définissant une couleur HTML valide\n",
    "    '''    \n",
    "    s.clear()\n",
    "    s.fill_style = couleur\n",
    "    s.fill_rect(0, 0, s.width, s.height)"
   ]
  },
  {
   "cell_type": "code",
   "execution_count": 3,
   "metadata": {},
   "outputs": [],
   "source": [
    "# Définition d'une classe Flocon\n",
    "\n",
    "class Flocon : # définition de la classe Flocon\n",
    "    \n",
    "    # Constructeur\n",
    "    def __init__(self) :\n",
    "        '''\n",
    "        Construit un flocon avec une abscisse,\n",
    "        une ordonnée et un diamètre définis aléatoirement\n",
    "        '''\n",
    "        self.abscisse = randint(0, s.width)\n",
    "        self.ordonnee = randint(0, s.height)\n",
    "        self.diametre = randint(2, 8)\n",
    "        \n",
    "    # Méthode pour modifier, faire évoluer\n",
    "    def evolue(self) : \n",
    "        '''\n",
    "        Modifie les valeurs des attributs du flocon\n",
    "        pour qu'il évolue en position et en diamètre\n",
    "        selon des règles définies pour sa chute\n",
    "        \n",
    "        '''\n",
    "        self.ordonnee += self.diametre/2 # ordonnée incrément propotionnel au diamètre\n",
    "        self.abscisse += randint(-1,1)/2 # oscillation sur l'abscisse\n",
    "                \n",
    "        if self.ordonnee >= s.height :# réinitialisation des valeurs si arrivé en bas\n",
    "                    self.ordonnee = 0 # ordonnée\n",
    "                    self.abscisse = randint(0, s.width) # abscisse\n",
    "                    self.diametre = randint(2, 8) # diamètre\n",
    "        \n",
    "    # Méthode pour accéder    \n",
    "    def dessine(self, taux : float = 50) :\n",
    "        '''\n",
    "        Affiche un flocon avec un effet de flou en superposant\n",
    "        des disques de diamètre de plus en plus petit\n",
    "        centrés sur le point de coordonnées (x, y) et au diamètre\n",
    "        correspondants aux valeurs de ses attributs\n",
    "        et avec le niveau de transparence  'taux' en pourcentage de 0 à 100%\n",
    "        réglé par défaut sur 50%\n",
    "        '''\n",
    "        s.fill_style = f'rgba(255, 250, 250, {taux/100})'\n",
    "        for n in range(6) :\n",
    "            s.fill_arc(self.abscisse, self.ordonnee, self.diametre/2 - n * 1/6*self.diametre/2, 0, 2*pi)\n"
   ]
  },
  {
   "cell_type": "code",
   "execution_count": null,
   "metadata": {},
   "outputs": [],
   "source": [
    "# Test avec un flocon\n",
    "display(s)\n",
    "background()"
   ]
  },
  {
   "cell_type": "code",
   "execution_count": 5,
   "metadata": {},
   "outputs": [],
   "source": [
    "# Création d'un objet flocon\n",
    "mon_flocon = Flocon()"
   ]
  },
  {
   "cell_type": "code",
   "execution_count": null,
   "metadata": {},
   "outputs": [],
   "source": [
    "mon_flocon.abscisse"
   ]
  },
  {
   "cell_type": "code",
   "execution_count": null,
   "metadata": {},
   "outputs": [],
   "source": [
    "mon_flocon.dessine()"
   ]
  },
  {
   "cell_type": "code",
   "execution_count": null,
   "metadata": {},
   "outputs": [],
   "source": [
    "# Création d'un autre objet flocon\n",
    "mon_autre_flocon = Flocon()"
   ]
  },
  {
   "cell_type": "code",
   "execution_count": null,
   "metadata": {},
   "outputs": [],
   "source": [
    "mon_autre_flocon.abscisse"
   ]
  },
  {
   "cell_type": "code",
   "execution_count": null,
   "metadata": {},
   "outputs": [],
   "source": [
    "mon_autre_flocon.dessine()"
   ]
  },
  {
   "cell_type": "code",
   "execution_count": 6,
   "metadata": {},
   "outputs": [
    {
     "data": {
      "application/vnd.jupyter.widget-view+json": {
       "model_id": "a9617cb66e2f45cb968ff4e988989e0a",
       "version_major": 2,
       "version_minor": 0
      },
      "text/plain": [
       "Canvas(height=400, width=980)"
      ]
     },
     "metadata": {},
     "output_type": "display_data"
    },
    {
     "ename": "KeyboardInterrupt",
     "evalue": "",
     "output_type": "error",
     "traceback": [
      "\u001b[1;31m---------------------------------------------------------------------------\u001b[0m",
      "\u001b[1;31mKeyboardInterrupt\u001b[0m                         Traceback (most recent call last)",
      "\u001b[1;32m<ipython-input-6-62eb117c4123>\u001b[0m in \u001b[0;36m<module>\u001b[1;34m\u001b[0m\n\u001b[0;32m      6\u001b[0m         \u001b[0mmon_flocon\u001b[0m\u001b[1;33m.\u001b[0m\u001b[0mevolue\u001b[0m\u001b[1;33m(\u001b[0m\u001b[1;33m)\u001b[0m\u001b[1;33m\u001b[0m\u001b[1;33m\u001b[0m\u001b[0m\n\u001b[0;32m      7\u001b[0m         \u001b[0mmon_flocon\u001b[0m\u001b[1;33m.\u001b[0m\u001b[0mdessine\u001b[0m\u001b[1;33m(\u001b[0m\u001b[1;33m)\u001b[0m\u001b[1;33m\u001b[0m\u001b[1;33m\u001b[0m\u001b[0m\n\u001b[1;32m----> 8\u001b[1;33m     \u001b[0msleep\u001b[0m\u001b[1;33m(\u001b[0m\u001b[1;36m0.02\u001b[0m\u001b[1;33m)\u001b[0m\u001b[1;33m\u001b[0m\u001b[1;33m\u001b[0m\u001b[0m\n\u001b[0m",
      "\u001b[1;31mKeyboardInterrupt\u001b[0m: "
     ]
    }
   ],
   "source": [
    "# Test avec un flocon\n",
    "display(s)\n",
    "while True :\n",
    "    with hold_canvas(s) :\n",
    "        background()\n",
    "        mon_flocon.evolue()\n",
    "        mon_flocon.dessine()\n",
    "    sleep(0.02)"
   ]
  },
  {
   "cell_type": "markdown",
   "metadata": {},
   "source": [
    "### Production de flocons à la chaine :\n",
    "\n",
    "- Définir un tableau constitué de `nb_flocons` instances de `Flocons` "
   ]
  },
  {
   "cell_type": "code",
   "execution_count": null,
   "metadata": {},
   "outputs": [],
   "source": []
  },
  {
   "cell_type": "code",
   "execution_count": null,
   "metadata": {},
   "outputs": [],
   "source": [
    "nb_flocons = 150\n",
    "mes_flocons = [Flocon() for n in range(nb_flocons)]"
   ]
  },
  {
   "cell_type": "code",
   "execution_count": null,
   "metadata": {},
   "outputs": [],
   "source": [
    "mes_flocons"
   ]
  },
  {
   "cell_type": "markdown",
   "metadata": {},
   "source": [
    "- Définir alors une nouvelle version pour la fonction `initialisation(nb_flocons)`"
   ]
  },
  {
   "cell_type": "code",
   "execution_count": null,
   "metadata": {},
   "outputs": [],
   "source": [
    "# Une fonction pour générer un tableau de flocons\n",
    "def initialisation(nb_flocons : int) -> list :\n",
    "    '''\n",
    "    Prend en paramètre le nombre de flocons à placer sur la scène\n",
    "    et renvoie un tableau constitué des `nb_flocons` instances de `Flocons`.\n",
    "    '''\n",
    "    return [Flocon() for n in range(nb_flocons)]"
   ]
  },
  {
   "cell_type": "code",
   "execution_count": null,
   "metadata": {},
   "outputs": [],
   "source": [
    "# tests\n",
    "mes_flocons = initialisation(150)\n",
    "\n",
    "# Tests pour un tableau figé de flocons\n",
    "display(s)\n",
    "background()\n",
    "for n in range(len(mes_flocons)) :\n",
    "    mes_flocons[n].dessine()"
   ]
  },
  {
   "cell_type": "code",
   "execution_count": null,
   "metadata": {},
   "outputs": [],
   "source": []
  },
  {
   "cell_type": "code",
   "execution_count": null,
   "metadata": {},
   "outputs": [],
   "source": [
    "# Définition\n",
    "def chute(tableau : list, time_lapse : float) :\n",
    "    '''\n",
    "    Simule une chute de neige avec un laps de temps `time_lapse` réglable entre l'affichage de deux images successives\n",
    "    avec en paramètre un tableau constitué des `nb_flocons` instances de `Flocons`\n",
    "    '''\n",
    "    while True :\n",
    "        with hold_canvas(s) :\n",
    "            background()\n",
    "            for k in range(len(tableau)) :\n",
    "                tableau[k].evolue()\n",
    "                tableau[k].dessine()\n",
    "        sleep(time_lapse)"
   ]
  },
  {
   "cell_type": "code",
   "execution_count": null,
   "metadata": {},
   "outputs": [],
   "source": [
    "# Tests pour l'affichage finale d'une chute de neige\n",
    "display(s)\n",
    "mes_flocons = initialisation(150)    \n",
    "chute(mes_flocons, 0.005)"
   ]
  },
  {
   "cell_type": "code",
   "execution_count": 1,
   "metadata": {},
   "outputs": [
    {
     "data": {
      "application/vnd.jupyter.widget-view+json": {
       "model_id": "2689722905cf4a20b0dd9555fb2b029f",
       "version_major": 2,
       "version_minor": 0
      },
      "text/plain": [
       "Canvas(height=400, width=980)"
      ]
     },
     "metadata": {},
     "output_type": "display_data"
    },
    {
     "ename": "KeyboardInterrupt",
     "evalue": "",
     "output_type": "error",
     "traceback": [
      "\u001b[1;31m---------------------------------------------------------------------------\u001b[0m",
      "\u001b[1;31mKeyboardInterrupt\u001b[0m                         Traceback (most recent call last)",
      "\u001b[1;32m<ipython-input-1-15c08409ca77>\u001b[0m in \u001b[0;36m<module>\u001b[1;34m\u001b[0m\n\u001b[0;32m     90\u001b[0m     \u001b[0mdisplay\u001b[0m\u001b[1;33m(\u001b[0m\u001b[0ms\u001b[0m\u001b[1;33m)\u001b[0m\u001b[1;33m\u001b[0m\u001b[1;33m\u001b[0m\u001b[0m\n\u001b[0;32m     91\u001b[0m     \u001b[0mmes_flocons\u001b[0m \u001b[1;33m=\u001b[0m \u001b[0minitialisation\u001b[0m\u001b[1;33m(\u001b[0m\u001b[1;36m150\u001b[0m\u001b[1;33m)\u001b[0m\u001b[1;33m\u001b[0m\u001b[1;33m\u001b[0m\u001b[0m\n\u001b[1;32m---> 92\u001b[1;33m     \u001b[0mchute\u001b[0m\u001b[1;33m(\u001b[0m\u001b[0mmes_flocons\u001b[0m\u001b[1;33m,\u001b[0m \u001b[1;36m0.005\u001b[0m\u001b[1;33m)\u001b[0m\u001b[1;33m\u001b[0m\u001b[1;33m\u001b[0m\u001b[0m\n\u001b[0m",
      "\u001b[1;32m<ipython-input-1-15c08409ca77>\u001b[0m in \u001b[0;36mchute\u001b[1;34m(tableau, time_lapse)\u001b[0m\n\u001b[0;32m     83\u001b[0m             \u001b[1;32mfor\u001b[0m \u001b[0mk\u001b[0m \u001b[1;32min\u001b[0m \u001b[0mrange\u001b[0m\u001b[1;33m(\u001b[0m\u001b[0mlen\u001b[0m\u001b[1;33m(\u001b[0m\u001b[0mtableau\u001b[0m\u001b[1;33m)\u001b[0m\u001b[1;33m)\u001b[0m \u001b[1;33m:\u001b[0m\u001b[1;33m\u001b[0m\u001b[1;33m\u001b[0m\u001b[0m\n\u001b[0;32m     84\u001b[0m                 \u001b[0mtableau\u001b[0m\u001b[1;33m[\u001b[0m\u001b[0mk\u001b[0m\u001b[1;33m]\u001b[0m\u001b[1;33m.\u001b[0m\u001b[0mevolue\u001b[0m\u001b[1;33m(\u001b[0m\u001b[1;33m)\u001b[0m\u001b[1;33m\u001b[0m\u001b[1;33m\u001b[0m\u001b[0m\n\u001b[1;32m---> 85\u001b[1;33m                 \u001b[0mtableau\u001b[0m\u001b[1;33m[\u001b[0m\u001b[0mk\u001b[0m\u001b[1;33m]\u001b[0m\u001b[1;33m.\u001b[0m\u001b[0mdessine\u001b[0m\u001b[1;33m(\u001b[0m\u001b[1;33m)\u001b[0m\u001b[1;33m\u001b[0m\u001b[1;33m\u001b[0m\u001b[0m\n\u001b[0m\u001b[0;32m     86\u001b[0m         \u001b[0msleep\u001b[0m\u001b[1;33m(\u001b[0m\u001b[0mtime_lapse\u001b[0m\u001b[1;33m)\u001b[0m\u001b[1;33m\u001b[0m\u001b[1;33m\u001b[0m\u001b[0m\n\u001b[0;32m     87\u001b[0m \u001b[1;33m\u001b[0m\u001b[0m\n",
      "\u001b[1;32m~\\Anaconda3\\lib\\contextlib.py\u001b[0m in \u001b[0;36m__exit__\u001b[1;34m(self, type, value, traceback)\u001b[0m\n\u001b[0;32m    117\u001b[0m         \u001b[1;32mif\u001b[0m \u001b[0mtype\u001b[0m \u001b[1;32mis\u001b[0m \u001b[1;32mNone\u001b[0m\u001b[1;33m:\u001b[0m\u001b[1;33m\u001b[0m\u001b[1;33m\u001b[0m\u001b[0m\n\u001b[0;32m    118\u001b[0m             \u001b[1;32mtry\u001b[0m\u001b[1;33m:\u001b[0m\u001b[1;33m\u001b[0m\u001b[1;33m\u001b[0m\u001b[0m\n\u001b[1;32m--> 119\u001b[1;33m                 \u001b[0mnext\u001b[0m\u001b[1;33m(\u001b[0m\u001b[0mself\u001b[0m\u001b[1;33m.\u001b[0m\u001b[0mgen\u001b[0m\u001b[1;33m)\u001b[0m\u001b[1;33m\u001b[0m\u001b[1;33m\u001b[0m\u001b[0m\n\u001b[0m\u001b[0;32m    120\u001b[0m             \u001b[1;32mexcept\u001b[0m \u001b[0mStopIteration\u001b[0m\u001b[1;33m:\u001b[0m\u001b[1;33m\u001b[0m\u001b[1;33m\u001b[0m\u001b[0m\n\u001b[0;32m    121\u001b[0m                 \u001b[1;32mreturn\u001b[0m \u001b[1;32mFalse\u001b[0m\u001b[1;33m\u001b[0m\u001b[1;33m\u001b[0m\u001b[0m\n",
      "\u001b[1;32m~\\Anaconda3\\lib\\site-packages\\ipycanvas\\canvas.py\u001b[0m in \u001b[0;36mhold_canvas\u001b[1;34m(canvas)\u001b[0m\n\u001b[0;32m    811\u001b[0m     \u001b[0mcanvas\u001b[0m\u001b[1;33m.\u001b[0m\u001b[0mcaching\u001b[0m \u001b[1;33m=\u001b[0m \u001b[1;32mTrue\u001b[0m\u001b[1;33m\u001b[0m\u001b[1;33m\u001b[0m\u001b[0m\n\u001b[0;32m    812\u001b[0m     \u001b[1;32myield\u001b[0m\u001b[1;33m\u001b[0m\u001b[1;33m\u001b[0m\u001b[0m\n\u001b[1;32m--> 813\u001b[1;33m     \u001b[0mcanvas\u001b[0m\u001b[1;33m.\u001b[0m\u001b[0mflush\u001b[0m\u001b[1;33m(\u001b[0m\u001b[1;33m)\u001b[0m\u001b[1;33m\u001b[0m\u001b[1;33m\u001b[0m\u001b[0m\n\u001b[0m",
      "\u001b[1;32m~\\Anaconda3\\lib\\site-packages\\ipycanvas\\canvas.py\u001b[0m in \u001b[0;36mflush\u001b[1;34m(self)\u001b[0m\n\u001b[0;32m    587\u001b[0m             \u001b[1;32mreturn\u001b[0m\u001b[1;33m\u001b[0m\u001b[1;33m\u001b[0m\u001b[0m\n\u001b[0;32m    588\u001b[0m \u001b[1;33m\u001b[0m\u001b[0m\n\u001b[1;32m--> 589\u001b[1;33m         \u001b[0mself\u001b[0m\u001b[1;33m.\u001b[0m\u001b[0msend\u001b[0m\u001b[1;33m(\u001b[0m\u001b[0mself\u001b[0m\u001b[1;33m.\u001b[0m\u001b[0m_commands_cache\u001b[0m\u001b[1;33m,\u001b[0m \u001b[0mself\u001b[0m\u001b[1;33m.\u001b[0m\u001b[0m_buffers_cache\u001b[0m\u001b[1;33m)\u001b[0m\u001b[1;33m\u001b[0m\u001b[1;33m\u001b[0m\u001b[0m\n\u001b[0m\u001b[0;32m    590\u001b[0m \u001b[1;33m\u001b[0m\u001b[0m\n\u001b[0;32m    591\u001b[0m         \u001b[0mself\u001b[0m\u001b[1;33m.\u001b[0m\u001b[0mcaching\u001b[0m \u001b[1;33m=\u001b[0m \u001b[1;32mFalse\u001b[0m\u001b[1;33m\u001b[0m\u001b[1;33m\u001b[0m\u001b[0m\n",
      "\u001b[1;32m~\\Anaconda3\\lib\\site-packages\\ipywidgets\\widgets\\widget.py\u001b[0m in \u001b[0;36msend\u001b[1;34m(self, content, buffers)\u001b[0m\n\u001b[0;32m    555\u001b[0m             \u001b[0mBinary\u001b[0m \u001b[0mbuffers\u001b[0m \u001b[0mto\u001b[0m \u001b[0msend\u001b[0m \u001b[1;32mwith\u001b[0m \u001b[0mmessage\u001b[0m\u001b[1;33m\u001b[0m\u001b[1;33m\u001b[0m\u001b[0m\n\u001b[0;32m    556\u001b[0m         \"\"\"\n\u001b[1;32m--> 557\u001b[1;33m         \u001b[0mself\u001b[0m\u001b[1;33m.\u001b[0m\u001b[0m_send\u001b[0m\u001b[1;33m(\u001b[0m\u001b[1;33m{\u001b[0m\u001b[1;34m\"method\"\u001b[0m\u001b[1;33m:\u001b[0m \u001b[1;34m\"custom\"\u001b[0m\u001b[1;33m,\u001b[0m \u001b[1;34m\"content\"\u001b[0m\u001b[1;33m:\u001b[0m \u001b[0mcontent\u001b[0m\u001b[1;33m}\u001b[0m\u001b[1;33m,\u001b[0m \u001b[0mbuffers\u001b[0m\u001b[1;33m=\u001b[0m\u001b[0mbuffers\u001b[0m\u001b[1;33m)\u001b[0m\u001b[1;33m\u001b[0m\u001b[1;33m\u001b[0m\u001b[0m\n\u001b[0m\u001b[0;32m    558\u001b[0m \u001b[1;33m\u001b[0m\u001b[0m\n\u001b[0;32m    559\u001b[0m     \u001b[1;32mdef\u001b[0m \u001b[0mon_msg\u001b[0m\u001b[1;33m(\u001b[0m\u001b[0mself\u001b[0m\u001b[1;33m,\u001b[0m \u001b[0mcallback\u001b[0m\u001b[1;33m,\u001b[0m \u001b[0mremove\u001b[0m\u001b[1;33m=\u001b[0m\u001b[1;32mFalse\u001b[0m\u001b[1;33m)\u001b[0m\u001b[1;33m:\u001b[0m\u001b[1;33m\u001b[0m\u001b[1;33m\u001b[0m\u001b[0m\n",
      "\u001b[1;32m~\\Anaconda3\\lib\\site-packages\\ipywidgets\\widgets\\widget.py\u001b[0m in \u001b[0;36m_send\u001b[1;34m(self, msg, buffers)\u001b[0m\n\u001b[0;32m    735\u001b[0m         \u001b[1;34m\"\"\"Sends a message to the model in the front-end.\"\"\"\u001b[0m\u001b[1;33m\u001b[0m\u001b[1;33m\u001b[0m\u001b[0m\n\u001b[0;32m    736\u001b[0m         \u001b[1;32mif\u001b[0m \u001b[0mself\u001b[0m\u001b[1;33m.\u001b[0m\u001b[0mcomm\u001b[0m \u001b[1;32mis\u001b[0m \u001b[1;32mnot\u001b[0m \u001b[1;32mNone\u001b[0m \u001b[1;32mand\u001b[0m \u001b[0mself\u001b[0m\u001b[1;33m.\u001b[0m\u001b[0mcomm\u001b[0m\u001b[1;33m.\u001b[0m\u001b[0mkernel\u001b[0m \u001b[1;32mis\u001b[0m \u001b[1;32mnot\u001b[0m \u001b[1;32mNone\u001b[0m\u001b[1;33m:\u001b[0m\u001b[1;33m\u001b[0m\u001b[1;33m\u001b[0m\u001b[0m\n\u001b[1;32m--> 737\u001b[1;33m             \u001b[0mself\u001b[0m\u001b[1;33m.\u001b[0m\u001b[0mcomm\u001b[0m\u001b[1;33m.\u001b[0m\u001b[0msend\u001b[0m\u001b[1;33m(\u001b[0m\u001b[0mdata\u001b[0m\u001b[1;33m=\u001b[0m\u001b[0mmsg\u001b[0m\u001b[1;33m,\u001b[0m \u001b[0mbuffers\u001b[0m\u001b[1;33m=\u001b[0m\u001b[0mbuffers\u001b[0m\u001b[1;33m)\u001b[0m\u001b[1;33m\u001b[0m\u001b[1;33m\u001b[0m\u001b[0m\n\u001b[0m\u001b[0;32m    738\u001b[0m \u001b[1;33m\u001b[0m\u001b[0m\n\u001b[0;32m    739\u001b[0m     \u001b[1;32mdef\u001b[0m \u001b[0m_repr_keys\u001b[0m\u001b[1;33m(\u001b[0m\u001b[0mself\u001b[0m\u001b[1;33m)\u001b[0m\u001b[1;33m:\u001b[0m\u001b[1;33m\u001b[0m\u001b[1;33m\u001b[0m\u001b[0m\n",
      "\u001b[1;32m~\\Anaconda3\\lib\\site-packages\\ipykernel\\comm\\comm.py\u001b[0m in \u001b[0;36msend\u001b[1;34m(self, data, metadata, buffers)\u001b[0m\n\u001b[0;32m    121\u001b[0m         \u001b[1;34m\"\"\"Send a message to the frontend-side version of this comm\"\"\"\u001b[0m\u001b[1;33m\u001b[0m\u001b[1;33m\u001b[0m\u001b[0m\n\u001b[0;32m    122\u001b[0m         self._publish_msg('comm_msg',\n\u001b[1;32m--> 123\u001b[1;33m             \u001b[0mdata\u001b[0m\u001b[1;33m=\u001b[0m\u001b[0mdata\u001b[0m\u001b[1;33m,\u001b[0m \u001b[0mmetadata\u001b[0m\u001b[1;33m=\u001b[0m\u001b[0mmetadata\u001b[0m\u001b[1;33m,\u001b[0m \u001b[0mbuffers\u001b[0m\u001b[1;33m=\u001b[0m\u001b[0mbuffers\u001b[0m\u001b[1;33m,\u001b[0m\u001b[1;33m\u001b[0m\u001b[1;33m\u001b[0m\u001b[0m\n\u001b[0m\u001b[0;32m    124\u001b[0m         )\n\u001b[0;32m    125\u001b[0m \u001b[1;33m\u001b[0m\u001b[0m\n",
      "\u001b[1;32m~\\Anaconda3\\lib\\site-packages\\ipykernel\\comm\\comm.py\u001b[0m in \u001b[0;36m_publish_msg\u001b[1;34m(self, msg_type, data, metadata, buffers, **keys)\u001b[0m\n\u001b[0;32m     63\u001b[0m         \u001b[0mdata\u001b[0m \u001b[1;33m=\u001b[0m \u001b[1;33m{\u001b[0m\u001b[1;33m}\u001b[0m \u001b[1;32mif\u001b[0m \u001b[0mdata\u001b[0m \u001b[1;32mis\u001b[0m \u001b[1;32mNone\u001b[0m \u001b[1;32melse\u001b[0m \u001b[0mdata\u001b[0m\u001b[1;33m\u001b[0m\u001b[1;33m\u001b[0m\u001b[0m\n\u001b[0;32m     64\u001b[0m         \u001b[0mmetadata\u001b[0m \u001b[1;33m=\u001b[0m \u001b[1;33m{\u001b[0m\u001b[1;33m}\u001b[0m \u001b[1;32mif\u001b[0m \u001b[0mmetadata\u001b[0m \u001b[1;32mis\u001b[0m \u001b[1;32mNone\u001b[0m \u001b[1;32melse\u001b[0m \u001b[0mmetadata\u001b[0m\u001b[1;33m\u001b[0m\u001b[1;33m\u001b[0m\u001b[0m\n\u001b[1;32m---> 65\u001b[1;33m         \u001b[0mcontent\u001b[0m \u001b[1;33m=\u001b[0m \u001b[0mjson_clean\u001b[0m\u001b[1;33m(\u001b[0m\u001b[0mdict\u001b[0m\u001b[1;33m(\u001b[0m\u001b[0mdata\u001b[0m\u001b[1;33m=\u001b[0m\u001b[0mdata\u001b[0m\u001b[1;33m,\u001b[0m \u001b[0mcomm_id\u001b[0m\u001b[1;33m=\u001b[0m\u001b[0mself\u001b[0m\u001b[1;33m.\u001b[0m\u001b[0mcomm_id\u001b[0m\u001b[1;33m,\u001b[0m \u001b[1;33m**\u001b[0m\u001b[0mkeys\u001b[0m\u001b[1;33m)\u001b[0m\u001b[1;33m)\u001b[0m\u001b[1;33m\u001b[0m\u001b[1;33m\u001b[0m\u001b[0m\n\u001b[0m\u001b[0;32m     66\u001b[0m         self.kernel.session.send(self.kernel.iopub_socket, msg_type,\n\u001b[0;32m     67\u001b[0m             \u001b[0mcontent\u001b[0m\u001b[1;33m,\u001b[0m\u001b[1;33m\u001b[0m\u001b[1;33m\u001b[0m\u001b[0m\n",
      "\u001b[1;32m~\\Anaconda3\\lib\\site-packages\\ipykernel\\jsonutil.py\u001b[0m in \u001b[0;36mjson_clean\u001b[1;34m(obj)\u001b[0m\n\u001b[0;32m    189\u001b[0m         \u001b[0mout\u001b[0m \u001b[1;33m=\u001b[0m \u001b[1;33m{\u001b[0m\u001b[1;33m}\u001b[0m\u001b[1;33m\u001b[0m\u001b[1;33m\u001b[0m\u001b[0m\n\u001b[0;32m    190\u001b[0m         \u001b[1;32mfor\u001b[0m \u001b[0mk\u001b[0m\u001b[1;33m,\u001b[0m\u001b[0mv\u001b[0m \u001b[1;32min\u001b[0m \u001b[0miteritems\u001b[0m\u001b[1;33m(\u001b[0m\u001b[0mobj\u001b[0m\u001b[1;33m)\u001b[0m\u001b[1;33m:\u001b[0m\u001b[1;33m\u001b[0m\u001b[1;33m\u001b[0m\u001b[0m\n\u001b[1;32m--> 191\u001b[1;33m             \u001b[0mout\u001b[0m\u001b[1;33m[\u001b[0m\u001b[0municode_type\u001b[0m\u001b[1;33m(\u001b[0m\u001b[0mk\u001b[0m\u001b[1;33m)\u001b[0m\u001b[1;33m]\u001b[0m \u001b[1;33m=\u001b[0m \u001b[0mjson_clean\u001b[0m\u001b[1;33m(\u001b[0m\u001b[0mv\u001b[0m\u001b[1;33m)\u001b[0m\u001b[1;33m\u001b[0m\u001b[1;33m\u001b[0m\u001b[0m\n\u001b[0m\u001b[0;32m    192\u001b[0m         \u001b[1;32mreturn\u001b[0m \u001b[0mout\u001b[0m\u001b[1;33m\u001b[0m\u001b[1;33m\u001b[0m\u001b[0m\n\u001b[0;32m    193\u001b[0m     \u001b[1;32mif\u001b[0m \u001b[0misinstance\u001b[0m\u001b[1;33m(\u001b[0m\u001b[0mobj\u001b[0m\u001b[1;33m,\u001b[0m \u001b[0mdatetime\u001b[0m\u001b[1;33m)\u001b[0m\u001b[1;33m:\u001b[0m\u001b[1;33m\u001b[0m\u001b[1;33m\u001b[0m\u001b[0m\n",
      "\u001b[1;32m~\\Anaconda3\\lib\\site-packages\\ipykernel\\jsonutil.py\u001b[0m in \u001b[0;36mjson_clean\u001b[1;34m(obj)\u001b[0m\n\u001b[0;32m    189\u001b[0m         \u001b[0mout\u001b[0m \u001b[1;33m=\u001b[0m \u001b[1;33m{\u001b[0m\u001b[1;33m}\u001b[0m\u001b[1;33m\u001b[0m\u001b[1;33m\u001b[0m\u001b[0m\n\u001b[0;32m    190\u001b[0m         \u001b[1;32mfor\u001b[0m \u001b[0mk\u001b[0m\u001b[1;33m,\u001b[0m\u001b[0mv\u001b[0m \u001b[1;32min\u001b[0m \u001b[0miteritems\u001b[0m\u001b[1;33m(\u001b[0m\u001b[0mobj\u001b[0m\u001b[1;33m)\u001b[0m\u001b[1;33m:\u001b[0m\u001b[1;33m\u001b[0m\u001b[1;33m\u001b[0m\u001b[0m\n\u001b[1;32m--> 191\u001b[1;33m             \u001b[0mout\u001b[0m\u001b[1;33m[\u001b[0m\u001b[0municode_type\u001b[0m\u001b[1;33m(\u001b[0m\u001b[0mk\u001b[0m\u001b[1;33m)\u001b[0m\u001b[1;33m]\u001b[0m \u001b[1;33m=\u001b[0m \u001b[0mjson_clean\u001b[0m\u001b[1;33m(\u001b[0m\u001b[0mv\u001b[0m\u001b[1;33m)\u001b[0m\u001b[1;33m\u001b[0m\u001b[1;33m\u001b[0m\u001b[0m\n\u001b[0m\u001b[0;32m    192\u001b[0m         \u001b[1;32mreturn\u001b[0m \u001b[0mout\u001b[0m\u001b[1;33m\u001b[0m\u001b[1;33m\u001b[0m\u001b[0m\n\u001b[0;32m    193\u001b[0m     \u001b[1;32mif\u001b[0m \u001b[0misinstance\u001b[0m\u001b[1;33m(\u001b[0m\u001b[0mobj\u001b[0m\u001b[1;33m,\u001b[0m \u001b[0mdatetime\u001b[0m\u001b[1;33m)\u001b[0m\u001b[1;33m:\u001b[0m\u001b[1;33m\u001b[0m\u001b[1;33m\u001b[0m\u001b[0m\n",
      "\u001b[1;32m~\\Anaconda3\\lib\\site-packages\\ipykernel\\jsonutil.py\u001b[0m in \u001b[0;36mjson_clean\u001b[1;34m(obj)\u001b[0m\n\u001b[0;32m    175\u001b[0m \u001b[1;33m\u001b[0m\u001b[0m\n\u001b[0;32m    176\u001b[0m     \u001b[1;32mif\u001b[0m \u001b[0misinstance\u001b[0m\u001b[1;33m(\u001b[0m\u001b[0mobj\u001b[0m\u001b[1;33m,\u001b[0m \u001b[0mlist\u001b[0m\u001b[1;33m)\u001b[0m\u001b[1;33m:\u001b[0m\u001b[1;33m\u001b[0m\u001b[1;33m\u001b[0m\u001b[0m\n\u001b[1;32m--> 177\u001b[1;33m         \u001b[1;32mreturn\u001b[0m \u001b[1;33m[\u001b[0m\u001b[0mjson_clean\u001b[0m\u001b[1;33m(\u001b[0m\u001b[0mx\u001b[0m\u001b[1;33m)\u001b[0m \u001b[1;32mfor\u001b[0m \u001b[0mx\u001b[0m \u001b[1;32min\u001b[0m \u001b[0mobj\u001b[0m\u001b[1;33m]\u001b[0m\u001b[1;33m\u001b[0m\u001b[1;33m\u001b[0m\u001b[0m\n\u001b[0m\u001b[0;32m    178\u001b[0m \u001b[1;33m\u001b[0m\u001b[0m\n\u001b[0;32m    179\u001b[0m     \u001b[1;32mif\u001b[0m \u001b[0misinstance\u001b[0m\u001b[1;33m(\u001b[0m\u001b[0mobj\u001b[0m\u001b[1;33m,\u001b[0m \u001b[0mdict\u001b[0m\u001b[1;33m)\u001b[0m\u001b[1;33m:\u001b[0m\u001b[1;33m\u001b[0m\u001b[1;33m\u001b[0m\u001b[0m\n",
      "\u001b[1;32m~\\Anaconda3\\lib\\site-packages\\ipykernel\\jsonutil.py\u001b[0m in \u001b[0;36m<listcomp>\u001b[1;34m(.0)\u001b[0m\n\u001b[0;32m    175\u001b[0m \u001b[1;33m\u001b[0m\u001b[0m\n\u001b[0;32m    176\u001b[0m     \u001b[1;32mif\u001b[0m \u001b[0misinstance\u001b[0m\u001b[1;33m(\u001b[0m\u001b[0mobj\u001b[0m\u001b[1;33m,\u001b[0m \u001b[0mlist\u001b[0m\u001b[1;33m)\u001b[0m\u001b[1;33m:\u001b[0m\u001b[1;33m\u001b[0m\u001b[1;33m\u001b[0m\u001b[0m\n\u001b[1;32m--> 177\u001b[1;33m         \u001b[1;32mreturn\u001b[0m \u001b[1;33m[\u001b[0m\u001b[0mjson_clean\u001b[0m\u001b[1;33m(\u001b[0m\u001b[0mx\u001b[0m\u001b[1;33m)\u001b[0m \u001b[1;32mfor\u001b[0m \u001b[0mx\u001b[0m \u001b[1;32min\u001b[0m \u001b[0mobj\u001b[0m\u001b[1;33m]\u001b[0m\u001b[1;33m\u001b[0m\u001b[1;33m\u001b[0m\u001b[0m\n\u001b[0m\u001b[0;32m    178\u001b[0m \u001b[1;33m\u001b[0m\u001b[0m\n\u001b[0;32m    179\u001b[0m     \u001b[1;32mif\u001b[0m \u001b[0misinstance\u001b[0m\u001b[1;33m(\u001b[0m\u001b[0mobj\u001b[0m\u001b[1;33m,\u001b[0m \u001b[0mdict\u001b[0m\u001b[1;33m)\u001b[0m\u001b[1;33m:\u001b[0m\u001b[1;33m\u001b[0m\u001b[1;33m\u001b[0m\u001b[0m\n",
      "\u001b[1;32m~\\Anaconda3\\lib\\site-packages\\ipykernel\\jsonutil.py\u001b[0m in \u001b[0;36mjson_clean\u001b[1;34m(obj)\u001b[0m\n\u001b[0;32m    189\u001b[0m         \u001b[0mout\u001b[0m \u001b[1;33m=\u001b[0m \u001b[1;33m{\u001b[0m\u001b[1;33m}\u001b[0m\u001b[1;33m\u001b[0m\u001b[1;33m\u001b[0m\u001b[0m\n\u001b[0;32m    190\u001b[0m         \u001b[1;32mfor\u001b[0m \u001b[0mk\u001b[0m\u001b[1;33m,\u001b[0m\u001b[0mv\u001b[0m \u001b[1;32min\u001b[0m \u001b[0miteritems\u001b[0m\u001b[1;33m(\u001b[0m\u001b[0mobj\u001b[0m\u001b[1;33m)\u001b[0m\u001b[1;33m:\u001b[0m\u001b[1;33m\u001b[0m\u001b[1;33m\u001b[0m\u001b[0m\n\u001b[1;32m--> 191\u001b[1;33m             \u001b[0mout\u001b[0m\u001b[1;33m[\u001b[0m\u001b[0municode_type\u001b[0m\u001b[1;33m(\u001b[0m\u001b[0mk\u001b[0m\u001b[1;33m)\u001b[0m\u001b[1;33m]\u001b[0m \u001b[1;33m=\u001b[0m \u001b[0mjson_clean\u001b[0m\u001b[1;33m(\u001b[0m\u001b[0mv\u001b[0m\u001b[1;33m)\u001b[0m\u001b[1;33m\u001b[0m\u001b[1;33m\u001b[0m\u001b[0m\n\u001b[0m\u001b[0;32m    192\u001b[0m         \u001b[1;32mreturn\u001b[0m \u001b[0mout\u001b[0m\u001b[1;33m\u001b[0m\u001b[1;33m\u001b[0m\u001b[0m\n\u001b[0;32m    193\u001b[0m     \u001b[1;32mif\u001b[0m \u001b[0misinstance\u001b[0m\u001b[1;33m(\u001b[0m\u001b[0mobj\u001b[0m\u001b[1;33m,\u001b[0m \u001b[0mdatetime\u001b[0m\u001b[1;33m)\u001b[0m\u001b[1;33m:\u001b[0m\u001b[1;33m\u001b[0m\u001b[1;33m\u001b[0m\u001b[0m\n",
      "\u001b[1;32m~\\Anaconda3\\lib\\site-packages\\ipykernel\\jsonutil.py\u001b[0m in \u001b[0;36mjson_clean\u001b[1;34m(obj)\u001b[0m\n\u001b[0;32m    146\u001b[0m         \u001b[1;32mreturn\u001b[0m \u001b[0mint\u001b[0m\u001b[1;33m(\u001b[0m\u001b[0mobj\u001b[0m\u001b[1;33m)\u001b[0m\u001b[1;33m\u001b[0m\u001b[1;33m\u001b[0m\u001b[0m\n\u001b[0;32m    147\u001b[0m \u001b[1;33m\u001b[0m\u001b[0m\n\u001b[1;32m--> 148\u001b[1;33m     \u001b[1;32mif\u001b[0m \u001b[0misinstance\u001b[0m\u001b[1;33m(\u001b[0m\u001b[0mobj\u001b[0m\u001b[1;33m,\u001b[0m \u001b[0mnumbers\u001b[0m\u001b[1;33m.\u001b[0m\u001b[0mReal\u001b[0m\u001b[1;33m)\u001b[0m\u001b[1;33m:\u001b[0m\u001b[1;33m\u001b[0m\u001b[1;33m\u001b[0m\u001b[0m\n\u001b[0m\u001b[0;32m    149\u001b[0m         \u001b[1;31m# cast out-of-range floats to their reprs\u001b[0m\u001b[1;33m\u001b[0m\u001b[1;33m\u001b[0m\u001b[1;33m\u001b[0m\u001b[0m\n\u001b[0;32m    150\u001b[0m         \u001b[1;32mif\u001b[0m \u001b[0mmath\u001b[0m\u001b[1;33m.\u001b[0m\u001b[0misnan\u001b[0m\u001b[1;33m(\u001b[0m\u001b[0mobj\u001b[0m\u001b[1;33m)\u001b[0m \u001b[1;32mor\u001b[0m \u001b[0mmath\u001b[0m\u001b[1;33m.\u001b[0m\u001b[0misinf\u001b[0m\u001b[1;33m(\u001b[0m\u001b[0mobj\u001b[0m\u001b[1;33m)\u001b[0m\u001b[1;33m:\u001b[0m\u001b[1;33m\u001b[0m\u001b[1;33m\u001b[0m\u001b[0m\n",
      "\u001b[1;31mKeyboardInterrupt\u001b[0m: "
     ]
    }
   ],
   "source": [
    "# Dépendances\n",
    "from ipycanvas import Canvas, hold_canvas\n",
    "from math import pi\n",
    "from time import sleep\n",
    "from random import randint\n",
    "\n",
    "# Définition d'une scène avec un fond noir\n",
    "# Création d'un canvas pour la scène\n",
    "s = Canvas(width=980, height=400)\n",
    "# Une fonction pour effacer la scène et redessiner un background\n",
    "def background(couleur : str = 'black') :\n",
    "    '''\n",
    "    Rafraichit la scène avec un fond de la couleur\n",
    "    'couleur' passée en paramètre et fixée sur `black` par défaut\n",
    "    Préconditions :\n",
    "    - couleur (str) : une chaine de caractères définissant une couleur HTML valide\n",
    "    '''    \n",
    "    s.clear()\n",
    "    s.fill_style = couleur\n",
    "    s.fill_rect(0, 0, s.width, s.height)\n",
    "\n",
    "    \n",
    "# Définition d'une classe Flocon\n",
    "class Flocon : # définition de la classe Flocon\n",
    "    \n",
    "    # Constructeur\n",
    "    def __init__(self) :\n",
    "        '''\n",
    "        Construit un flocon avec une abscisse,\n",
    "        une ordonnée et un diamètre définis aléatoirement\n",
    "        '''\n",
    "        self.abscisse = randint(0, s.width)\n",
    "        self.ordonnee = randint(0, s.height)\n",
    "        self.diametre = randint(2, 8)\n",
    "        \n",
    "    # Méthode pour modifier, faire évoluer\n",
    "    def evolue(self) : \n",
    "        '''\n",
    "        Modifie les valeurs des attributs du flocon\n",
    "        pour qu'il évolue en position et en diamètre\n",
    "        selon des règles définies pour sa chute\n",
    "        \n",
    "        '''\n",
    "        self.ordonnee += self.diametre/2 # ordonnée incrément propotionnel au diamètre\n",
    "        self.abscisse += randint(-1,1)/2 # oscillation sur l'abscisse\n",
    "                \n",
    "        if self.ordonnee >= s.height :# réinitialisation des valeurs si arrivé en bas\n",
    "                    self.ordonnee = 0 # ordonnée\n",
    "                    self.abscisse = randint(0, s.width) # abscisse\n",
    "                    self.diametre = randint(2, 8) # diamètre\n",
    "        \n",
    "    # Méthode pour accéder    \n",
    "    def dessine(self, taux : float = 50) :\n",
    "        '''\n",
    "        Affiche un flocon avec un effet de flou en superposant\n",
    "        des disques de diamètre de plus en plus petit\n",
    "        centrés sur le point de coordonnées (x, y) et au diamètre\n",
    "        correspondants aux valeurs de ses attributs\n",
    "        et avec le niveau de transparence  'taux' en pourcentage de 0 à 100%\n",
    "        réglé par défaut sur 50%\n",
    "        '''\n",
    "        s.fill_style = f'rgba(255, 250, 250, {taux/100})'\n",
    "        for n in range(6) :\n",
    "            s.fill_arc(self.abscisse, self.ordonnee, self.diametre/2 - n * 1/6*self.diametre/2, 0, 2*pi)\n",
    "\n",
    "# Une fonction pour générer un tableau de flocons\n",
    "def initialisation(nb_flocons : int) -> list :\n",
    "    '''\n",
    "    Prend en paramètre le nombre de flocons à placer sur la scène\n",
    "    et renvoie un tableau constitué des `nb_flocons` instances de `Flocons`.\n",
    "    '''\n",
    "    return [Flocon() for n in range(nb_flocons)]\n",
    "\n",
    "# Une fonction pour générer une animation simulant une chute de neige\n",
    "def chute(tableau : list, time_lapse : float) :\n",
    "    '''\n",
    "    Simule une chute de neige avec un laps de temps `time_lapse` réglable entre l'affichage de deux images successives\n",
    "    avec en paramètre un tableau constitué des `nb_flocons` instances de `Flocons`\n",
    "    '''\n",
    "    while True :\n",
    "        with hold_canvas(s) :\n",
    "            background()\n",
    "            for k in range(len(tableau)) :\n",
    "                tableau[k].evolue()\n",
    "                tableau[k].dessine()\n",
    "        sleep(time_lapse)\n",
    "        \n",
    "# Tests pour l'affichage finale d'une chute de neige\n",
    "if __name__ == '__main__':\n",
    "    display(s)\n",
    "    mes_flocons = initialisation(150)    \n",
    "    chute(mes_flocons, 0.005)"
   ]
  },
  {
   "cell_type": "code",
   "execution_count": null,
   "metadata": {},
   "outputs": [],
   "source": []
  },
  {
   "cell_type": "markdown",
   "metadata": {},
   "source": [
    " TO DO :\n",
    " \n",
    "Effets accélération, résistance de l'air, vent... \n",
    " \n",
    "...\n",
    "\n",
    "\n",
    "Ajouter une image de fond\n",
    " \n",
    " \n",
    "Il neige dans ma rue https://pictalink.blogspot.com/2017/12/programmation-orientee-objets-dans.html\n",
    " \n",
    " \n",
    "Faire un gif https://note.nkmk.me/en/python-pillow-gif/\n",
    " \n",
    " \n",
    "Et maintenant il pleut https://pictalink.blogspot.com/2017/12/boucle-et-programmation-orientee-objets.html\n",
    "\n",
    "\n"
   ]
  },
  {
   "cell_type": "markdown",
   "metadata": {},
   "source": [
    "## Ressources :\n",
    "\n",
    "- Martin RENOU : https://note.nkmk.me/en/python-pillow-gif/\n",
    "\n",
    "- Dans mon Glitch https://glitch.com/edit/#!/neige?path=flocon.js%3A1%3A0\n",
    "\n",
    "- https://www.openprocessing.org/sketch/86630\n",
    "\n",
    "- http://blog.ezoqc.com/diy-4-cest-noel/\n",
    "\n",
    "Un blog plein de tutoriels très intéressants :\n",
    "- Neige : https://pictalink.blogspot.com/2017/12/programmation-orientee-objets-dans.html\n",
    "- Pluie : https://pictalink.blogspot.com/2017/12/boucle-et-programmation-orientee-objets.html\n",
    "- Gif :  "
   ]
  }
 ],
 "metadata": {
  "kernelspec": {
   "display_name": "Python 3",
   "language": "python",
   "name": "python3"
  },
  "language_info": {
   "codemirror_mode": {
    "name": "ipython",
    "version": 3
   },
   "file_extension": ".py",
   "mimetype": "text/x-python",
   "name": "python",
   "nbconvert_exporter": "python",
   "pygments_lexer": "ipython3",
   "version": "3.7.3"
  },
  "toc": {
   "base_numbering": 1,
   "nav_menu": {},
   "number_sections": true,
   "sideBar": true,
   "skip_h1_title": false,
   "title_cell": "Table of Contents",
   "title_sidebar": "Contents",
   "toc_cell": false,
   "toc_position": {},
   "toc_section_display": true,
   "toc_window_display": false
  },
  "varInspector": {
   "cols": {
    "lenName": 16,
    "lenType": 16,
    "lenVar": 40
   },
   "kernels_config": {
    "python": {
     "delete_cmd_postfix": "",
     "delete_cmd_prefix": "del ",
     "library": "var_list.py",
     "varRefreshCmd": "print(var_dic_list())"
    },
    "r": {
     "delete_cmd_postfix": ") ",
     "delete_cmd_prefix": "rm(",
     "library": "var_list.r",
     "varRefreshCmd": "cat(var_dic_list()) "
    }
   },
   "types_to_exclude": [
    "module",
    "function",
    "builtin_function_or_method",
    "instance",
    "_Feature"
   ],
   "window_display": false
  }
 },
 "nbformat": 4,
 "nbformat_minor": 4
}
