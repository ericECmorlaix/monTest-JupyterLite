{
 "cells": [
  {
   "cell_type": "markdown",
   "metadata": {
    "slideshow": {
     "slide_type": "slide"
    }
   },
   "source": [
    "# Outils pour l'analyse fonctionnelle technique"
   ]
  },
  {
   "cell_type": "markdown",
   "metadata": {},
   "source": [
    "La description fonctionnelle est une démarche qui s’applique à la création ou à l’amélioration d’un produit. Dans cette démarche, si l’analyse fonctionnelle du besoin, vu précédemment, correspond au point de vue du **\"Client\"**, l'analyse fonctionnelle technique correspond au point de vu du **\"Concepteur\"**.\n",
    "\n",
    "<img src=\"https://ericecmorlaix.github.io/img/ProcessusProjet.png\" alt=\"FAST questions de principe\" width=50%>\n",
    "\n",
    "Dans un processus d'ingénierie système, la recherche de solutions techniques, phase d'idéation, débute après la définition du cahier des charge.\n",
    "\n",
    "Alors, pour représenter l'organisation matérielle et structurelle d'un système un ingénieur dispose de plusieurs outils graphiques ou diagrammes d’analyse..."
   ]
  },
  {
   "cell_type": "markdown",
   "metadata": {},
   "source": [
    "## Le diagramme FAST :\n",
    "\n",
    "Pour décrire l’architecture fonctionnelle et organique d’un système on peut utiliser la méthode [FAST](https://fr.wikipedia.org/wiki/Function_analysis_system_technique) (Function Analysis System Technic ou « Technique d’analyse fonctionnelle des systèmes »).\n",
    "\n",
    "Cette méthode permet de visualiser dans un graphe l’articulation des Fonctions Techniques internes du produit. Chaque fonction se situe par rapport à ses voisines en posant les questions indiquées sur le principe ci-dessous.\n",
    "\n",
    "<img src=\"https://ericecmorlaix.github.io/img/FAST_Questions.svg\" alt=\"FAST questions de principe\" >\n",
    "\n",
    "- Comment cela est-il fait ? (accès à une fonction technique d’ordre inférieur, décomposition)\n",
    "\n",
    "- Pourquoi cela est-il fait ? (accès à une fonction technique d’ordre supérieur, reconstruction)\n",
    "\n",
    "- Quand cela est-il utilisé ? (recherche des simultanéités)\n",
    "\n",
    "<img src=\"https://ericecmorlaix.github.io/img/FAST-Divergence.svg\" alt=\"FAST divergence en OU\" >\n",
    "\n",
    "### Remarque : \n",
    "Cet outil d’analyse fonctionnelle permet la description d’un système existant (divergence en ET uniquement = FAST de description) mais convient aussi très bien pour la recherche et la présentation de plusieurs voies de solutions lors de la conception d’un nouveau système en utilisant des divergences en OU ( = FAST de créativité)."
   ]
  },
  {
   "cell_type": "markdown",
   "metadata": {},
   "source": [
    "## SysML :\n",
    "\n",
    "Le Langage de Modélisation Unifié, de l'anglais Unified Modeling Language (**UML**), est un langage de modélisation graphique à base de pictogrammes conçu pour fournir une méthode normalisée pour visualiser la conception d'un projet informatique. Il est couramment utilisé en développement logiciel et en programmation orientée objet.\n",
    "\n",
    "**SysML** (System Modeling Language) est un dérivé d'**UML**, simplifié et adapté à l'ingénierie des systèmes.\n",
    "\n",
    "La complexité des systèmes techniques est telle que, sans outils de représentations abstraites et progressivement enrichies, les intervenants d’un projet auraient de nombreuses difficultés à se comprendre et à partager les tâches.\n",
    " \n",
    "**SysML** s'articule autour de 9 diagrammes dédiés à la représentation de concepts particuliers d'un système.\n",
    "<a href=\"https://commons.wikimedia.org/wiki/File:Sysml_diagrams_collage.jpg#/media/Fichier:Sysml_diagrams_collage.jpg\"><img src=\"https://upload.wikimedia.org/wikipedia/commons/1/11/Sysml_diagrams_collage.jpg\" alt=\"Sysml diagrams collage.jpg\" width=60%></a>\n",
    "\n",
    "Deux de ces diagrammes permettent la description de la structure matérielle d'un système (de quoi le système est fait) :\n",
    "\n",
    "- Le diagramme de définition de blocs (BDD) :\n",
    "\n",
    "Le diagramme BDD, pour Block Definition Diagram en anglais, représente la vue boîte noire d'un bloc. Ainsi le bloc principal et la hiérarchie des blocs qui le composent, qu'ils soient logiciels ou matériels, sont spécifiés dans ce diagramme.\n",
    "\n",
    "Le BDD est similaire à la première page d'une notice de montage d'un meuble, indiquant la liste des\n",
    "éléments et des pièces à assembler avec leurs quantités respectives.\n",
    "Il répertorie les constituants du système ou d'un bloc en précisant éventuellement leur rôle et leur\n",
    "quantité. Chaque bloc peut faire l'objet d'une description plus précise en indiquant ses constituants, ses propriétés, les opérations qu'il peut effectuer ainsi que les contraintes ou limites auxquelles il est soumis.\n",
    "\n",
    "<a href=\"SysML-BDD.pdf\"><img src=\"https://ericecmorlaix.github.io/img/SysML-BDD.png\" alt=\"SysML-BDD\" width=80%></a>\n",
    "\n",
    "\n",
    "\n",
    "- Le diagramme de block interne (IBD) :\n",
    "Le diagramme IBD, pour Internal Block Diagram, décrit la vue interne d'un bloc ou vue boîte blanche, et se base sur le BDD pour assembler les blocs qui composent le bloc principal.\n",
    "Il représente les liens, les flux et les informations échangées entre les parties d'un bloc ou du système.\n",
    "Le cadre du diagramme représente le bloc lui même ou le système.\n",
    "Le bloc principal peut être représenté comme conteneur sur l'IBD ou être absent de ce diagramme.\n",
    "Les blocs qui le composent, définis dans le BDD, sont instanciés en parties. Ces parties sont assemblées par des connecteurs qui relient leurs ports (ports standards avec interfaces exposées et/ou ports de flux).\n",
    "Il est également possible de relier des parties directement entre elles, l'utilisation des ports étant optionnelle.\n",
    "\n",
    "<a href=\"SysML-IBD.pdf\"><img src=\"https://ericecmorlaix.github.io/img/SysML-IBD.png\" alt=\"SysML-IBD\" width=80%></a>\n",
    "\n"
   ]
  },
  {
   "cell_type": "markdown",
   "metadata": {},
   "source": [
    "## L'approche systémique : \n",
    "\n",
    "L’étude globale des systèmes telle qu'abordée au collège conduit à distinguer 2 entités :\n",
    "- la chaîne d’**information** (qui transfère, stocke, transforme l’information) ;\n",
    "- la chaîne d’**énergie** (préférer de **puissance**) (qui transforme l’énergie et permet d’agir sur le système physique)\n",
    "\n",
    "Ces chaines interagissent, échangent des flux, entre elles et avec l’environnement du système.\n",
    "\n",
    "<img src=\"https://ericecmorlaix.github.io/img/AnalyseSystemique-Globale2.svg\" alt=\"Analyse Systemique Globale\" >\n",
    "\n",
    "On représente, comme ci-dessous, chaque chaîne par un schéma composé de blocs fonctionnels successifs correspondants aux fonctions techniques principales. C’est un schéma de principe qui devra être adapté au système étudié.\n",
    "\n",
    "<img src=\"https://ericecmorlaix.github.io/img/AnalyseSystemique-Globale3.svg\" alt=\"FAST questions de principe\">\n",
    "\n",
    "Une analyse plus approfondie de ces 2 chaînes nous conduit à distinguer les différents constituants (solutions techniques) qui réalisent les fonctions internes;\n",
    "\n",
    "- pour la chaîne de puissance :\n",
    "\n",
    "<img src=\"https://ericecmorlaix.github.io/img/AnalyseSystemePuissance.png\" alt=\"FAST questions de principe\" width=80%>\n",
    "\n",
    "- pour la chaîne d’information :\n",
    "\n",
    "<img src=\"https://ericecmorlaix.github.io/img/AnalyseSystemeInformation.png\" alt=\"FAST questions de principe\" width=80%>\n",
    "\n",
    "### Ressources :"
   ]
  },
  {
   "cell_type": "code",
   "execution_count": 3,
   "metadata": {},
   "outputs": [
    {
     "data": {
      "text/html": [
       "<center><iframe width=\"560\" height=\"315\" src=\"https://www.youtube.com/embed/wtE4j0b_sDg\" frameborder=\"0\" allow=\"accelerometer; autoplay; encrypted-media; gyroscope; picture-in-picture\" allowfullscreen></iframe></center>\n",
       "<center><iframe width=\"560\" height=\"315\" src=\"https://www.youtube.com/embed/zs1X6mhdxuA\" frameborder=\"0\" allow=\"accelerometer; autoplay; encrypted-media; gyroscope; picture-in-picture\" allowfullscreen></iframe></center>"
      ],
      "text/plain": [
       "<IPython.core.display.HTML object>"
      ]
     },
     "metadata": {},
     "output_type": "display_data"
    }
   ],
   "source": [
    "%%HTML\n",
    "<center><iframe width=\"560\" height=\"315\" src=\"https://www.youtube.com/embed/wtE4j0b_sDg\" frameborder=\"0\" allow=\"accelerometer; autoplay; encrypted-media; gyroscope; picture-in-picture\" allowfullscreen></iframe></center>\n",
    "<center><iframe width=\"560\" height=\"315\" src=\"https://www.youtube.com/embed/zs1X6mhdxuA\" frameborder=\"0\" allow=\"accelerometer; autoplay; encrypted-media; gyroscope; picture-in-picture\" allowfullscreen></iframe></center>"
   ]
  },
  {
   "cell_type": "markdown",
   "metadata": {},
   "source": [
    "### Activités :\n",
    "\n",
    "1. Regarder la suite de la vidéo [BouilloireElectriqueSysMl.mp4](BouilloireElectriqueSysMl.mp4) jusqu'au diagramme de séquence (sd).\n",
    "\n",
    "1. A partir de la lecture du diagramme des blocs internes de la bouilloire réaliser sur drawio un dessin présentant les chaines d'information et de puissance pour ce système puis l'insérer dans la cellule ci-dessous :"
   ]
  },
  {
   "cell_type": "markdown",
   "metadata": {},
   "source": [
    "<img src=\"https://ericecmorlaix.github.io/img/SysML-IBD_Bouilloire.png\" alt=\"FAST questions de principe\" width=70%><br>\n",
    "<img src=\"https://ericecmorlaix.github.io/img/AnalyseSystemique-Bouilloire.svg\" alt=\"FAST questions de principe\" width=80%>"
   ]
  },
  {
   "cell_type": "markdown",
   "metadata": {},
   "source": [
    "## Ressources :\n",
    "- https://fr.wikipedia.org/wiki/Systems_Modeling_Language\n",
    "- https://sysml.org/\n",
    "- http://www.siloged.fr/cours/STI2D_sysml/index.html\n",
    "- https://uml.developpez.com/cours/Modelisation-SysML/\n",
    "- http://jpcad64.free.fr/Pedalite/\n",
    "\n",
    "\n",
    "### Logiciels d'édition :\n",
    "- https://about.draw.io/\n",
    "- https://www.websequencediagrams.com/\n",
    "- https://www.nomagic.com/products/magicdraw"
   ]
  },
  {
   "cell_type": "markdown",
   "metadata": {},
   "source": [
    "## Références au programme :\n",
    "\n",
    "<style type=\"text/css\">\n",
    ".tg  {border-collapse:collapse;border-spacing:0;}\n",
    ".tg td{font-family:Arial, sans-serif;font-size:14px;padding:10px 5px;border-style:solid;border-width:1px;overflow:hidden;word-break:normal;border-color:black;}\n",
    ".tg th{font-family:Arial, sans-serif;font-size:14px;font-weight:normal;padding:10px 5px;border-style:solid;border-width:1px;overflow:hidden;word-break:normal;border-color:black;}\n",
    ".tg .tg-cv16{font-weight:bold;background-color:#dae8fc;border-color:inherit;text-align:center}\n",
    ".tg .tg-xldj{border-color:inherit;text-align:left}\n",
    "</style>\n",
    "<table class=\"tg\">\n",
    "  <tr>\n",
    "    <th class=\"tg-cv16\">Compétences développées</th>\n",
    "    <th class=\"tg-cv16\">Connaissances associées</th>\n",
    "    <th class=\"tg-cv16\">Contexte</th>\n",
    "  </tr>\n",
    "  <tr>\n",
    "    <td class=\"tg-xldj\">Analyser le besoin, l’organisation matérielle et fonctionnelle d’un produit par une démarche  d’ingénierie système</td>\n",
    "    <td class=\"tg-xldj\">Outils d’ingénierie-système : diagrammes fonctionnels, définition des exigences et des \n",
    "critères associés, cas d’utilisations, analyse structurelle</td>\n",
    "    <td class=\"tg-xldj\">L’outil d’ingénierie système actuellement proposé est le SysML. L’enseignement des outils\n",
    "de description de type SysML n’est pas une finalité et doit se limiter aux bases strictement\n",
    "nécessaires.</td>\n",
    "  </tr>\n",
    "</table>"
   ]
  },
  {
   "cell_type": "markdown",
   "metadata": {
    "slideshow": {
     "slide_type": "-"
    }
   },
   "source": [
    "<a rel=\"license\" href=\"http://creativecommons.org/licenses/by-sa/4.0/\"><img alt=\"Licence Creative Commons\" style=\"border-width:0\" src=\"https://i.creativecommons.org/l/by-sa/4.0/88x31.png\" /></a><br />Ce document est mis à disposition selon les termes de la <a rel=\"license\" href=\"http://creativecommons.org/licenses/by-sa/4.0/\">Licence Creative Commons Attribution -  Partage dans les Mêmes Conditions 4.0 International</a>.\n",
    "\n",
    "Pour toute question, suggestion ou commentaire : <a href=\"mailto:eric.madec@ecmorlaix.fr\">eric.madec@ecmorlaix.fr</a>"
   ]
  }
 ],
 "metadata": {
  "hide_input": false,
  "kernelspec": {
   "display_name": "Python 3",
   "language": "python",
   "name": "python3"
  },
  "language_info": {
   "codemirror_mode": {
    "name": "ipython",
    "version": 3
   },
   "file_extension": ".py",
   "mimetype": "text/x-python",
   "name": "python",
   "nbconvert_exporter": "python",
   "pygments_lexer": "ipython3",
   "version": "3.7.3"
  },
  "toc": {
   "base_numbering": 1,
   "nav_menu": {},
   "number_sections": true,
   "sideBar": true,
   "skip_h1_title": false,
   "title_cell": "Table of Contents",
   "title_sidebar": "Contents",
   "toc_cell": false,
   "toc_position": {},
   "toc_section_display": true,
   "toc_window_display": false
  },
  "varInspector": {
   "cols": {
    "lenName": 16,
    "lenType": 16,
    "lenVar": 40
   },
   "kernels_config": {
    "python": {
     "delete_cmd_postfix": "",
     "delete_cmd_prefix": "del ",
     "library": "var_list.py",
     "varRefreshCmd": "print(var_dic_list())"
    },
    "r": {
     "delete_cmd_postfix": ") ",
     "delete_cmd_prefix": "rm(",
     "library": "var_list.r",
     "varRefreshCmd": "cat(var_dic_list()) "
    }
   },
   "types_to_exclude": [
    "module",
    "function",
    "builtin_function_or_method",
    "instance",
    "_Feature"
   ],
   "window_display": false
  }
 },
 "nbformat": 4,
 "nbformat_minor": 2
}
