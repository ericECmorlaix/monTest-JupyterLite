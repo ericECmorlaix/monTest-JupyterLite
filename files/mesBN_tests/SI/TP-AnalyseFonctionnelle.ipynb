{
 "cells": [
  {
   "cell_type": "markdown",
   "metadata": {},
   "source": [
    "## Problématique sociétale : \n",
    "\n",
    "Dans un contexte de concurrence exacerbée, vous devez convaincre de futurs partenaires potentiels de rejoindre le développement de votre produit. \n",
    "\n",
    "\n",
    "## Références au programme :\n",
    "\n",
    "### Analyser les produits existants pour appréhender leur complexité :\n",
    "\n",
    "<style type=\"text/css\">\n",
    ".tg  {border-collapse:collapse;border-spacing:0;}\n",
    ".tg td{font-family:Arial, sans-serif;font-size:14px;padding:10px 5px;border-style:solid;border-width:1px;overflow:hidden;word-break:normal;border-color:black;}\n",
    ".tg th{font-family:Arial, sans-serif;font-size:14px;font-weight:normal;padding:10px 5px;border-style:solid;border-width:1px;overflow:hidden;word-break:normal;border-color:black;}\n",
    ".tg .tg-cv16{font-weight:bold;background-color:#dae8fc;border-color:inherit;text-align:center}\n",
    ".tg .tg-xldj{border-color:inherit;text-align:left}\n",
    "</style>\n",
    "<table class=\"tg\">\n",
    "  <tr>\n",
    "    <th class=\"tg-cv16\">Compétences développées</th>\n",
    "    <th class=\"tg-cv16\">Connaissances associées</th>    \n",
    "  </tr>\n",
    "  <tr>\n",
    "    <td class=\"tg-xldj\">Analyser le besoin, l’organisation matérielle et fonctionnelle d’un produit par une démarche  d’ingénierie système</td>\n",
    "    <td class=\"tg-xldj\">Outils d’ingénierie-système : diagrammes fonctionnels, définition des exigences et des \n",
    "critères associés, cas d’utilisations, analyse structurelle</td>\n",
    "  </tr>\n",
    "</table>\n",
    "\n",
    "\n",
    "### S’informer, choisir, produire de l’information pour communiquer :\n",
    "\n",
    "<table class=\"tg\">\n",
    "  <tr>\n",
    "    <th class=\"tg-cv16\">Compétences développées</th>\n",
    "    <th class=\"tg-cv16\">Connaissances associées</th>    \n",
    "  </tr>\n",
    "  <tr>\n",
    "    <td class=\"tg-xldj\">Travailler de manière collaborative<br>Collaborer en direct ou sur une plateforme, via un espace de fichiers partagés</td>\n",
    "    <td class=\"tg-xldj\">Espaces partagés et de stockage, ENT</td>\n",
    "  </tr>\n",
    "  <tr>\n",
    "    <td class=\"tg-xldj\">Adapter sa communication au public visé et sélectionner les informations à transmettre ; Scénariser un document suivant le public visé</td>\n",
    "    <td class=\"tg-xldj\">Média, outils multimédia, outils bureautiques, carte mentale, diagramme de l'ingénierie système, schéma, croquis, prototype.</td>  \n",
    "  </tr>\n",
    "</table>\n",
    "\n",
    " \n",
    "\n",
    "## Travail demandé : \n",
    "\n",
    "En équipe, pour le système étudié, vous devez préparer un support numérique de présentation comprenant :\n",
    "- une mise en situation du système dans le contexte de son fonctionnement normal ;\n",
    "- la description du besoin auquel il répond au moyen d’un diagramme des cas d'utilisation  ;\n",
    "- la caractérisation d’au moins une fonction significative du produit à partir du diagramme des exigences ;\n",
    "- la mise en évidence des flux d’énergie et d’information qui traversent les principaux blocs stucturels constituants du système... \n",
    "\n",
    "A l’issue vous rendrez compte lors d’un exposé oral de 5 minutes devant la classe entière en vous appuyant sur votre document de présentation et une mise en œuvre de démonstration du fonctionnement du système. Puis vous répondrez aux questions de l’assistance durant 5 minutes. \n",
    "\n",
    " "
   ]
  }
 ],
 "metadata": {
  "_draft": {
   "nbviewer_url": "https://gist.github.com/2c3cb1b9567640cf1ac7f4d0df306099"
  },
  "gist": {
   "data": {
    "description": "",
    "public": true
   },
   "id": "2c3cb1b9567640cf1ac7f4d0df306099"
  },
  "kernelspec": {
   "display_name": "Python 3",
   "language": "python",
   "name": "python3"
  },
  "language_info": {
   "codemirror_mode": {
    "name": "ipython",
    "version": 3
   },
   "file_extension": ".py",
   "mimetype": "text/x-python",
   "name": "python",
   "nbconvert_exporter": "python",
   "pygments_lexer": "ipython3",
   "version": "3.7.3"
  },
  "toc": {
   "base_numbering": 1,
   "nav_menu": {},
   "number_sections": true,
   "sideBar": true,
   "skip_h1_title": false,
   "title_cell": "Table of Contents",
   "title_sidebar": "Contents",
   "toc_cell": false,
   "toc_position": {},
   "toc_section_display": true,
   "toc_window_display": false
  },
  "varInspector": {
   "cols": {
    "lenName": 16,
    "lenType": 16,
    "lenVar": 40
   },
   "kernels_config": {
    "python": {
     "delete_cmd_postfix": "",
     "delete_cmd_prefix": "del ",
     "library": "var_list.py",
     "varRefreshCmd": "print(var_dic_list())"
    },
    "r": {
     "delete_cmd_postfix": ") ",
     "delete_cmd_prefix": "rm(",
     "library": "var_list.r",
     "varRefreshCmd": "cat(var_dic_list()) "
    }
   },
   "types_to_exclude": [
    "module",
    "function",
    "builtin_function_or_method",
    "instance",
    "_Feature"
   ],
   "window_display": false
  }
 },
 "nbformat": 4,
 "nbformat_minor": 2
}
