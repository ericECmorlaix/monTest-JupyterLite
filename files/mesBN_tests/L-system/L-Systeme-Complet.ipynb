{
 "cells": [
  {
   "cell_type": "markdown",
   "metadata": {},
   "source": [
    "# Les L-Systemes ou comment dessiner des plantes.\n",
    "\n",
    "\n",
    "## Objectif :\n",
    "\n",
    "Développer un programme qui génère l'image d'un arbuste tel que ci-contre :\n",
    "<img src=\"https://ericecmorlaix.github.io/img/L-Systeme-arbre5.png\" alt=\"L-Systeme-arbre.png\" width = 70%>\n",
    "\n",
    "\n",
    "\n",
    "## Les équations des plantes selon Lindenmayer\n",
    "\n",
    "- Prendre connaissance de l’article sur [la modélisation de la croissance des plantes](res_L-systemes.pdf) (ou [ici](http://accromath.uqam.ca/2013/09/l-systemes-les-equations-des-plantes/))\n",
    "\n",
    "## Le système de réécriture\n",
    "\n",
    "Le système présenté dans l’article est basé sur la réécriture d’une chaîne de caractères en remplaçant certains symboles de base, B et F dans l’exemple, par une chaîne plus longue.\n",
    "\n",
    "Les symboles pour lesquels il n’y a pas de règle sont inchangés.\n",
    "\n",
    "Lorsqu’on transforme un mot en utilisant les règles on dit qu’on calcule une dérivation de ce mot.\n",
    "\n",
    "On considère les règles suivantes définies par un dictionnaire Python tel que :\n",
    "\n",
    "```python\n",
    "regles ={‘A’ : ‘A+B+’ ,‘B’: ‘-A-B’ }\n",
    "```\n",
    "\n",
    "> Pour bien comprendre les dictionnaires : [Structures de données : les dictionnaires](https://pixees.fr/informatiquelycee/n_site/nsi_term_structDo_dico.html), [Python : les dictionnaires](https://pixees.fr/informatiquelycee/n_site/nsi_prem_dico.html)\n",
    "\n",
    "- Calculer le mot obtenu à partir du mot initial ‘A’ après 3 dérivations.\n",
    "\n",
    "n=0 A\n",
    "n=1 A+B+\n",
    "n=2 A+B++-A-B+\n",
    "n=3 A+B++-A-B++-A+B+--A-B+\n",
    "\n",
    "A+B++-A-B++-A+B+--A-B+\n",
    "\n",
    "## Une croissance récursive\n",
    "\n",
    "Écrire une fonction récursive `deriver(mot : str, n : int, regles : dict)-> str`. Cette fonction doit renvoyer le mot obtenu après n dérivations du mot initial passé en argument."
   ]
  },
  {
   "cell_type": "code",
   "execution_count": 1,
   "metadata": {},
   "outputs": [
    {
     "name": "stdout",
     "output_type": "stream",
     "text": [
      "A+B++-A-B++-A+B+--A-B+\n"
     ]
    }
   ],
   "source": [
    "# Solution proposée par des élèves\n",
    "def deriver(mot : str, n : int, regles : dict) -> str :\n",
    "    '''\n",
    "    Renvoie le mot obtenu après 'n' dérivations du 'mot' passé en argument\n",
    "    en utilisant des règles données dans le dictionnaire 'regles'.\n",
    "        \n",
    "    Exemple :\n",
    "    >>> regles = { 'A' : 'A+B+' , 'B' : '-A-B' }\n",
    "    >>> deriver('A', 3, regles)\n",
    "    A+B++-A-B++-A+B+--A-B+\n",
    "    \n",
    "    Préconditions :\n",
    "    - mot (str) chaine de caratères définissant le mot initial\n",
    "    - n (int) nombre de dérivation\n",
    "    - regles (dict) dictionnaire \n",
    "    \n",
    "    Postcondition :\n",
    "    Chaine de caractères résultante des n dérivations    \n",
    "    '''\n",
    "    if n == 0 : return mot   # cas trivial\n",
    "        \n",
    "    derivation = \"\" # initialisation du résultat\n",
    "    for i in range(len(mot)) :\n",
    "        if mot[i] in regles :\n",
    "            derivation += regles[mot[i]]\n",
    "        else :\n",
    "            derivation += mot[i]\n",
    "    return deriver(derivation, n-1, regles)\n",
    "\n",
    "# test\n",
    "if __name__ == '__main__':\n",
    "    \n",
    "    regles = { 'A' : 'A+B+' , 'B' : '-A-B' }\n",
    "        \n",
    "    print(deriver('A', 3, regles))    "
   ]
  },
  {
   "cell_type": "code",
   "execution_count": null,
   "metadata": {},
   "outputs": [],
   "source": [
    "# Autre solution proposée par Martin CANALS\n",
    "def deriver(mot : str, n : int, regles : dict) -> str :\n",
    "    '''\n",
    "    Renvoie le mot obtenu après 'n' dérivations du 'mot' passé en argument\n",
    "    en utilisant des règles données dans le dictionnaire 'regles'.\n",
    "        \n",
    "    Exemple :\n",
    "    >>> regles = { 'A' : 'A+B+' , 'B' : '-A-B' }\n",
    "    >>> deriver('A', 3, regles)\n",
    "    A+B++-A-B++-A+B+--A-B+\n",
    "    \n",
    "    Préconditions :\n",
    "    - mot (str) chaine de caratères définissant le mot initial\n",
    "    - n (int) nombre de dérivation\n",
    "    - regles (dict) dictionnaire \n",
    "    \n",
    "    Postcondition :\n",
    "    Chaine de caractères résultante des n dérivations    \n",
    "    '''\n",
    "    if n == 0 : return mot   # cas de base\n",
    "        \n",
    "    production = \"\"  # chaîne vide\n",
    "    for c in deriver(mot,n-1,regles) :\n",
    "        if c in regles :\n",
    "            production += regles[c]\n",
    "        else :\n",
    "            production += c\n",
    "    return production\n",
    "\n",
    "# test\n",
    "if __name__ == '__main__':\n",
    "    \n",
    "    regles = { 'A' : 'A+B+' , 'B' : '-A-B' }\n",
    "        \n",
    "    print(deriver( 'A', 3, regles))    "
   ]
  },
  {
   "cell_type": "markdown",
   "metadata": {},
   "source": [
    "## De la chaine de caractères au dessin\n",
    "\n",
    "<img src=\"https://ericecmorlaix.github.io/img/ipycanvas-logo.svg\" alt=\"ipycanvas-logo.svg\" width = 15% align='right'>\n",
    "\n",
    "\n",
    "Nous allons maintenant nous intéresser à représenter par un dessin la chaîne de caractères obtenue.\n",
    "\n",
    "Pour cela nous allons utiliser le module ipycanvas de [Martin RENOU](https://github.com/martinRenou) dont la documentation complète est publiée à cette adresse [https://ipycanvas.readthedocs.io/en/latest/](https://ipycanvas.readthedocs.io/en/latest/).\n",
    "\n",
    "\n",
    "Nous allons définir une classe `Dessin` ayant pour attributs :\n",
    "- la longueur des traits ;\n",
    "- l’angle de rotation ;\n",
    "\n",
    "\n",
    "Les méthodes de la classe `Dessin` doivent réaliser toutes les actions possibles :\n",
    "\n",
    "| Caractère | Methode | Action |\n",
    "|:-:|:-:|:-:|\n",
    "| F | trace() | translate de la longueur en traçant un trait | \n",
    "| + | droite() | tourne d'un angle vers la droite|\n",
    "| - | gauche() | tourne d'un angle vers la gauche |\n",
    "| f | deplace() | translate de la longueur sans tracer |\n",
    "| \\[ | empile() | sauvegarde l'état actuel du dessin |\n",
    "| \\] | depile() | restaure l'état précédent du dessin |\n",
    "| B | bourgeon() | dessine un bougeon |\n",
    "\n",
    "\n",
    "Chaque action est enregistrée dans un dictionnaire `commandes` dont les clés d’entrée sont les caractères.\n",
    "\n",
    "L'instanciation d'un nouvel objet de type `Dessin` provoque la création d'un canvas (800x600 pixels) support pour le dessin à produire avec des réglages d'épaisseur (3 pixels) et de couleur ('brown') pour les traits.\n",
    "\n",
    "\n",
    "- Compléter, dans la cellule suivante, selon le cas, les codes ou les commentaires et docstring de définition des attributs et méthodes de la classe `Dessin`"
   ]
  },
  {
   "cell_type": "code",
   "execution_count": 14,
   "metadata": {},
   "outputs": [],
   "source": [
    "# Dépendances\n",
    "from ipycanvas import Canvas, hold_canvas\n",
    "from math import pi\n",
    "\n",
    "\n",
    "# Définition de la classe Dessin\n",
    "class Dessin :\n",
    "\n",
    "    # Constructeur du dessin\n",
    "    def __init__(self, longueur : float, angle : float) :\n",
    "        \n",
    "        # Définition des attributs\n",
    "        self.longueur = longueur        # longueur des traits \n",
    "        self.angle = angle * pi/180     # Angle entré en degrés convertit en radian\n",
    "                \n",
    "        # Dictionnaire des actions associées à chaque caractère\n",
    "        self.commandes = { 'F' : self.trace,\n",
    "                          'f' : self.deplace,\n",
    "                          '+' : self.droite ,\n",
    "                          '-' : self.gauche , \n",
    "                          '[' : self.empile ,\n",
    "                          ']' : self.depile ,\n",
    "                          'B' : self.bourgeon\n",
    "                           }\n",
    "        \n",
    "        # Instanciation du canvas support pour le dessin\n",
    "        self.dessin = Canvas(width=800, height=600)\n",
    "        # Changement d'origine initial au milieu de la base du canvas\n",
    "        self.dessin.translate(self.dessin.width/2, self.dessin.height)\n",
    "        # Réglage initial de l'épaisseur et de la couleur du trait\n",
    "        self.dessin.line_width = 3\n",
    "        self.dessin.stroke_style = 'brown'\n",
    "\n",
    "        \n",
    "    def trace(self) :\n",
    "        '''\n",
    "        dessine un trait long de la valeur de l'attribut longueur\n",
    "        de couleur 'green' et d'épaisseur 3 pixels\n",
    "        et translate l'origine du dessin au bout de ce trait\n",
    "        '''\n",
    "        self.dessin.stroke_line(0, 0, 0, -self.longueur)\n",
    "        self.dessin.translate(0, -self.longueur)\n",
    "        \n",
    "    def deplace(self) :\n",
    "        '''\n",
    "        translate de la valeur de l'attribut longueur sans tracer\n",
    "        '''\n",
    "        self.dessin.translate(0, -self.longueur)\n",
    "        \n",
    "    \n",
    "    def droite(self) :\n",
    "        '''\n",
    "        tourne de la valeur de l'attribut angle vers la droite\n",
    "        '''    \n",
    "        self.dessin.rotate(self.angle)\n",
    "\n",
    "    \n",
    "    def gauche(self) :\n",
    "        '''\n",
    "        tourne de la valeur de l'attribut angle vers la gauche\n",
    "        '''\n",
    "        self.dessin.rotate(-self.angle)\n",
    "       \n",
    "\n",
    "    def empile(self) :\n",
    "        '''\n",
    "        sauvegarde l'état actuel du dessin        \n",
    "        '''\n",
    "        self.dessin.save()\n",
    "        \n",
    "\n",
    "    def depile(self) :\n",
    "        '''\n",
    "        restaure l'état précédent du dessin \n",
    "        '''\n",
    "        self.dessin.restore()\n",
    "        \n",
    "\n",
    "    def bourgeon(self) :\n",
    "        '''\n",
    "        dessine un bourgeon sous forme d'un carré vert plein\n",
    "        de 6 pixels de coté centré sur la position de l'origine actuelle\n",
    "        '''\n",
    "        self.dessin.fill_style = 'green'\n",
    "        self.dessin.fill_rect(-3, 3, 6, -6)\n",
    "       \n",
    "\n",
    "    def dessiner(self, chaine : str) :\n",
    "        '''\n",
    "        lit la chaîne de caractères passée en paramètre\n",
    "        et exécute les commandes correspondantes\n",
    "        ''' \n",
    "        # Affichage du canvas\n",
    "        display(self.dessin)\n",
    "        # Boucle de parcours de la chaine d'instructions pour appeler les méthodes d'actions de dessin\n",
    "        for c in chaine :\n",
    "            self.commandes[c]()"
   ]
  },
  {
   "cell_type": "code",
   "execution_count": 15,
   "metadata": {},
   "outputs": [
    {
     "data": {
      "application/vnd.jupyter.widget-view+json": {
       "model_id": "95a811e594ca4c16a9ad00d04bf7d66e",
       "version_major": 2,
       "version_minor": 0
      },
      "text/plain": [
       "Canvas(height=600, width=800)"
      ]
     },
     "metadata": {},
     "output_type": "display_data"
    }
   ],
   "source": [
    "# Tests\n",
    "if __name__ == '__main__':\n",
    "    \n",
    "    # Fonction d'application \n",
    "    def arbre(n) :\n",
    "        '''\n",
    "        Dessine un arbre avec 'n' niveau de croissance\n",
    "        '''\n",
    "        # Dictionnaire de définition des règles de croissance\n",
    "        regles = {'B' : 'F[[--B][+++B]]F[++FB]---B' , 'F': 'FF' }\n",
    "        \n",
    "        # Appel de la fonction de dérivation\n",
    "        derivation = deriver('B', n, regles)\n",
    "        \n",
    "        # Instanciation d'un nouvel objet de type Dessin\n",
    "        # en fixant ses attributs de longueur à 7 pixels et d'angle à 15°\n",
    "        # et avec un appel de sa méthode dessiner()\n",
    "        # en suivant les instructions de la chaine derivation\n",
    "        # utilisation de hold_canvas() pour optimiser l'affichage\n",
    "        toto = Dessin(7,15)\n",
    "        with hold_canvas(toto.dessin) :\n",
    "            toto.dessiner(derivation)\n",
    "        \n",
    "    # appel de la fonction arbre\n",
    "    arbre(5)            "
   ]
  },
  {
   "cell_type": "markdown",
   "metadata": {},
   "source": [
    "- Tester vos programmes à différents niveaux de dérivation avec les règles et séquences de caractères initiales suivantes : \n",
    "    \n",
    "    1. Arbuste pour longueur = 7 et angle = 15°\n",
    "        - B → F[[-B][+B]]F[+FB]-B\n",
    "        - F → FF\n",
    "        - mot_initial B\n",
    "    \n",
    "    2. Ile de Koch pour longueur = 20/(n+1) et angle = 90°\n",
    "        - F → F-F+F+FF-F-F+F\n",
    "        - mot_initial : F-F-F-F\n",
    "    \n",
    "    3. Iles et Lacs pour longueur = 30/(n+1) et angle = 90°\n",
    "        - F → F+f-FF+F+FF+Ff+FF-f+FF-F-FF-Ff-FFF\n",
    "        - f → ffffff\n",
    "        - mot_initial = F+F+F+F\n",
    "\n",
    "    > Proposer plusieures solutions afin de changer la position initiale de l'origine\n",
    "\n",
    "    "
   ]
  },
  {
   "cell_type": "markdown",
   "metadata": {},
   "source": [
    "- Améliorer le dessin des bourgeons en utilisant la méthode d'ipycanvas [Path2D()](https://ipycanvas.readthedocs.io/en/latest/drawing_paths.html#using-path2d), et pour plus de précisions voir aussi la ressource [Web/SVG/Tutoriel/Paths](https://developer.mozilla.org/fr/docs/Web/SVG/Tutoriel/Paths)"
   ]
  },
  {
   "cell_type": "markdown",
   "metadata": {},
   "source": [
    "- Essayer d'autres séquences de votre création ou extraites de [The Algorithmic Beauty\n",
    "of Plants\n",
    "](http://algorithmicbotany.org/papers/abop/abop.pdf)"
   ]
  },
  {
   "cell_type": "code",
   "execution_count": 16,
   "metadata": {},
   "outputs": [],
   "source": [
    "def arbuste(n) :\n",
    "    regles = {'B' : 'F[[-B][+B]]F[+FB]-B' , 'F': 'FF' }\n",
    "    derivation = deriver('B', n, regles)\n",
    "    Dessin(7,15).dessiner(derivation)"
   ]
  },
  {
   "cell_type": "code",
   "execution_count": 19,
   "metadata": {},
   "outputs": [
    {
     "data": {
      "application/vnd.jupyter.widget-view+json": {
       "model_id": "3cc7952ff9a0406dab8251fc2cc2ca5c",
       "version_major": 2,
       "version_minor": 0
      },
      "text/plain": [
       "Canvas(height=600, width=800)"
      ]
     },
     "metadata": {},
     "output_type": "display_data"
    }
   ],
   "source": [
    "arbuste(4)"
   ]
  },
  {
   "cell_type": "code",
   "execution_count": 8,
   "metadata": {},
   "outputs": [],
   "source": [
    "def ile_de_Koch(n):\n",
    "    regles = {'F': 'F-F+F+FF-F-F+F' }\n",
    "    derivation = '+fff-fff'*2**n + deriver('F-F-F-F', n, regles)\n",
    "    \n",
    "    toto = Dessin(20/(n+1),90)\n",
    "    with hold_canvas(toto.dessin) :\n",
    "        toto.dessiner(derivation)"
   ]
  },
  {
   "cell_type": "code",
   "execution_count": 9,
   "metadata": {},
   "outputs": [
    {
     "data": {
      "application/vnd.jupyter.widget-view+json": {
       "model_id": "fa03ba93587e4a839f17288669f1efd8",
       "version_major": 2,
       "version_minor": 0
      },
      "text/plain": [
       "Canvas(height=600, width=800)"
      ]
     },
     "metadata": {},
     "output_type": "display_data"
    }
   ],
   "source": [
    "ile_de_Koch(3)"
   ]
  },
  {
   "cell_type": "code",
   "execution_count": 22,
   "metadata": {},
   "outputs": [],
   "source": [
    "def iles_et_lacs(n) :\n",
    "    regles = { 'F' : 'F+f-FF+F+FF+Ff+FF-f+FF-F-FF-Ff-FFF', 'f' : 'ffffff'}\n",
    "    derivation = '-fff+ffffff'*2**n + deriver('F+F+F+F', n, regles)\n",
    "    toto = Dessin(20/(n+1), 90)\n",
    "    with hold_canvas(toto.dessin) :\n",
    "        toto.dessiner(derivation)\n",
    "    "
   ]
  },
  {
   "cell_type": "code",
   "execution_count": 23,
   "metadata": {},
   "outputs": [
    {
     "data": {
      "application/vnd.jupyter.widget-view+json": {
       "model_id": "172ea0c3c09a43bf9d672b0a6e1b75fe",
       "version_major": 2,
       "version_minor": 0
      },
      "text/plain": [
       "Canvas(height=600, width=800)"
      ]
     },
     "metadata": {},
     "output_type": "display_data"
    }
   ],
   "source": [
    "iles_et_lacs(2)"
   ]
  },
  {
   "cell_type": "code",
   "execution_count": 24,
   "metadata": {},
   "outputs": [],
   "source": [
    "def koch_curve(n) :\n",
    "    regles = { 'F' : 'F+F-F-F+F'}\n",
    "    derivation = '+fff-f'*2**n + deriver('-F', n, regles)\n",
    "    Dessin(30/(n+1) , 90).dessiner(derivation)"
   ]
  },
  {
   "cell_type": "code",
   "execution_count": 25,
   "metadata": {},
   "outputs": [
    {
     "data": {
      "application/vnd.jupyter.widget-view+json": {
       "model_id": "6d080563a6fc425082deae7214699f16",
       "version_major": 2,
       "version_minor": 0
      },
      "text/plain": [
       "Canvas(height=600, width=800)"
      ]
     },
     "metadata": {},
     "output_type": "display_data"
    }
   ],
   "source": [
    "koch_curve(4)"
   ]
  },
  {
   "cell_type": "code",
   "execution_count": 26,
   "metadata": {},
   "outputs": [],
   "source": [
    "def snowflake(n):\n",
    "    regles = {'F': 'F-F++F-F' } \n",
    "    derivation = '-f+f'*n + deriver('F++F++F', n, regles)\n",
    "    Dessin(100/(n**2+1),60).dessiner(derivation)"
   ]
  },
  {
   "cell_type": "code",
   "execution_count": 27,
   "metadata": {},
   "outputs": [
    {
     "data": {
      "application/vnd.jupyter.widget-view+json": {
       "model_id": "da898164d6d94e9fb77d621c8479f3ce",
       "version_major": 2,
       "version_minor": 0
      },
      "text/plain": [
       "Canvas(height=600, width=800)"
      ]
     },
     "metadata": {},
     "output_type": "display_data"
    }
   ],
   "source": [
    "snowflake(4)"
   ]
  },
  {
   "cell_type": "code",
   "execution_count": 30,
   "metadata": {},
   "outputs": [],
   "source": [
    "# Variante avec Path2D pour améliorer les bourgeons\n",
    "# Dépendances\n",
    "from ipycanvas import Canvas, hold_canvas, Path2D\n",
    "from math import pi\n",
    "\n",
    "\n",
    "# Définition de la classe Dessin\n",
    "class Dessin :\n",
    "\n",
    "    # Constructeur du dessin\n",
    "    def __init__(self, longueur : float, angle : float) :\n",
    "        \n",
    "        # Définition des attributs\n",
    "        self.longueur = longueur        # longueur des traits \n",
    "        self.angle = angle * pi/180     # Angle entré en degrés convertit en radian\n",
    "                \n",
    "        # Dictionnaire des actions associées à chaque caractère\n",
    "        self.commandes = { 'F' : self.trace,\n",
    "                          'f' : self.deplace,\n",
    "                          '+' : self.droite ,\n",
    "                          '-' : self.gauche , \n",
    "                          '[' : self.empile ,\n",
    "                          ']' : self.depile ,\n",
    "                          'B' : self.bourgeon\n",
    "                           }\n",
    "        \n",
    "        # Instanciation du canvas support pour le dessin\n",
    "        self.dessin = Canvas(width=800, height=600)\n",
    "        # Changement d'origine initial au milieu de la base du canvas\n",
    "        self.dessin.translate(self.dessin.width/2, self.dessin.height)\n",
    "        # Réglage initial de l'épaisseur et de la couleur du trait\n",
    "        self.dessin.line_width = 3\n",
    "        self.dessin.stroke_style = 'brown'\n",
    "\n",
    "        \n",
    "    def trace(self) :\n",
    "        '''\n",
    "        dessine un trait long de la valeur de l'attribut longueur\n",
    "        de couleur 'green' et d'épaisseur 3 pixels\n",
    "        et translate l'origine du dessin au bout de ce trait\n",
    "        '''\n",
    "        self.dessin.stroke_line(0, 0, 0, -self.longueur)\n",
    "        self.dessin.translate(0, -self.longueur)\n",
    "        \n",
    "    def deplace(self) :\n",
    "        '''\n",
    "        translate de la valeur de l'attribut longueur sans tracer\n",
    "        '''\n",
    "        self.dessin.translate(0, -self.longueur)\n",
    "        \n",
    "    \n",
    "    def droite(self) :\n",
    "        '''\n",
    "        tourne de la valeur de l'attribut angle vers la droite\n",
    "        '''    \n",
    "        self.dessin.rotate(self.angle)\n",
    "\n",
    "    \n",
    "    def gauche(self) :\n",
    "        '''\n",
    "        tourne de la valeur de l'attribut angle vers la gauche\n",
    "        '''\n",
    "        self.dessin.rotate(-self.angle)\n",
    "       \n",
    "\n",
    "    def empile(self) :\n",
    "        '''\n",
    "        sauvegarde l'état actuel du dessin        \n",
    "        '''\n",
    "        self.dessin.save()\n",
    "        \n",
    "\n",
    "    def depile(self) :\n",
    "        '''\n",
    "        restaure l'état précédent du dessin \n",
    "        '''\n",
    "        self.dessin.restore()\n",
    "        \n",
    "\n",
    "    def bourgeon(self) :\n",
    "        '''\n",
    "        dessine un bourgeon sous forme d'un carré vert plein\n",
    "        de 6 pixels de coté centré sur la position de l'origine actuelle\n",
    "        '''\n",
    "        self.dessin.fill_style = 'green'\n",
    "        # Variante avec Path2D\n",
    "        self.dessin.fill(Path2D('M 0 -12 L 3.46 -6 C 3.82 -5.39 4 -4.7 4 -4 C 4 -1.79 2.21 0 0 0 C -2.21 0 -4 -1.79 -4 -4 C -4 -4.7 -3.82 -5.39 -3.46 -6 Z'))\n",
    "\n",
    "    \n",
    "    def dessiner(self, chaine : str) :\n",
    "        '''\n",
    "        lit la chaîne de caractères passée en paramètre\n",
    "        et exécute les commandes correspondantes\n",
    "        ''' \n",
    "        # Affichage du canvas\n",
    "        display(self.dessin)\n",
    "        # Boucle de parcours de la chaine d'instructions pour appeler les méthodes d'actions de dessin\n",
    "        for c in chaine :\n",
    "            self.commandes[c]()"
   ]
  },
  {
   "cell_type": "code",
   "execution_count": 31,
   "metadata": {},
   "outputs": [
    {
     "data": {
      "application/vnd.jupyter.widget-view+json": {
       "model_id": "6bfac209d6ea4a02b3d261c0b21bcf8b",
       "version_major": 2,
       "version_minor": 0
      },
      "text/plain": [
       "Canvas(height=600, width=800)"
      ]
     },
     "metadata": {},
     "output_type": "display_data"
    }
   ],
   "source": [
    "# Variante avec Path2D pour améliorer les bourgeons\n",
    "# Attention le temps de calcul avant l'affichage est long.\n",
    "# Il faudrait trouver d'autres solutions plus rapides pour les bourgeons et feuilles...\n",
    "# Tests\n",
    "if __name__ == '__main__':\n",
    "    \n",
    "    # Fonction d'application \n",
    "    def arbre(n) :\n",
    "        '''\n",
    "        Dessine un arbre avec 'n' niveau de croissance\n",
    "        '''\n",
    "        # Dictionnaire de définition des règles de croissance\n",
    "        regles = {'B' : 'F[[--B][+++B]]F[++FB]---B' , 'F': 'FF' }\n",
    "        \n",
    "        # Appel de la fonction de dérivation\n",
    "        derivation = deriver('B', n, regles)\n",
    "        \n",
    "        # Instanciation d'un nouvel objet de type Dessin\n",
    "        # en fixant ses attributs de longueur à 7 pixels et d'angle à 15°\n",
    "        # et avec un appel de sa méthode dessiner()\n",
    "        # en suivant les instructions de la chaine derivation\n",
    "        # utilisation de hold_canvas() pour optimiser l'affichage\n",
    "        toto = Dessin(7,15)\n",
    "        with hold_canvas(toto.dessin) :\n",
    "            toto.dessiner(derivation)\n",
    "        \n",
    "    # appel de la fonction arbre\n",
    "    arbre(5)            "
   ]
  },
  {
   "cell_type": "markdown",
   "metadata": {},
   "source": [
    "## Ressources :\n",
    "### ipycanvas :\n",
    "- https://blog.jupyter.org/ipycanvas-a-python-canvas-for-jupyter-bbb51e4777f7\n",
    "- https://github.com/martinRenou/ipycanvas/\n",
    "- https://ipycanvas.readthedocs.io/en/latest/?badge=latest\n",
    "\n",
    "### L-systèmes :\n",
    "- [L-Système - wikipedia](https://fr.wikipedia.org/wiki/L-Syst%C3%A8me)\n",
    "- [L-systèmes: les équations des plantes - Accromath](http://accromath.uqam.ca/2013/09/l-systemes-les-equations-des-plantes/)\n",
    "- [The Algorithmic Beauty of Plants](http://algorithmicbotany.org/papers/abop/abop.pdf)\n",
    "- https://mathcurve.com/fractals/lsysteme/lsysteme.shtml\n",
    "- http://www.kevs3d.co.uk/dev/lsystems/"
   ]
  },
  {
   "cell_type": "markdown",
   "metadata": {},
   "source": [
    "<a rel=\"license\" href=\"http://creativecommons.org/licenses/by-sa/4.0/\"><img alt=\"Licence Creative Commons\" style=\"border-width:0\" src=\"https://i.creativecommons.org/l/by-sa/4.0/88x31.png\" /></a><br />Ce document est l'adaptation d'une proposition de Martin CANALS pour une réalisation avec le module `ipycanvas` de [Martin RENOU](https://github.com/martinRenou) ingénieur logiciel scientifique chez [QuantStack](https://quantstack.net/index.html). Il est mis à disposition selon les termes de la <a rel=\"license\" href=\"http://creativecommons.org/licenses/by-sa/4.0/\">Licence Creative Commons Attribution -  Partage dans les Mêmes Conditions 4.0 International</a>.\n",
    "\n",
    "Pour toute question, suggestion ou commentaire : <a href=\"mailto:eric.madec@ecmorlaix.fr\">eric.madec@ecmorlaix.fr</a>"
   ]
  }
 ],
 "metadata": {
  "kernelspec": {
   "display_name": "Python 3 (ipykernel)",
   "language": "python",
   "name": "python3"
  },
  "language_info": {
   "codemirror_mode": {
    "name": "ipython",
    "version": 3
   },
   "file_extension": ".py",
   "mimetype": "text/x-python",
   "name": "python",
   "nbconvert_exporter": "python",
   "pygments_lexer": "ipython3",
   "version": "3.10.1"
  },
  "toc": {
   "base_numbering": 1,
   "nav_menu": {},
   "number_sections": true,
   "sideBar": true,
   "skip_h1_title": false,
   "title_cell": "Table of Contents",
   "title_sidebar": "Contents",
   "toc_cell": false,
   "toc_position": {},
   "toc_section_display": true,
   "toc_window_display": false
  },
  "varInspector": {
   "cols": {
    "lenName": 16,
    "lenType": 16,
    "lenVar": 40
   },
   "kernels_config": {
    "python": {
     "delete_cmd_postfix": "",
     "delete_cmd_prefix": "del ",
     "library": "var_list.py",
     "varRefreshCmd": "print(var_dic_list())"
    },
    "r": {
     "delete_cmd_postfix": ") ",
     "delete_cmd_prefix": "rm(",
     "library": "var_list.r",
     "varRefreshCmd": "cat(var_dic_list()) "
    }
   },
   "types_to_exclude": [
    "module",
    "function",
    "builtin_function_or_method",
    "instance",
    "_Feature"
   ],
   "window_display": false
  }
 },
 "nbformat": 4,
 "nbformat_minor": 4
}
