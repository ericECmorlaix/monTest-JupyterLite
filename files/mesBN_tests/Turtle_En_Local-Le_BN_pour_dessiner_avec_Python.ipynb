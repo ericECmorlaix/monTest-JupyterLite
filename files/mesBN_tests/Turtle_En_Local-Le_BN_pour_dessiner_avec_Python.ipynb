{
 "cells": [
  {
   "cell_type": "markdown",
   "metadata": {
    "collapsed": true
   },
   "source": [
    "# Le Bloc Note pour dessiner avec Python et turtle en local\n",
    "\n",
    "\n",
    "Le module turtle est un ensemble d’outils permettant de dessiner à l’aide d’instructions simples comme Scratch \n",
    "\n",
    "Il faut au début importer le module ***turtle*** avec   \n",
    "\n",
    "```python\n",
    "from  turtle import *\n",
    "```\n",
    "\n",
    "Les principales fonctions du module turtle sont :\n",
    "\n",
    "commande | $~$ \n",
    ":---- | :-----  \n",
    "$\\bullet$ ***reset()*** | On efface tout et on recommence  \n",
    "$\\bullet$ ***goto(x,y)*** | Aller à l’endroit de coordonnées x et y  \n",
    "$\\bullet$ ***forward(distance)*** | Avancer d’une distance donnée\n",
    "$\\bullet$ ***backward(distance)*** | Reculer  \n",
    "$\\bullet$ ***up()***  |  Relever le crayon (pour pouvoir avancer sans dessiner)  \n",
    "$\\bullet$ ***down()***  | Abaisser le crayon (pour pouvoir recommencer à dessiner)  \n",
    "$\\bullet$ ***color(couleur)*** |  Couleur peut être une chaîne prédéfinie (’red’, ’blue’, ’green’, etc.)  \n",
    "$\\bullet$ ***left(angle)***  | Tourner à gauche d’un angle donné (exprimé en degré)  \n",
    "$\\bullet$ ***right(angle)***  | Tourner à droite  \n",
    "$\\bullet$ ***width(épaisseur)***  | Choisir l’épaisseur du tracé  \n",
    "$\\bullet$ ***fill(1)***  | Remplir un contour fermé à l’aide de la couleur sélectionnée (on termine la construction par fill(0))  \n",
    "$\\bullet$ ***write(texte)***  |  texte doit être une chaîne de caractères délimitée avec des \" ou des ’\n",
    "\n",
    "Voici un exemple du brevet :"
   ]
  },
  {
   "cell_type": "code",
   "execution_count": 2,
   "metadata": {
    "collapsed": true
   },
   "outputs": [],
   "source": [
    "from  turtle  import *  #On importe le module\n",
    "def triangle(n):        #On définit une fonction triangle\n",
    "    down()              #stylo en position écriture\n",
    "    for i in range(3):  #Pour i allant de 0 à 3 faire\n",
    "        forward(n)      #On avance de n\n",
    "        left(120)       #On tourne à gauche de 120°\n",
    "    up()                #On releve le stylo\n",
    "\n",
    "def draw():\n",
    "    reset()             #On efface tout\n",
    "    color('blue')       #On met la couleur bleue\n",
    "    up()                #stylo en position écriture\n",
    "    goto(-200,-100)     #On va au point de coordonnées (-200,-100)\n",
    "    down()              #stylo en position écriture\n",
    "    cote=100            #cote prend la valeur 100\n",
    "    for i in range (5): #Pour i allant de 0 à 4 faire\n",
    "        triangle(cote)\n",
    "        forward(cote)   #On avance de cote\n",
    "        cote=cote-20    #cote prend la valeur cote-20\n",
    "\n",
    "write(\"Appuyez sur la touche entrer\")\n",
    "onkey(draw, \"Return\")   # Si on appuie sur la touche  Entrer on exécute la fonction draw\n",
    "onkey(bye, \"Escape\" )   # bye() est une fonction interne de turtle.\n",
    "listen()                #On écoute pour savoir s'il y a des évènements.\n",
    "mainloop()              # Le programme fonctionne en boucle"
   ]
  },
  {
   "cell_type": "markdown",
   "metadata": {},
   "source": [
    "## Ressources :\n",
    "\n",
    " - https://zestedesavoir.com/tutoriels/944/a-la-decouverte-de-turtle/"
   ]
  },
  {
   "cell_type": "code",
   "execution_count": null,
   "metadata": {
    "collapsed": true
   },
   "outputs": [],
   "source": []
  }
 ],
 "metadata": {
  "kernelspec": {
   "display_name": "Python 3",
   "language": "python",
   "name": "python3"
  },
  "language_info": {
   "codemirror_mode": {
    "name": "ipython",
    "version": 3
   },
   "file_extension": ".py",
   "mimetype": "text/x-python",
   "name": "python",
   "nbconvert_exporter": "python",
   "pygments_lexer": "ipython3",
   "version": "3.7.3"
  },
  "toc": {
   "base_numbering": 1,
   "nav_menu": {},
   "number_sections": true,
   "sideBar": true,
   "skip_h1_title": false,
   "title_cell": "Table of Contents",
   "title_sidebar": "Contents",
   "toc_cell": false,
   "toc_position": {},
   "toc_section_display": true,
   "toc_window_display": false
  },
  "varInspector": {
   "cols": {
    "lenName": 16,
    "lenType": 16,
    "lenVar": 40
   },
   "kernels_config": {
    "python": {
     "delete_cmd_postfix": "",
     "delete_cmd_prefix": "del ",
     "library": "var_list.py",
     "varRefreshCmd": "print(var_dic_list())"
    },
    "r": {
     "delete_cmd_postfix": ") ",
     "delete_cmd_prefix": "rm(",
     "library": "var_list.r",
     "varRefreshCmd": "cat(var_dic_list()) "
    }
   },
   "types_to_exclude": [
    "module",
    "function",
    "builtin_function_or_method",
    "instance",
    "_Feature"
   ],
   "window_display": false
  }
 },
 "nbformat": 4,
 "nbformat_minor": 2
}
