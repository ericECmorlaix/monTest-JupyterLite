{
 "cells": [
  {
   "cell_type": "markdown",
   "metadata": {},
   "source": [
    "# Mini-projet : \"Fractals_trees\"\n",
    "\n",
    "\n",
    "## But :\n",
    "\n",
    "On souhaite écrire un programme qui permet de générer un dessin paramétré éventuellement interactif et/ou animé d'un arbre fractal dans un notebook jupyter.\n",
    " \n",
    "    \n",
    "<img src=\"https://ericecmorlaix.github.io/img/fractals_trees-arbre_asymetrique.png\" alt=\"arbre fractal assymetrique.png\" width = 70% >\n",
    "\n",
    "On utilisera pour cela le module **`ipycanvas`** de [Martin RENOU](https://github.com/martinRenou) :\n",
    "\n",
    "<img src=\"https://ericecmorlaix.github.io/img/ipycanvas-logo.svg\" alt=\"ipycanvas-logo.svg\" width = 25%>\n",
    "\n",
    "\n",
    "Si vous ne connaissez pas ce module, il vous faut donc préalablement le prendre en main en faisant, par exemple, les activités de [ipycanvas-Le_BN_pour_dessiner.ipynb\n",
    "](ipycanvas-Le_BN_pour_dessiner.ipynb)...\n",
    "\n",
    "## Qu'est-ce qu'une figure fractale?\n",
    "\n",
    "\"Une courbe ou une figure géométrique, dont chaque partie a le même caractère statistique que l'ensemble.\"\n",
    "\n",
    "> voir aussi : https://fr.wikipedia.org/wiki/Fractale\n",
    "\n",
    "On devine donc ici l'application d'une fonction récursive...\n",
    "\n",
    "- Regarder les quatre premières minutes de la vidéo suivante :"
   ]
  },
  {
   "cell_type": "code",
   "execution_count": 8,
   "metadata": {},
   "outputs": [
    {
     "data": {
      "text/html": [
       "<center>\n",
       "<iframe width=\"560\" height=\"315\" src=\"https://www.youtube-nocookie.com/embed/0jjeOYMjmDU\" frameborder=\"0\" allow=\"accelerometer; autoplay; clipboard-write; encrypted-media; gyroscope; picture-in-picture\" allowfullscreen></iframe>\n",
       "</center>\n"
      ],
      "text/plain": [
       "<IPython.core.display.HTML object>"
      ]
     },
     "metadata": {},
     "output_type": "display_data"
    }
   ],
   "source": [
    "%%HTML\n",
    "<center>\n",
    "<iframe width=\"560\" height=\"315\" src=\"https://www.youtube-nocookie.com/embed/0jjeOYMjmDU\" frameborder=\"0\" allow=\"accelerometer; autoplay; clipboard-write; encrypted-media; gyroscope; picture-in-picture\" allowfullscreen></iframe>\n",
    "</center>"
   ]
  },
  {
   "cell_type": "code",
   "execution_count": 3,
   "metadata": {},
   "outputs": [
    {
     "data": {
      "application/vnd.jupyter.widget-view+json": {
       "model_id": "a16c01d9013e463cafec91c0b817bece",
       "version_major": 2,
       "version_minor": 0
      },
      "text/plain": [
       "Canvas(height=600, width=800)"
      ]
     },
     "metadata": {},
     "output_type": "display_data"
    }
   ],
   "source": [
    "from ipycanvas import Canvas, hold_canvas\n",
    "from math import pi\n",
    "\n",
    "c = Canvas(width=800, height=600)\n",
    "\n",
    "display(c)\n",
    "\n",
    "\n",
    "# Une fonction pour effacer le canvas et redessiner un background\n",
    "def background(couleur : str = 'black') :\n",
    "    '''\n",
    "    Rafraichit le canvas avec un fond de la couleur\n",
    "    'couleur' passée en paramètre et fixée sur `black` par défaut\n",
    "    Préconditions :\n",
    "    - couleur (str) : une chaine de caractères définissant une couleur HTML valide\n",
    "    '''    \n",
    "    c.clear()\n",
    "    c.fill_style = couleur\n",
    "    c.fill_rect(0, 0, c.width, c.height)\n",
    "    \n",
    "def branche(longueur : float) :\n",
    "    '''\n",
    "    Dessine un arbre de façon récursive avec deux branches asymétriques\n",
    "    de longueur de plus en plus petites au bout de chaque nouvelle branche.\n",
    "    Préconditions :\n",
    "    - longueur (float) : un flottant représentant la longueur de la branche\n",
    "    '''\n",
    "    c.stroke_line(0, 0, 0, -longueur)\n",
    "    c.translate(0, -longueur)\n",
    "    if longueur > 5 :\n",
    "        c.save()\n",
    "        c.rotate(pi/10)\n",
    "        branche(longueur*0.75)\n",
    "        c.restore()\n",
    "        c.save()\n",
    "        c.rotate(-pi/5)\n",
    "        branche(longueur*0.75)\n",
    "        c.restore()\n",
    "        \n",
    "    \n",
    "background()\n",
    "\n",
    "c.translate(c.width/2, c.height)\n",
    "\n",
    "c.line_width = 3\n",
    "c.stroke_style = 'red'\n",
    "\n",
    "with hold_canvas(c) :\n",
    "    branche(150)\n",
    "    c.translate(0, -150)\n"
   ]
  },
  {
   "cell_type": "code",
   "execution_count": 9,
   "metadata": {},
   "outputs": [
    {
     "data": {
      "application/vnd.jupyter.widget-view+json": {
       "model_id": "493ca783165041d4acbfe5900a188fea",
       "version_major": 2,
       "version_minor": 0
      },
      "text/plain": [
       "Canvas(height=600, width=800)"
      ]
     },
     "metadata": {},
     "output_type": "display_data"
    }
   ],
   "source": [
    "from ipycanvas import Canvas, hold_canvas\n",
    "from math import pi\n",
    "from time import sleep\n",
    "\n",
    "c = Canvas(width=800, height=600)\n",
    "\n",
    "display(c)\n",
    "\n",
    "\n",
    "# Une fonction pour effacer le canvas et redessiner un background\n",
    "def background(couleur : str = 'black') :\n",
    "    '''\n",
    "    Rafraichit le canvas avec un fond de la couleur\n",
    "    'couleur' passée en paramètre et fixée sur `black` par défaut\n",
    "    Préconditions :\n",
    "    - couleur (str) : une chaine de caractères définissant une couleur HTML valide\n",
    "    '''    \n",
    "    c.clear()\n",
    "    c.fill_style = couleur\n",
    "    c.fill_rect(0, 0, c.width, c.height)\n",
    "    \n",
    "def branche(longueur : float) :\n",
    "    '''\n",
    "    Dessine un arbre de façon récursive avec deux branches asymétriques\n",
    "    de longueur de plus en plus petites au bout de chaque nouvelle branche.\n",
    "    Préconditions :\n",
    "    - longueur (float) : un flottant représentant la longueur de la branche\n",
    "    '''\n",
    "    with hold_canvas(c) :\n",
    "        c.stroke_line(0, 0, 0, -longueur)\n",
    "        c.translate(0, -longueur)\n",
    "    sleep(0.01)\n",
    "    if longueur > 10 :\n",
    "        c.save()\n",
    "        c.rotate(pi/4)\n",
    "        branche(longueur*0.75)\n",
    "        c.restore()\n",
    "        c.save()\n",
    "        c.rotate(-pi/8)\n",
    "        branche(longueur*0.75)\n",
    "        c.restore()\n",
    "        \n",
    "    \n",
    "background()\n",
    "\n",
    "c.translate(c.width/2, c.height)\n",
    "\n",
    "c.line_width = 3\n",
    "c.stroke_style = 'red'\n",
    "\n",
    "\n",
    "branche(150)\n",
    "c.translate(0, -150)\n"
   ]
  },
  {
   "cell_type": "markdown",
   "metadata": {},
   "source": [
    "## Ressources :\n",
    "\n",
    "- https://blog.jupyter.org/ipycanvas-a-python-canvas-for-jupyter-bbb51e4777f7\n",
    "- https://github.com/martinRenou/ipycanvas/\n",
    "- https://ipycanvas.readthedocs.io/en/latest/?badge=latest\n",
    "\n",
    "\n",
    "- https://medium.com/better-programming/learning-p5-js-by-making-fractals-cbdcac5c651e\n",
    "- https://github.com/BenMiriello/fun-with-fractals\n",
    "- https://www.youtube.com/watch?v=0jjeOYMjmDU"
   ]
  }
 ],
 "metadata": {
  "kernelspec": {
   "display_name": "Python 3",
   "language": "python",
   "name": "python3"
  },
  "language_info": {
   "codemirror_mode": {
    "name": "ipython",
    "version": 3
   },
   "file_extension": ".py",
   "mimetype": "text/x-python",
   "name": "python",
   "nbconvert_exporter": "python",
   "pygments_lexer": "ipython3",
   "version": "3.7.3"
  },
  "toc": {
   "base_numbering": 1,
   "nav_menu": {},
   "number_sections": true,
   "sideBar": true,
   "skip_h1_title": false,
   "title_cell": "Table of Contents",
   "title_sidebar": "Contents",
   "toc_cell": false,
   "toc_position": {},
   "toc_section_display": true,
   "toc_window_display": false
  },
  "varInspector": {
   "cols": {
    "lenName": 16,
    "lenType": 16,
    "lenVar": 40
   },
   "kernels_config": {
    "python": {
     "delete_cmd_postfix": "",
     "delete_cmd_prefix": "del ",
     "library": "var_list.py",
     "varRefreshCmd": "print(var_dic_list())"
    },
    "r": {
     "delete_cmd_postfix": ") ",
     "delete_cmd_prefix": "rm(",
     "library": "var_list.r",
     "varRefreshCmd": "cat(var_dic_list()) "
    }
   },
   "types_to_exclude": [
    "module",
    "function",
    "builtin_function_or_method",
    "instance",
    "_Feature"
   ],
   "window_display": false
  }
 },
 "nbformat": 4,
 "nbformat_minor": 4
}
