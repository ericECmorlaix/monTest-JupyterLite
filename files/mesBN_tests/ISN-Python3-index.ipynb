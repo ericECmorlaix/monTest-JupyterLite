{
 "cells": [
  {
   "cell_type": "markdown",
   "metadata": {},
   "source": [
    "Ce document présente une série de Bloc-Notes destinés aux élèves qui suivent l'enseignement d'Informatique et Sciences du Numérique en terminale S au lycée Notre Dame du Mur de Morlaix.\n",
    "<img src=\"https://ericecmorlaix.github.io/img/ECAM-Lycee-Notre-Dame-Du-Mur.png\" alt=\"Logo du Lycee Notre Dame Du Mur\" width=50%>"
   ]
  },
  {
   "cell_type": "markdown",
   "metadata": {},
   "source": [
    "<center><h1>Sommaire</h1></center>\n",
    "\n",
    "## Rapporter avec jupyter notebook\n",
    "\n",
    "L'objectif de cette partie est de vous faire découvrir le potentiel de jupyter notebook pour rédiger rapidement un compte rendu scientifique interactif publiable sur le Web.\n",
    "\n",
    "1. [Introduction](Introduction-Le_BN_pour_explorer.ipynb) - Un bloc-note pour explorer les fonctionnalités de jupyter notebook\n",
    "1. [Markdown](MarkDown-Le_BN_pour_rapporter.ipynb) - Un bloc-note pour découvrir l'écriture d'un document Web en Markdown dans un jupyter notebook\n",
    "1. [Arithmétique](Arithmetique-Le_BN_pour_calculer.ipynb) - Un bloc-note pour faire faire des calculs mathématiques en Python dans un jupyter notebook\n",
    "1. [HTML](HTML-Le_BN_pour_multimedier.ipynb) - Un bloc-note pour créer un document Web multimédia en HTML dans un jupyter notebook\n",
    "1. [LaTeX](LaTeX-Le_BN_pour_formuler.ipynb) - Un bloc-note pour enrichir un document Web de formules en $\\LaTeX{}$ dans un jupyter notebook"
   ]
  },
  {
   "cell_type": "markdown",
   "metadata": {},
   "source": [
    "## Gérer ses fichiers depuis un environnent jupyter notebook :\n",
    "1. [Terminal](Terminal-Un_BN_pour_la_ligne_de_commande.ipynb) - Un bloc-note pour débuter en ligne de commande dans jupyter notebook.\n",
    "1. [Git](Git-Un_BN_pour_gerer_un_depot_GitHub.ipynb) - Un bloc-note pour pour gérer vos dépots GitHub.\n",
    "1. Avec [Microsoft Azure Notebook](https://notebooks.azure.com/) suivre l'exemple de [Tony HIRST](https://notebooks.azure.com/OUsefulInfo/projects/gettingstarted)\n",
    "1. Avec [Google Colaboratory](https://colab.research.google.com/notebooks/welcome.ipynb)"
   ]
  },
  {
   "cell_type": "markdown",
   "metadata": {},
   "source": [
    "## Programmer en Python 3 dans jupyter notebook :\n",
    "\n",
    "L'objectif est de présenter ici le potentiel de jupyter notebook pour faire l'apprentissage d'un langage de programmation tel que Python 3 et pour développer une application informatique\n",
    "\n",
    "1. [Initiation](ISN-Python3-Initiation.ipynb) - Un bloc-note pour s'initier à la programmation scientifique en Python 3.\n",
    "1. _**(En Construction )**_ [Chaine](ISN-Python3-Chaine.ipynb) - Un bloc-note pour faire du traitement de chaines de caractères alphanumériques en Python 3.\n",
    "1. _**(En Construction )**_ [Image](ISN-Python3-Image.ipynb) - Un bloc-note pour faire du traitement d'image en Python 3.\n",
    "1. _**(En Construction )**_ [Son](ISN-Python3-Son.ipynb) - Un bloc-note pour faire du traitement de son en Python 3.\n",
    "1. _**(En Construction )**_ [Flask](ISN-Python3-Flask.ipynb) - Un bloc-note pour créer un serveur Web en Python 3."
   ]
  },
  {
   "cell_type": "markdown",
   "metadata": {},
   "source": [
    "## IOT, Robotique, Réseaux et Communication :\n",
    "1. [BBC microbit](BBCmicrobit-Un_BN_Pour_MicroPython.ipynb) - Un Bloc Note pour expérimenter MicroPython sur BBC micro:bit.\n",
    "1. [CPX](CPX-Un_BN_Pour_CircuitPython.ipynb)- Un Bloc Note pour expérimenter CircuitPython sur Circuit Playground Express.\n",
    "1. [NetWork](Network-Un_BN_pour_la_communication_en_reseau.ipynb)- Un Bloc Note pour expérimenter la communication en réseau entre PC et Raspberry Pi."
   ]
  },
  {
   "cell_type": "markdown",
   "metadata": {},
   "source": [
    "## Autres fonctionnalités de jupyter notebook :\n",
    "\n",
    "1.  _**(En Construction )**_ [ipywidgets](ipywidgets_Le_BN_interactif.ipynb) - Un bloc-note pour ajouter de l'interraction avec des widgets.\n",
    "1. [P5.js](ScriptP5js.ipynb) - Un bloc-note pour tester des Scripts P5js dans jupyter notebook.\n",
    "1. [iPyturtle](iPyturtle-Un_BN_pour_la_Tortue.ipynb) - Un bloc-note pour dessiner avec Python3 et iPyturtle en ligne.\n",
    "1. [Turtle](Turtle_En_Local-Le_BN_pour_dessiner_avec_Python.ipynb) - Un bloc-note pour dessiner avec Python3 et Turtle en local.\n",
    "\n"
   ]
  },
  {
   "cell_type": "markdown",
   "metadata": {},
   "source": [
    "## Liens pour explorer vers l'infini et au délà...\n",
    "- https://try.jupyter.org/\n",
    "- http://nbviewer.jupyter.org/\n",
    "\n"
   ]
  },
  {
   "cell_type": "markdown",
   "metadata": {},
   "source": [
    "<img src=\"https://ericecmorlaix.github.io/img/ECAM-Logo.png\" alt=\"Logo de l'ECA.M\" width=50%>"
   ]
  },
  {
   "cell_type": "markdown",
   "metadata": {
    "collapsed": true
   },
   "source": [
    "<a rel=\"license\" href=\"http://creativecommons.org/licenses/by-sa/4.0/\"><img alt=\"Licence Creative Commons\" style=\"border-width:0\" src=\"https://i.creativecommons.org/l/by-sa/4.0/88x31.png\" /></a><br />Ce document est mis à disposition selon les termes de la <a rel=\"license\" href=\"http://creativecommons.org/licenses/by-sa/4.0/\">Licence Creative Commons Attribution -  Partage dans les Mêmes Conditions 4.0 International</a>.\n",
    "\n",
    "Pour toute question, suggestion ou commentaire : <a href=\"mailto:eric.madec@ecmorlaix.fr\">eric.madec@ecmorlaix.fr</a>"
   ]
  }
 ],
 "metadata": {
  "kernelspec": {
   "display_name": "Python 3",
   "language": "python",
   "name": "python3"
  },
  "language_info": {
   "codemirror_mode": {
    "name": "ipython",
    "version": 3
   },
   "file_extension": ".py",
   "mimetype": "text/x-python",
   "name": "python",
   "nbconvert_exporter": "python",
   "pygments_lexer": "ipython3",
   "version": "3.7.3"
  }
 },
 "nbformat": 4,
 "nbformat_minor": 2
}
